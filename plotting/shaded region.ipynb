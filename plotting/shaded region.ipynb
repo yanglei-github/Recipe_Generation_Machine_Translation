{
 "cells": [
  {
   "cell_type": "code",
   "execution_count": 3,
   "metadata": {},
   "outputs": [
    {
     "name": "stdout",
     "output_type": "stream",
     "text": [
      "Using matplotlib backend: Qt5Agg\n"
     ]
    }
   ],
   "source": [
    "import matplotlib.pyplot as plt\n",
    "#需要加上下面的代码才能正常显示图片\n",
    "%matplotlib\n",
    "# Data\n",
    "x =  [0,1,2,3,4,5,6,7,8,9]\n",
    "y1 = [10,20,40,55,58,55,50,40,20,10]\n",
    "y2 = [10.8,5.7,50,77,82,77,51,41,21,11]\n",
    "\n",
    "# Shade the area between y1 and y2\n",
    "plt.fill_between(x, y1, y2,\n",
    "                 facecolor=\"orange\", # The fill color\n",
    "                 color='blue',       # The outline color\n",
    "                 alpha=0.2)          # Transparency of the fill\n",
    "\n",
    "# Show the plot\n",
    "plt.show()"
   ]
  },
  {
   "cell_type": "code",
   "execution_count": 12,
   "metadata": {},
   "outputs": [],
   "source": [
    "#on attention with gru\n",
    "results = {'training_loss1': [6.9, 5.261, 4.896, 4.699, 4.408, 4.238, 4.114, 3.902, 3.823, 3.727, 3.621, 3.553, 3.516, 3.452, 3.42, 3.362, 3.279, 3.282, 3.224, 3.199], \n",
    "'validation_loss1': [6.049, 5.443, 5.28, 5.017, 4.843, 4.684, 4.515, 4.437, 4.334, 4.252, 4.211, 4.144, 4.129, 4.092, 4.056, 4.078, 4.054, 3.995, 4.012, 3.994],\n",
    "'training_loss2': [7.031, 5.294, 4.948, 4.745, 4.434, 4.23, 4.041, 3.915, 3.784, 3.698, 3.619, 3.562, 3.486, 3.449, 3.402, 3.314, 3.273, 3.217, 3.229, 3.153], \n",
    "'validation_loss2': [6.153, 5.422, 5.297, 4.998, 4.824, 4.652, 4.469, 4.396, 4.294, 4.276, 4.18, 4.168, 4.119, 4.102, 4.074, 4.044, 4.014, 4.002, 3.986, 3.985]}"
   ]
  },
  {
   "cell_type": "code",
   "execution_count": 3,
   "metadata": {},
   "outputs": [],
   "source": [
    "#off attention results\n",
    "results = {'training_loss1': [2.1154694071174536, 1.6230820676438897, 1.3522613766373528, 1.2174747063452098, 1.1316579051764462, 1.0709138531621656, 1.024321574171691, 0.9876150659660227, 0.9579248997732369, 0.9328829720310875, 0.9110830787887246, 0.8920773737163096, 0.8750851470170758, 0.8597806437341405, 0.8458044388304249, 0.8328277528378016, 0.8208309813630155, 0.809705762739767, 0.7991596250626475, 0.7893439897726179], \n",
    "'validation_loss1': [1.973895183362459, 1.5524161062742534, 1.378723921273884, 1.2801423373975251, 1.2166701994444196, 1.1701302678961503, 1.1415353574250873, 1.1098092806966682, 1.0865066879674008, 1.0706921615098652, 1.0543362316332365, 1.0413239654741788, 1.029486484276621, 1.017956404936941, 1.010169303417206, 1.0032028819385328, 0.9946836314703289, 0.9912391072825382, 0.9848757091321443, 0.981086916672556],\n",
    "'training_loss2': [2.0968251113064924, 1.5812253317483336, 1.3289891259179354, 1.2008315010907633, 1.1169694965718864, 1.0561003756436809, 1.0103599481686485, 0.9747387450486922, 0.9462085452953674, 0.9219351445776124, 0.9009825522815462, 0.8824260516083156, 0.8657574105628363, 0.8506461398542248, 0.8366635034312951, 0.8238856950911158, 0.8120786171993835, 0.8008496606129692, 0.7906920082696958, 0.7806660152333441],\n",
    " 'validation_loss2': [1.9177768581791927, 1.5286686683955946, 1.3648178037844205, 1.267440114523235, 1.2009931401202554, 1.1534886774263884, 1.1190900237936723, 1.091686877451445, 1.0705406289351613, 1.0535669025621917, 1.0369993862352873, 1.0246276265696475, 1.0152296474105433, 1.0037310299120452, 0.9967951661662051, 0.9897520033936752, 0.9857289897768121, 0.9799290619398419, 0.9768994657616866, 0.9726253986358643]}"
   ]
  },
  {
   "cell_type": "code",
   "execution_count": 10,
   "metadata": {},
   "outputs": [],
   "source": [
    "#on attention with lstm\n",
    "results = {'training_loss1': [7.398, 5.899, 5.107, 4.743, 4.467, 4.32, 4.178, 4.057, 3.976, 3.909, 3.821, 3.739, 3.678, 3.673, 3.609, 3.575, 3.541, 3.491, 3.475, 3.448], \n",
    "'validation_loss1': [6.912, 5.827, 5.362, 5.074, 4.872, 4.763, 4.669, 4.572, 4.537, 4.451, 4.396, 4.318, 4.322, 4.275, 4.222, 4.224, 4.195, 4.153, 4.13, 4.138],\n",
    "\n",
    "'training_loss2': [7.448, 5.749, 5.11, 4.732, 4.468, 4.325, 4.11, 4.033, 3.897, 3.793, 3.763, 3.65, 3.608, 3.606, 3.499, 3.493, 3.46, 3.383, 3.349, 3.339], \n",
    "'validation_loss2': [6.793, 5.772, 5.396, 5.111, 4.865, 4.779, 4.621, 4.475, 4.421, 4.319, 4.291, 4.225, 4.173, 4.14, 4.115, 4.101, 4.091, 4.028, 4.018, 4.034]}"
   ]
  },
  {
   "cell_type": "code",
   "execution_count": 7,
   "metadata": {},
   "outputs": [],
   "source": [
    "#off attention in gru\n",
    "results = {'training_loss1': [7.303, 5.961, 4.641, 3.874, 3.487, 3.251, 3.094, 2.962, 2.856, 2.759, 2.676, 2.641, 2.546, 2.515, 2.46, 2.427, 2.369, 2.354, 2.331, 2.271], \n",
    "'validation_loss1': [7.04, 5.67, 4.647, 4.172, 3.956, 3.749, 3.631, 3.591, 3.522, 3.482, 3.455, 3.433, 3.412, 3.406, 3.381, 3.394, 3.402, 3.382, 3.39, 3.412],\n",
    "'training_loss2': [7.418, 6.038, 4.756, 3.963, 3.544, 3.262, 3.079, 2.975, 2.844, 2.79, 2.759, 2.664, 2.58, 2.553, 2.51, 2.459, 2.415, 2.392, 2.368, 2.324], \n",
    "'validation_loss2': [7.203, 5.813, 4.769, 4.263, 3.945, 3.768, 3.64, 3.579, 3.521, 3.48, 3.449, 3.42, 3.409, 3.387, 3.401, 3.404, 3.39, 3.407, 3.403, 3.407]}"
   ]
  },
  {
   "cell_type": "code",
   "execution_count": 3,
   "metadata": {},
   "outputs": [],
   "source": [
    "#off attention in lstm\n",
    "results = {'training_loss1': [7.172, 5.206, 4.378, 4.003, 3.738, 3.588, 3.427, 3.299, 3.234, 3.149, 3.032, 2.961, 2.93, 2.871, 2.815, 2.794, 2.744, 2.726, 2.668, 2.627],\n",
    " 'validation_loss1': [6.385, 5.138, 4.627, 4.4, 4.191, 4.05, 3.958, 3.846, 3.774, 3.699, 3.649, 3.605, 3.577, 3.551, 3.545, 3.528, 3.513, 3.522, 3.477, 3.458],\n",
    "'training_loss2': [7.28, 5.254, 4.409, 4.04, 3.783, 3.591, 3.451, 3.328, 3.218, 3.132, 3.085, 3.016, 2.955, 2.891, 2.835, 2.815, 2.768, 2.729, 2.696, 2.66], \n",
    "'validation_loss2': [6.458, 5.145, 4.672, 4.383, 4.187, 4.052, 3.942, 3.857, 3.779, 3.753, 3.685, 3.644, 3.614, 3.595, 3.555, 3.554, 3.569, 3.527, 3.495, 3.517]}"
   ]
  },
  {
   "cell_type": "code",
   "execution_count": 5,
   "metadata": {},
   "outputs": [],
   "source": [
    "#on attention in gru updated\n",
    "results = {'training_loss1': [7.462, 6.88, 6.168, 5.693, 5.33, 5.005, 4.711, 4.495, 4.196, 3.913, 3.576, 3.346, 3.125, 2.97, 2.849, 2.734, 2.636, 2.542, 2.482, 2.396],\n",
    " 'validation_loss1': [7.58, 6.912, 6.425, 5.971, 5.695, 5.369, 5.143, 4.849, 4.656, 4.356, 4.061, 3.874, 3.754, 3.653, 3.577, 3.529, 3.461, 3.419, 3.405, 3.375],\n",
    "'training_loss2': [7.557, 6.888, 6.295, 5.698, 5.263, 5.017, 4.754, 4.46, 4.052, 3.751, 3.482, 3.29, 3.114, 2.935, 2.81, 2.708, 2.616, 2.49, 2.463, 2.419], \n",
    "'validation_loss2': [7.48, 7.048, 6.45, 5.999, 5.68, 5.418, 5.132, 4.798, 4.484, 4.229, 3.969, 3.843, 3.705, 3.643, 3.56, 3.505, 3.453, 3.446, 3.389, 3.363]}"
   ]
  },
  {
   "cell_type": "code",
   "execution_count": 7,
   "metadata": {},
   "outputs": [],
   "source": [
    "#on attention in lstm updated\n",
    "results = {'training_loss1': [7.329, 5.606, 4.483, 3.99, 3.732, 3.525, 3.333, 3.202, 3.09, 3.018, 2.897, 2.835, 2.751, 2.654, 2.591, 2.541, 2.49, 2.414, 2.36, 2.307], \n",
    "'validation_loss1': [7.032, 5.325, 4.678, 4.344, 4.124, 3.956, 3.849, 3.739, 3.666, 3.581, 3.529, 3.496, 3.426, 3.409, 3.362, 3.359, 3.321, 3.325, 3.308, 3.312],\n",
    "'training_loss2': [7.365, 5.571, 4.427, 3.99, 3.723, 3.473, 3.338, 3.201, 3.095, 2.974, 2.857, 2.782, 2.73, 2.629, 2.566, 2.49, 2.418, 2.352, 2.307, 2.266], \n",
    "'validation_loss2': [6.96, 5.264, 4.655, 4.34, 4.119, 3.944, 3.814, 3.745, 3.637, 3.546, 3.501, 3.432, 3.389, 3.345, 3.33, 3.307, 3.271, 3.26, 3.26, 3.26]}"
   ]
  },
  {
   "cell_type": "code",
   "execution_count": 6,
   "metadata": {},
   "outputs": [],
   "source": [
    "#on attention in lstm updated with dropout 0.5\n",
    "results = {'training_loss1': [7.286, 5.225, 4.177, 3.757, 3.463, 3.318, 3.169, 3.014, 2.903, 2.813, 2.705, 2.611, 2.555, 2.449, 2.382, 2.356, 2.268, 2.216, 2.154, 2.141], \n",
    "'validation_loss1': [6.561, 5.019, 4.436, 4.08, 3.904, 3.784, 3.678, 3.619, 3.544, 3.457, 3.403, 3.354, 3.328, 3.281, 3.251, 3.247, 3.229, 3.219, 3.211, 3.235],\n",
    "'training_loss2': [7.33, 5.557, 4.469, 3.981, 3.692, 3.5, 3.329, 3.158, 3.028, 2.97, 2.86, 2.761, 2.654, 2.597, 2.544, 2.455, 2.353, 2.331, 2.305, 2.249], \n",
    "'validation_loss2': [6.864, 5.261, 4.644, 4.344, 4.118, 3.957, 3.793, 3.711, 3.629, 3.544, 3.477, 3.43, 3.379, 3.35, 3.33, 3.326, 3.303, 3.306, 3.285, 3.27]}"
   ]
  },
  {
   "cell_type": "code",
   "execution_count": 7,
   "metadata": {},
   "outputs": [],
   "source": [
    "#on attention in lstm updated with dropout 0.75\n",
    "results1 = {'training_loss11': [7.322, 5.479, 4.379, 3.919, 3.595, 3.38, 3.25, 3.126, 2.992, 2.881, 2.821, 2.716, 2.622, 2.547, 2.491, 2.403, 2.38, 2.329, 2.283, 2.196], \n",
    "'validation_loss11': [6.818, 5.178, 4.574, 4.267, 4.039, 3.879, 3.76, 3.663, 3.584, 3.524, 3.462, 3.408, 3.367, 3.321, 3.297, 3.286, 3.264, 3.263, 3.262, 3.252],\n",
    "'training_loss22': [7.278, 5.637, 4.439, 3.954, 3.653, 3.454, 3.287, 3.127, 3.009, 2.91, 2.789, 2.716, 2.634, 2.515, 2.503, 2.44, 2.359, 2.333, 2.267, 2.22], \n",
    "'validation_loss22': [6.994, 5.322, 4.648, 4.291, 4.066, 3.889, 3.795, 3.684, 3.596, 3.546, 3.478, 3.408, 3.359, 3.346, 3.294, 3.286, 3.276, 3.274, 3.277, 3.284]}"
   ]
  },
  {
   "cell_type": "code",
   "execution_count": 7,
   "metadata": {},
   "outputs": [],
   "source": [
    "#embedding with lstm copynet\n",
    "results = {'training_loss1': [8.5, 6.0, 4.6, 4.0, 3.7, 3.4, 3.3, 3.2, 3.1, 2.98, 2.88, 2.81, 2.79, 2.70, 2.70, 2.61, 2.57, 2.53, 2.51, 2.45], \n",
    "'validation_loss1': [7.6, 5.6, 4.7, 4.4, 4.2, 4.0, 3.89, 3.81, 3.70, 3.66, 3.60, 3.55, 3.49, 3.48, 3.44, 3.43, 3.42, 3.393, 3.38, 3.36],\n",
    "'training_loss2': [7.278, 5.637, 4.439, 3.954, 3.653, 3.454, 3.287, 3.127, 3.009, 2.91, 2.789, 2.716, 2.634, 2.515, 2.503, 2.44, 2.359, 2.333, 2.267, 2.22], \n",
    "'validation_loss2': [6.994, 5.322, 4.648, 4.291, 4.066, 3.889, 3.795, 3.684, 3.596, 3.546, 3.478, 3.408, 3.359, 3.346, 3.294, 3.286, 3.276, 3.274, 3.277, 3.284]}"
   ]
  },
  {
   "cell_type": "code",
   "execution_count": 4,
   "metadata": {},
   "outputs": [],
   "source": [
    "#lstm in copynet\n",
    "results = {'training_loss1': [7.362, 5.778, 4.505, 3.979, 3.678, 3.465, 3.3, 3.168, 3.058, 2.922, 2.842, 2.756, 2.663, 2.586, 2.536, 2.437, 2.404, 2.365, 2.259, 2.244], \n",
    "'validation_loss1': [7.178, 5.414, 4.668, 4.317, 4.065, 3.926, 3.808, 3.693, 3.627, 3.551, 3.479, 3.447, 3.381, 3.347, 3.321, 3.31, 3.29, 3.286, 3.285, 3.274],\n",
    "'training_loss2': [7.278, 5.637, 4.439, 3.954, 3.653, 3.454, 3.287, 3.127, 3.009, 2.91, 2.789, 2.716, 2.634, 2.515, 2.503, 2.44, 2.359, 2.333, 2.267, 2.22], \n",
    "'validation_loss2': [6.994, 5.322, 4.648, 4.291, 4.066, 3.889, 3.795, 3.684, 3.596, 3.546, 3.478, 3.408, 3.359, 3.346, 3.294, 3.286, 3.276, 3.274, 3.277, 3.284]}"
   ]
  },
  {
   "cell_type": "code",
   "execution_count": null,
   "metadata": {},
   "outputs": [],
   "source": [
    "{'training_loss': [7.724, 6.092, 5.106, 3.749, 3.087, 2.969, 2.88, 2.817, 2.717, 2.653, 2.621, 2.56, 2.526, 2.446, 2.35, 2.353, 2.315, 2.258, 2.217, 2.175], \n",
    " 'validation_loss': [7.307, 6.222, 5.339, 3.917, 3.725, 3.639, 3.572, 3.53, 3.489, 3.46, 3.426, 3.388, 3.387, 3.366, 3.355, 3.34, 3.329, 3.322, 3.344, 3.324]}"
   ]
  },
  {
   "cell_type": "code",
   "execution_count": 1,
   "metadata": {},
   "outputs": [
    {
     "name": "stdout",
     "output_type": "stream",
     "text": [
      "Using matplotlib backend: Qt5Agg\n"
     ]
    }
   ],
   "source": [
    "results = {'training_loss1': [7.724, 6.092, 5.106, 3.749, 3.087, 2.969, 2.88, 2.817, 2.717, 2.653, 2.621, 2.56, 2.526, 2.446, 2.35, 2.353, 2.315, 2.258, 2.217, 2.175], \n",
    "           'validation_loss1': [7.307, 6.222, 5.339, 3.917, 3.725, 3.639, 3.572, 3.53, 3.489, 3.46, 3.426, 3.388, 3.387, 3.366, 3.355, 3.34, 3.329, 3.322, 3.344, 3.324],\n",
    "          'training_loss2': [7.724, 6.092, 5.106, 3.749, 3.087, 2.969, 2.88, 2.817, 2.717, 2.653, 2.621, 2.56, 2.526, 2.446, 2.35, 2.353, 2.315, 2.258, 2.217, 2.175], \n",
    "           'validation_loss2': [7.307, 6.222, 5.339, 3.917, 3.725, 3.639, 3.572, 3.53, 3.489, 3.46, 3.426, 3.388, 3.387, 3.366, 3.355, 3.34, 3.329, 3.322, 3.344, 3.324]}\n",
    "import matplotlib.pyplot as plt\n",
    "#需要加上下面的代码才能正常显示图片\n",
    "%matplotlib\n",
    "# Data\n",
    "plt.xticks([i for i in range(20)])\n",
    "plt.title('Learning curves with shaded region')\n",
    "plt.grid(False)\n",
    "plt.xlim(0,20) \n",
    "plt.xlabel(\"Epochs\")\n",
    "plt.ylabel(\"Loss\")\n",
    "x =  [i for i in range(20)]\n",
    "y1 = results['training_loss1']\n",
    "y2 = results['training_loss2']\n",
    "\n",
    "y3 = results['validation_loss1']\n",
    "y4 = results['validation_loss2']\n",
    "\n",
    "# Shade the area between y1 and y2\n",
    "plt.fill_between(x, y1, y2,\n",
    "                 facecolor=\"green\", # The fill color\n",
    "                 color='green', label='training_loss',     # The outline color\n",
    "                 alpha=0.5)          # Transparency of the fill\n",
    "plt.fill_between(x, y3, y4,\n",
    "                 facecolor=\"red\", # The fill color\n",
    "                 color='red',label='validation_loss',       # The outline color\n",
    "                 alpha=0.5)  \n",
    "# Show the plot\n",
    "#plt.text(20,8,'traing_loss',color = 'green')\n",
    "plt.legend()\n",
    "plt.show()"
   ]
  },
  {
   "cell_type": "code",
   "execution_count": 2,
   "metadata": {},
   "outputs": [
    {
     "name": "stdout",
     "output_type": "stream",
     "text": [
      "Using matplotlib backend: Qt5Agg\n"
     ]
    },
    {
     "ename": "ValueError",
     "evalue": "operands could not be broadcast together with shapes (20,) (5,) ",
     "output_type": "error",
     "traceback": [
      "\u001b[1;31m---------------------------------------------------------------------------\u001b[0m",
      "\u001b[1;31mValueError\u001b[0m                                Traceback (most recent call last)",
      "\u001b[1;32m<ipython-input-2-445a4256f644>\u001b[0m in \u001b[0;36m<module>\u001b[1;34m\u001b[0m\n\u001b[0;32m     20\u001b[0m                  \u001b[0mfacecolor\u001b[0m\u001b[1;33m=\u001b[0m\u001b[1;34m\"green\"\u001b[0m\u001b[1;33m,\u001b[0m \u001b[1;31m# The fill color\u001b[0m\u001b[1;33m\u001b[0m\u001b[1;33m\u001b[0m\u001b[0m\n\u001b[0;32m     21\u001b[0m                  \u001b[0mcolor\u001b[0m\u001b[1;33m=\u001b[0m\u001b[1;34m'green'\u001b[0m\u001b[1;33m,\u001b[0m \u001b[0mlabel\u001b[0m\u001b[1;33m=\u001b[0m\u001b[1;34m'training_loss'\u001b[0m\u001b[1;33m,\u001b[0m     \u001b[1;31m# The outline color\u001b[0m\u001b[1;33m\u001b[0m\u001b[1;33m\u001b[0m\u001b[0m\n\u001b[1;32m---> 22\u001b[1;33m                  alpha=0.5)          # Transparency of the fill\n\u001b[0m\u001b[0;32m     23\u001b[0m plt.fill_between(x, y3, y4,\n\u001b[0;32m     24\u001b[0m                  \u001b[0mfacecolor\u001b[0m\u001b[1;33m=\u001b[0m\u001b[1;34m\"red\"\u001b[0m\u001b[1;33m,\u001b[0m \u001b[1;31m# The fill color\u001b[0m\u001b[1;33m\u001b[0m\u001b[1;33m\u001b[0m\u001b[0m\n",
      "\u001b[1;32m~\\Anaconda3\\envs\\tensorflow\\lib\\site-packages\\matplotlib\\pyplot.py\u001b[0m in \u001b[0;36mfill_between\u001b[1;34m(x, y1, y2, where, interpolate, step, data, **kwargs)\u001b[0m\n\u001b[0;32m   2589\u001b[0m     return gca().fill_between(\n\u001b[0;32m   2590\u001b[0m         \u001b[0mx\u001b[0m\u001b[1;33m,\u001b[0m \u001b[0my1\u001b[0m\u001b[1;33m,\u001b[0m \u001b[0my2\u001b[0m\u001b[1;33m=\u001b[0m\u001b[0my2\u001b[0m\u001b[1;33m,\u001b[0m \u001b[0mwhere\u001b[0m\u001b[1;33m=\u001b[0m\u001b[0mwhere\u001b[0m\u001b[1;33m,\u001b[0m \u001b[0minterpolate\u001b[0m\u001b[1;33m=\u001b[0m\u001b[0minterpolate\u001b[0m\u001b[1;33m,\u001b[0m \u001b[0mstep\u001b[0m\u001b[1;33m=\u001b[0m\u001b[0mstep\u001b[0m\u001b[1;33m,\u001b[0m\u001b[1;33m\u001b[0m\u001b[1;33m\u001b[0m\u001b[0m\n\u001b[1;32m-> 2591\u001b[1;33m         **({\"data\": data} if data is not None else {}), **kwargs)\n\u001b[0m\u001b[0;32m   2592\u001b[0m \u001b[1;33m\u001b[0m\u001b[0m\n\u001b[0;32m   2593\u001b[0m \u001b[1;33m\u001b[0m\u001b[0m\n",
      "\u001b[1;32m~\\Anaconda3\\envs\\tensorflow\\lib\\site-packages\\matplotlib\\__init__.py\u001b[0m in \u001b[0;36minner\u001b[1;34m(ax, data, *args, **kwargs)\u001b[0m\n\u001b[0;32m   1599\u001b[0m     \u001b[1;32mdef\u001b[0m \u001b[0minner\u001b[0m\u001b[1;33m(\u001b[0m\u001b[0max\u001b[0m\u001b[1;33m,\u001b[0m \u001b[1;33m*\u001b[0m\u001b[0margs\u001b[0m\u001b[1;33m,\u001b[0m \u001b[0mdata\u001b[0m\u001b[1;33m=\u001b[0m\u001b[1;32mNone\u001b[0m\u001b[1;33m,\u001b[0m \u001b[1;33m**\u001b[0m\u001b[0mkwargs\u001b[0m\u001b[1;33m)\u001b[0m\u001b[1;33m:\u001b[0m\u001b[1;33m\u001b[0m\u001b[1;33m\u001b[0m\u001b[0m\n\u001b[0;32m   1600\u001b[0m         \u001b[1;32mif\u001b[0m \u001b[0mdata\u001b[0m \u001b[1;32mis\u001b[0m \u001b[1;32mNone\u001b[0m\u001b[1;33m:\u001b[0m\u001b[1;33m\u001b[0m\u001b[1;33m\u001b[0m\u001b[0m\n\u001b[1;32m-> 1601\u001b[1;33m             \u001b[1;32mreturn\u001b[0m \u001b[0mfunc\u001b[0m\u001b[1;33m(\u001b[0m\u001b[0max\u001b[0m\u001b[1;33m,\u001b[0m \u001b[1;33m*\u001b[0m\u001b[0mmap\u001b[0m\u001b[1;33m(\u001b[0m\u001b[0msanitize_sequence\u001b[0m\u001b[1;33m,\u001b[0m \u001b[0margs\u001b[0m\u001b[1;33m)\u001b[0m\u001b[1;33m,\u001b[0m \u001b[1;33m**\u001b[0m\u001b[0mkwargs\u001b[0m\u001b[1;33m)\u001b[0m\u001b[1;33m\u001b[0m\u001b[1;33m\u001b[0m\u001b[0m\n\u001b[0m\u001b[0;32m   1602\u001b[0m \u001b[1;33m\u001b[0m\u001b[0m\n\u001b[0;32m   1603\u001b[0m         \u001b[0mbound\u001b[0m \u001b[1;33m=\u001b[0m \u001b[0mnew_sig\u001b[0m\u001b[1;33m.\u001b[0m\u001b[0mbind\u001b[0m\u001b[1;33m(\u001b[0m\u001b[0max\u001b[0m\u001b[1;33m,\u001b[0m \u001b[1;33m*\u001b[0m\u001b[0margs\u001b[0m\u001b[1;33m,\u001b[0m \u001b[1;33m**\u001b[0m\u001b[0mkwargs\u001b[0m\u001b[1;33m)\u001b[0m\u001b[1;33m\u001b[0m\u001b[1;33m\u001b[0m\u001b[0m\n",
      "\u001b[1;32m~\\Anaconda3\\envs\\tensorflow\\lib\\site-packages\\matplotlib\\axes\\_axes.py\u001b[0m in \u001b[0;36mfill_between\u001b[1;34m(self, x, y1, y2, where, interpolate, step, **kwargs)\u001b[0m\n\u001b[0;32m   5234\u001b[0m             \u001b[0mwhere\u001b[0m \u001b[1;33m=\u001b[0m \u001b[1;32mTrue\u001b[0m\u001b[1;33m\u001b[0m\u001b[1;33m\u001b[0m\u001b[0m\n\u001b[0;32m   5235\u001b[0m         where = where & ~functools.reduce(np.logical_or,\n\u001b[1;32m-> 5236\u001b[1;33m                                           map(np.ma.getmask, [x, y1, y2]))\n\u001b[0m\u001b[0;32m   5237\u001b[0m \u001b[1;33m\u001b[0m\u001b[0m\n\u001b[0;32m   5238\u001b[0m         \u001b[0mx\u001b[0m\u001b[1;33m,\u001b[0m \u001b[0my1\u001b[0m\u001b[1;33m,\u001b[0m \u001b[0my2\u001b[0m \u001b[1;33m=\u001b[0m \u001b[0mnp\u001b[0m\u001b[1;33m.\u001b[0m\u001b[0mbroadcast_arrays\u001b[0m\u001b[1;33m(\u001b[0m\u001b[0mnp\u001b[0m\u001b[1;33m.\u001b[0m\u001b[0matleast_1d\u001b[0m\u001b[1;33m(\u001b[0m\u001b[0mx\u001b[0m\u001b[1;33m)\u001b[0m\u001b[1;33m,\u001b[0m \u001b[0my1\u001b[0m\u001b[1;33m,\u001b[0m \u001b[0my2\u001b[0m\u001b[1;33m)\u001b[0m\u001b[1;33m\u001b[0m\u001b[1;33m\u001b[0m\u001b[0m\n",
      "\u001b[1;31mValueError\u001b[0m: operands could not be broadcast together with shapes (20,) (5,) "
     ]
    }
   ],
   "source": [
    "import matplotlib.pyplot as plt\n",
    "#需要加上下面的代码才能正常显示图片\n",
    "%matplotlib\n",
    "# Data\n",
    "plt.xticks([i for i in range(20)])\n",
    "plt.title('Learning curves with shaded region')\n",
    "plt.grid(False)\n",
    "plt.xlim(0,20) \n",
    "plt.xlabel(\"Epochs\")\n",
    "plt.ylabel(\"Loss\")\n",
    "x =  [i for i in range(20)]\n",
    "y1 = results['training_loss1']\n",
    "y2 = results['training_loss2']\n",
    "\n",
    "y3 = results['validation_loss1']\n",
    "y4 = results['validation_loss2']\n",
    "\n",
    "# Shade the area between y1 and y2\n",
    "plt.fill_between(x, y1, y2,\n",
    "                 facecolor=\"green\", # The fill color\n",
    "                 color='green', label='training_loss',     # The outline color\n",
    "                 alpha=0.5)          # Transparency of the fill\n",
    "plt.fill_between(x, y3, y4,\n",
    "                 facecolor=\"red\", # The fill color\n",
    "                 color='red',label='validation_loss',       # The outline color\n",
    "                 alpha=0.5)  \n",
    "# Show the plot\n",
    "#plt.text(20,8,'traing_loss',color = 'green')\n",
    "plt.legend()\n",
    "plt.show()"
   ]
  },
  {
   "cell_type": "code",
   "execution_count": 7,
   "metadata": {},
   "outputs": [],
   "source": [
    "#off attention in lstm updated with dropout 0.5\n",
    "results = {'training_loss1': [7.254, 5.186, 4.383, 3.987, 3.74, 3.568, 3.399, 3.274, 3.191, 3.098, 3.035, 2.959, 2.873, 2.863, 2.812, 2.749, 2.702, 2.667, 2.659, 2.605], \n",
    "'validation_loss1': [6.387, 5.1, 4.608, 4.317, 4.188, 4.02, 3.909, 3.803, 3.757, 3.691, 3.615, 3.58, 3.558, 3.549, 3.524, 3.53, 3.514, 3.501, 3.491, 3.472],\n",
    "'training_loss2': [7.213, 5.242, 4.43, 3.993, 3.737, 3.595, 3.47, 3.347, 3.231, 3.184, 3.082, 2.998, 2.96, 2.894, 2.828, 2.811, 2.763, 2.7, 2.688, 2.626], \n",
    "'validation_loss2': [6.491, 5.15, 4.638, 4.359, 4.184, 4.047, 3.929, 3.874, 3.786, 3.725, 3.679, 3.651, 3.616, 3.577, 3.56, 3.519, 3.518, 3.482, 3.495, 3.476]}"
   ]
  },
  {
   "cell_type": "code",
   "execution_count": 9,
   "metadata": {},
   "outputs": [],
   "source": [
    "#off attention in lstm updated with dropout 0.75\n",
    "results1 = {'training_loss11': [7.223, 5.128, 4.311, 3.959, 3.669, 3.531, 3.393, 3.282, 3.182, 3.085, 2.995, 2.959, 2.883, 2.822, 2.789, 2.734, 2.722, 2.649, 2.643, 2.596], \n",
    "'validation_loss11': [6.415, 5.075, 4.575, 4.324, 4.1, 3.995, 3.901, 3.799, 3.732, 3.684, 3.634, 3.596, 3.574, 3.546, 3.544, 3.509, 3.495, 3.485, 3.484, 3.477],\n",
    "'training_loss22': [7.273, 5.239, 4.399, 4.023, 3.738, 3.576, 3.456, 3.342, 3.182, 3.133, 3.036, 2.955, 2.913, 2.842, 2.798, 2.755, 2.724, 2.667, 2.628, 2.566], \n",
    "'validation_loss22': [6.582, 5.136, 4.659, 4.394, 4.18, 4.069, 3.955, 3.847, 3.796, 3.715, 3.706, 3.617, 3.604, 3.561, 3.53, 3.52, 3.503, 3.491, 3.483, 3.461]}"
   ]
  },
  {
   "cell_type": "code",
   "execution_count": 10,
   "metadata": {},
   "outputs": [
    {
     "name": "stdout",
     "output_type": "stream",
     "text": [
      "Using matplotlib backend: Qt5Agg\n"
     ]
    }
   ],
   "source": [
    "import matplotlib.pyplot as plt\n",
    "#需要加上下面的代码才能正常显示图片\n",
    "%matplotlib\n",
    "# Data\n",
    "plt.xticks([i for i in range(20)])\n",
    "plt.title('Learning curves with shaded region')\n",
    "plt.grid(False)\n",
    "plt.xlim(0,20) \n",
    "plt.xlabel(\"Epochs\")\n",
    "plt.ylabel(\"Loss\")\n",
    "x =  [i for i in range(20)]\n",
    "y1 = results['training_loss1']\n",
    "y2 = results['training_loss2']\n",
    "y11 = results1['training_loss11']\n",
    "y22 = results1['training_loss22']\n",
    "y3 = results['validation_loss1']\n",
    "y4 = results['validation_loss2']\n",
    "y33 = results1['validation_loss11']\n",
    "y44 = results1['validation_loss22']\n",
    "\n",
    "# Shade the area between y1 and y2\n",
    "plt.fill_between(x, y1, y2,\n",
    "                 facecolor=\"green\", # The fill color\n",
    "                 color='green', label='training_loss_dropout0.5',     # The outline color\n",
    "                 alpha=0.5)          # Transparency of the fill\n",
    "plt.fill_between(x, y3, y4,\n",
    "                 facecolor=\"red\", # The fill color\n",
    "                 color='red',label='validation_loss_dropout0.5',       # The outline color\n",
    "                 alpha=0.5)  \n",
    "plt.fill_between(x, y11, y22,\n",
    "                 facecolor=\"yellow\", # The fill color\n",
    "                 color='yellow',label='training_loss_dropout0.75',       # The outline color\n",
    "                 alpha=0.5) \n",
    "plt.fill_between(x, y33, y44,\n",
    "                 facecolor=\"blue\", # The fill color\n",
    "                 color='blue',label='validation_loss_dropout0.75',       # The outline color\n",
    "                 alpha=0.5)  \n",
    "# Show the plot\n",
    "#plt.text(20,8,'traing_loss',color = 'green')\n",
    "plt.legend()\n",
    "plt.show()"
   ]
  },
  {
   "cell_type": "code",
   "execution_count": 59,
   "metadata": {},
   "outputs": [],
   "source": [
    "import pandas as pd\n",
    "results = {'train':[1,2,3],'validation':[1.1,2.1,2.99]}\n",
    "results = {'train2':[2,1,3],'validation2':[2.1,1.2,2.9]}\n",
    "import matplotlib.pyplot as  plt\n",
    "def plot_learning_curves(history, title=None):\n",
    "    pd.DataFrame(history).plot(figsize=(8,5))\n",
    "    pd.DataFrame(history).plot(figsize=(8,5))\n",
    "    plt.title(title)\n",
    "    plt.grid(True)\n",
    "    plt.xlabel(\"Epochs\")\n",
    "    plt.ylabel(\"Loss\")\n",
    "    plt.gca().set_ylim(0,3) #设置坐标轴范围, x轴范围是epochs的个数\n",
    "    plt.show()\n",
    "plot_learning_curves(results)"
   ]
  },
  {
   "cell_type": "code",
   "execution_count": 36,
   "metadata": {},
   "outputs": [],
   "source": [
    "import matplotlib.pyplot as plt\n",
    "#需要加上下面的代码才能正常显示图片\n",
    "#%matplotlib\n",
    "# Data\n",
    "x =  [0,1,2]\n",
    "y1 = results['train']\n",
    "y2 = results['validation']\n",
    "\n",
    "# Shade the area between y1 and y2\n",
    "plt.fill_between(x, y1, y2,\n",
    "                 facecolor=\"blue\", # The fill color\n",
    "                 color='blue',       # The outline color\n",
    "                 alpha=0.2)          # Transparency of the fill\n",
    "\n",
    "# Show the plot\n",
    "plt.show()"
   ]
  },
  {
   "cell_type": "code",
   "execution_count": 60,
   "metadata": {},
   "outputs": [
    {
     "ename": "KeyError",
     "evalue": "'train'",
     "output_type": "error",
     "traceback": [
      "\u001b[1;31m---------------------------------------------------------------------------\u001b[0m",
      "\u001b[1;31mKeyError\u001b[0m                                  Traceback (most recent call last)",
      "\u001b[1;32m<ipython-input-60-37cdb48dab77>\u001b[0m in \u001b[0;36m<module>\u001b[1;34m\u001b[0m\n\u001b[0;32m      1\u001b[0m \u001b[0mx\u001b[0m \u001b[1;33m=\u001b[0m \u001b[0mnp\u001b[0m\u001b[1;33m.\u001b[0m\u001b[0marray\u001b[0m\u001b[1;33m(\u001b[0m\u001b[1;33m[\u001b[0m\u001b[0mi\u001b[0m \u001b[1;32mfor\u001b[0m \u001b[0mi\u001b[0m \u001b[1;32min\u001b[0m \u001b[0mrange\u001b[0m\u001b[1;33m(\u001b[0m\u001b[1;36m3\u001b[0m\u001b[1;33m)\u001b[0m\u001b[1;33m]\u001b[0m\u001b[1;33m)\u001b[0m\u001b[1;33m\u001b[0m\u001b[1;33m\u001b[0m\u001b[0m\n\u001b[0;32m      2\u001b[0m \u001b[1;33m\u001b[0m\u001b[0m\n\u001b[1;32m----> 3\u001b[1;33m \u001b[0my1\u001b[0m \u001b[1;33m=\u001b[0m \u001b[0mresults\u001b[0m\u001b[1;33m[\u001b[0m\u001b[1;34m'train'\u001b[0m\u001b[1;33m]\u001b[0m \u001b[1;31m# 生成第一条曲线\u001b[0m\u001b[1;33m\u001b[0m\u001b[1;33m\u001b[0m\u001b[0m\n\u001b[0m\u001b[0;32m      4\u001b[0m \u001b[0my2\u001b[0m \u001b[1;33m=\u001b[0m \u001b[0mresults\u001b[0m\u001b[1;33m[\u001b[0m\u001b[1;34m'validation'\u001b[0m\u001b[1;33m]\u001b[0m           \u001b[1;31m# 生成第二条曲线\u001b[0m\u001b[1;33m\u001b[0m\u001b[1;33m\u001b[0m\u001b[0m\n\u001b[0;32m      5\u001b[0m \u001b[0my3\u001b[0m \u001b[1;33m=\u001b[0m \u001b[0mresults\u001b[0m\u001b[1;33m[\u001b[0m\u001b[1;34m'train2'\u001b[0m\u001b[1;33m]\u001b[0m \u001b[1;31m# 生成第一条曲线\u001b[0m\u001b[1;33m\u001b[0m\u001b[1;33m\u001b[0m\u001b[0m\n",
      "\u001b[1;31mKeyError\u001b[0m: 'train'"
     ]
    }
   ],
   "source": [
    "x = np.array([i for i in range(20)])\n",
    "\n",
    "y1 = results['train1'] # 生成第一条曲线\n",
    "y2 = results['train2']           # 生成第二条曲线\n",
    "y3 = results['validation1'] # 生成第一条曲线\n",
    "y4 = results['validation2'] \n",
    "# plt.plot(x, y1, 'g')\n",
    "# plt.plot(x, y2, 'g')\n",
    "plt.fill_between(x, y1, y2, facecolor='green', alpha=0.3)\n",
    "plt.fill_between(x, y3, y4, facecolor='red', alpha=0.3)\n",
    "plt.show()"
   ]
  },
  {
   "cell_type": "code",
   "execution_count": 28,
   "metadata": {},
   "outputs": [],
   "source": [
    "import matplotlib.pyplot as plt\n",
    "import numpy as np\n",
    "\n",
    "plt.clf()\n",
    "\n",
    "# using some dummy data for this example\n",
    "xs = np.arange(0,10,1)\n",
    "ys = np.random.normal(loc=2.0, scale=0.8, size=10)\n",
    "\n",
    "plt.plot(xs,ys)\n",
    "\n",
    "# text is left-aligned\n",
    "plt.text(2,4,'This text starts at point (2,4)')\n",
    "\n",
    "# text is right-aligned\n",
    "plt.text(8,3,'This text ends at point (8,3)',horizontalalignment='right')\n",
    "\n",
    "plt.xticks(np.arange(0,10,1))\n",
    "plt.yticks(np.arange(0,5,0.5))\n",
    "\n",
    "plt.show()"
   ]
  },
  {
   "cell_type": "code",
   "execution_count": null,
   "metadata": {},
   "outputs": [],
   "source": []
  }
 ],
 "metadata": {
  "kernelspec": {
   "display_name": "Python 3",
   "language": "python",
   "name": "python3"
  },
  "language_info": {
   "codemirror_mode": {
    "name": "ipython",
    "version": 3
   },
   "file_extension": ".py",
   "mimetype": "text/x-python",
   "name": "python",
   "nbconvert_exporter": "python",
   "pygments_lexer": "ipython3",
   "version": "3.7.5"
  }
 },
 "nbformat": 4,
 "nbformat_minor": 4
}
