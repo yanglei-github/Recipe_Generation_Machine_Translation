{
  "nbformat": 4,
  "nbformat_minor": 0,
  "metadata": {
    "colab": {
      "name": "recipewithoutattention_try1.ipynb",
      "provenance": []
    },
    "kernelspec": {
      "name": "python3",
      "display_name": "Python 3"
    },
    "accelerator": "GPU"
  },
  "cells": [
    {
      "cell_type": "code",
      "metadata": {
        "id": "QZb2oB3pdZQx",
        "colab_type": "code",
        "colab": {
          "base_uri": "https://localhost:8080/",
          "height": 151
        },
        "outputId": "4b815b8e-8724-4b0d-f145-8a1b6e437ef9"
      },
      "source": [
        "import tensorflow as tf\n",
        "import matplotlib as mpl\n",
        "import matplotlib.pyplot as  plt\n",
        "#%matplotlib inline jupyternotebook中必须加上这句才能显示图片\n",
        "import numpy as np\n",
        "import pandas as pd\n",
        "import sklearn\n",
        "import os\n",
        "import sys\n",
        "import time\n",
        "from tensorflow import keras\n",
        "#import keras\n",
        "print(tf.__version__)\n",
        "print(sys.version_info)\n",
        "for module in mpl, np, pd, sklearn, tf, keras:\n",
        "    print(module.__name__,module.__version__)"
      ],
      "execution_count": 1,
      "outputs": [
        {
          "output_type": "stream",
          "text": [
            "2.2.0\n",
            "sys.version_info(major=3, minor=6, micro=9, releaselevel='final', serial=0)\n",
            "matplotlib 3.2.2\n",
            "numpy 1.18.5\n",
            "pandas 1.0.5\n",
            "sklearn 0.22.2.post1\n",
            "tensorflow 2.2.0\n",
            "tensorflow.keras 2.3.0-tf\n"
          ],
          "name": "stdout"
        }
      ]
    },
    {
      "cell_type": "code",
      "metadata": {
        "id": "rGSQ-Rbounar",
        "colab_type": "code",
        "colab": {}
      },
      "source": [
        "df_clean = pd.read_csv(\"./total_data.csv\" )"
      ],
      "execution_count": 2,
      "outputs": []
    },
    {
      "cell_type": "code",
      "metadata": {
        "id": "mMRW_2mw8cIv",
        "colab_type": "code",
        "colab": {}
      },
      "source": [
        "#---------------------------------------------------------------------------------------\n",
        "given_ingredient = list(df_clean.ingredients)[0:192]\n",
        "\n",
        "\n",
        "#-----------------------------创建评估用词表--------------------------------------------\n",
        "reference_recipe = list(df_clean.recipes)\n",
        "reference_meteor = []\n",
        "references = []\n",
        "reference_list = reference_recipe[0:192]\n",
        "for astr in reference_list:\n",
        "    alist = astr.split(' ')[1:-1]\n",
        "    reference_meteor.append(' '.join(alist))\n",
        "    references.append([alist])"
      ],
      "execution_count": 3,
      "outputs": []
    },
    {
      "cell_type": "code",
      "metadata": {
        "id": "EFUREED88fPe",
        "colab_type": "code",
        "colab": {
          "base_uri": "https://localhost:8080/",
          "height": 70
        },
        "outputId": "cd675b23-966c-477d-de14-cdbbe939b8f5"
      },
      "source": [
        "clean_summaries = list(df_clean.ingredients)\n",
        "clean_texts = list(df_clean.recipes)\n",
        "print(clean_summaries[-1])\n",
        "print(clean_texts[-1])"
      ],
      "execution_count": 4,
      "outputs": [
        {
          "output_type": "stream",
          "text": [
            "<start> egg yolks white sugar eggnog heavy whipping cream vanilla extract white sugar <end>\n",
            "<start> preheat oven to 350 degrees f 175 degrees c . whisk egg yolks and 1 tablespoon sugar together in a bowl until sugar is dissolved . whisk in eggnog , cream , and vanilla extract until thoroughly combined . pour eggnog mixture into 4 ramekins . place ramekins in baking dish pour in enough boiling water to come half way up the sides of ramekins . bake in the preheated oven until set , about 1 hour . cool slightly , cover ramekins with plastic wrap , and refrigerate at least 4 hours . set oven rack about 6 inches from the heat source and preheat the oven s broiler . remove plastic wrap from ramekins . sprinkle 1 tablespoon of sugar in a thin layer over top of each ramekin . brown the sugar using a kitchen torch or under a broiler until golden and caramelized , 30 seconds to 1 minute . <end>\n"
          ],
          "name": "stdout"
        }
      ]
    },
    {
      "cell_type": "code",
      "metadata": {
        "id": "VWC5NlpS8jBl",
        "colab_type": "code",
        "colab": {}
      },
      "source": [
        "sp_dataset = tuple(clean_summaries)\n",
        "en_dataset = tuple(clean_texts)"
      ],
      "execution_count": 5,
      "outputs": []
    },
    {
      "cell_type": "code",
      "metadata": {
        "id": "Zz6DdevyvblD",
        "colab_type": "code",
        "colab": {
          "base_uri": "https://localhost:8080/",
          "height": 195
        },
        "outputId": "344708a1-ca03-4bb2-b91e-fccf4461de52"
      },
      "source": [
        "df_clean.head(5)"
      ],
      "execution_count": 6,
      "outputs": [
        {
          "output_type": "execute_result",
          "data": {
            "text/html": [
              "<div>\n",
              "<style scoped>\n",
              "    .dataframe tbody tr th:only-of-type {\n",
              "        vertical-align: middle;\n",
              "    }\n",
              "\n",
              "    .dataframe tbody tr th {\n",
              "        vertical-align: top;\n",
              "    }\n",
              "\n",
              "    .dataframe thead th {\n",
              "        text-align: right;\n",
              "    }\n",
              "</style>\n",
              "<table border=\"1\" class=\"dataframe\">\n",
              "  <thead>\n",
              "    <tr style=\"text-align: right;\">\n",
              "      <th></th>\n",
              "      <th>ingredients</th>\n",
              "      <th>recipes</th>\n",
              "    </tr>\n",
              "  </thead>\n",
              "  <tbody>\n",
              "    <tr>\n",
              "      <th>0</th>\n",
              "      <td>&lt;start&gt; skinless boneless chicken breast butte...</td>\n",
              "      <td>&lt;start&gt; place the chicken , butter , soup , an...</td>\n",
              "    </tr>\n",
              "    <tr>\n",
              "      <th>1</th>\n",
              "      <td>&lt;start&gt; condensed cream mushroom soup package ...</td>\n",
              "      <td>&lt;start&gt; in a slow cooker , mix cream of mushro...</td>\n",
              "    </tr>\n",
              "    <tr>\n",
              "      <th>2</th>\n",
              "      <td>&lt;start&gt; purpose flour baking soda salt butter ...</td>\n",
              "      <td>&lt;start&gt; preheat oven to 350 degrees f 175 degr...</td>\n",
              "    </tr>\n",
              "    <tr>\n",
              "      <th>3</th>\n",
              "      <td>&lt;start&gt; butter softened white sugar eggs vanil...</td>\n",
              "      <td>&lt;start&gt; in a large bowl , cream together butte...</td>\n",
              "    </tr>\n",
              "    <tr>\n",
              "      <th>4</th>\n",
              "      <td>&lt;start&gt; purpose flour baking soda salt unsalte...</td>\n",
              "      <td>&lt;start&gt; preheat the oven to 325 degrees f 165 ...</td>\n",
              "    </tr>\n",
              "  </tbody>\n",
              "</table>\n",
              "</div>"
            ],
            "text/plain": [
              "                                         ingredients                                            recipes\n",
              "0  <start> skinless boneless chicken breast butte...  <start> place the chicken , butter , soup , an...\n",
              "1  <start> condensed cream mushroom soup package ...  <start> in a slow cooker , mix cream of mushro...\n",
              "2  <start> purpose flour baking soda salt butter ...  <start> preheat oven to 350 degrees f 175 degr...\n",
              "3  <start> butter softened white sugar eggs vanil...  <start> in a large bowl , cream together butte...\n",
              "4  <start> purpose flour baking soda salt unsalte...  <start> preheat the oven to 325 degrees f 165 ..."
            ]
          },
          "metadata": {
            "tags": []
          },
          "execution_count": 6
        }
      ]
    },
    {
      "cell_type": "code",
      "metadata": {
        "id": "sMJhWcl0g551",
        "colab_type": "code",
        "colab": {
          "base_uri": "https://localhost:8080/",
          "height": 34
        },
        "outputId": "f6271686-24cf-4cec-fa37-cf46c4973d83"
      },
      "source": [
        "#将词语式数据转成ID式\n",
        "def tokenizer(lang):\n",
        "    lang_tokenizer = keras.preprocessing.text.Tokenizer(\n",
        "        num_words=None, filters='', split=' ')\n",
        "    lang_tokenizer.fit_on_texts(lang)#统计词频，生成词表\n",
        "    tensor = lang_tokenizer.texts_to_sequences(lang)\n",
        "    tensor = keras.preprocessing.sequence.pad_sequences(tensor, padding='post')#在句子后面做padding\n",
        "    return tensor, lang_tokenizer\n",
        "#不一定要在两个tokenizer里有一样的index\n",
        "input_tensor, input_tokenizer = tokenizer(sp_dataset)\n",
        "output_tensor, output_tokenizer = tokenizer(en_dataset)\n",
        "# print(type(input_tensor))\n",
        "# print(output_tensor.shape)\n",
        "\n",
        "def max_length(tensor):\n",
        "    return max(len(t) for t in tensor)\n",
        "\n",
        "max_length_input = max_length(input_tensor)\n",
        "max_length_output = max_length(output_tensor)\n",
        "print(max_length_input, max_length_output)"
      ],
      "execution_count": 7,
      "outputs": [
        {
          "output_type": "stream",
          "text": [
            "35 216\n"
          ],
          "name": "stdout"
        }
      ]
    },
    {
      "cell_type": "code",
      "metadata": {
        "id": "xmT4DBs_g8A7",
        "colab_type": "code",
        "colab": {
          "base_uri": "https://localhost:8080/",
          "height": 34
        },
        "outputId": "e0cdc436-a4da-4bec-97b2-c4146216d4bb"
      },
      "source": [
        "from sklearn.model_selection import train_test_split\n",
        "input_train, input_eval, output_train, output_eval = train_test_split(input_tensor[192:], output_tensor[192:], test_size=0.01, shuffle=False)\n",
        "\n",
        "len(input_train), len(input_eval), len(output_train), len(output_eval)"
      ],
      "execution_count": 8,
      "outputs": [
        {
          "output_type": "execute_result",
          "data": {
            "text/plain": [
              "(18781, 190, 18781, 190)"
            ]
          },
          "metadata": {
            "tags": []
          },
          "execution_count": 8
        }
      ]
    },
    {
      "cell_type": "code",
      "metadata": {
        "id": "J5g_Dikag-Ku",
        "colab_type": "code",
        "colab": {
          "base_uri": "https://localhost:8080/",
          "height": 1000
        },
        "outputId": "4f856115-d850-4399-e127-06154bf8526b"
      },
      "source": [
        "#验证tokenizer正常工作\n",
        "def convert(example, tokenizer):\n",
        "    for t in example:\n",
        "        if t != 0:\n",
        "            print('%d -- > %s' % (t, tokenizer.index_word[t]))\n",
        "convert(input_train[0], input_tokenizer)\n",
        "print()\n",
        "convert(output_train[0], output_tokenizer)"
      ],
      "execution_count": 9,
      "outputs": [
        {
          "output_type": "stream",
          "text": [
            "1 -- > <start>\n",
            "27 -- > pound\n",
            "5 -- > chopped\n",
            "17 -- > fresh\n",
            "259 -- > broccoli\n",
            "94 -- > cubed\n",
            "103 -- > cooked\n",
            "35 -- > chicken\n",
            "292 -- > meat\n",
            "78 -- > condensed\n",
            "15 -- > cream\n",
            "259 -- > broccoli\n",
            "92 -- > soup\n",
            "14 -- > milk\n",
            "36 -- > shredded\n",
            "72 -- > cheddar\n",
            "11 -- > cheese\n",
            "7 -- > butter\n",
            "62 -- > melted\n",
            "47 -- > dried\n",
            "63 -- > bread\n",
            "124 -- > crumbs\n",
            "2 -- > <end>\n",
            "\n",
            "11 -- > <start>\n",
            "42 -- > preheat\n",
            "17 -- > oven\n",
            "7 -- > to\n",
            "604 -- > 450\n",
            "14 -- > degrees\n",
            "30 -- > f\n",
            "654 -- > 230\n",
            "14 -- > degrees\n",
            "31 -- > c\n",
            "1 -- > .\n",
            "24 -- > place\n",
            "4 -- > the\n",
            "504 -- > broccoli\n",
            "6 -- > in\n",
            "5 -- > a\n",
            "75 -- > saucepan\n",
            "9 -- > with\n",
            "261 -- > enough\n",
            "41 -- > water\n",
            "7 -- > to\n",
            "55 -- > cover\n",
            "1 -- > .\n",
            "78 -- > bring\n",
            "7 -- > to\n",
            "5 -- > a\n",
            "68 -- > boil\n",
            "2 -- > ,\n",
            "3 -- > and\n",
            "33 -- > cook\n",
            "63 -- > 5\n",
            "10 -- > minutes\n",
            "2 -- > ,\n",
            "25 -- > or\n",
            "8 -- > until\n",
            "113 -- > tender\n",
            "1 -- > .\n",
            "103 -- > drain\n",
            "1 -- > .\n",
            "24 -- > place\n",
            "4 -- > the\n",
            "178 -- > cooked\n",
            "504 -- > broccoli\n",
            "6 -- > in\n",
            "5 -- > a\n",
            "290 -- > 9\n",
            "53 -- > inch\n",
            "171 -- > pie\n",
            "249 -- > plate\n",
            "1 -- > .\n",
            "58 -- > top\n",
            "9 -- > with\n",
            "4 -- > the\n",
            "71 -- > chicken\n",
            "1 -- > .\n",
            "6 -- > in\n",
            "5 -- > a\n",
            "21 -- > bowl\n",
            "2 -- > ,\n",
            "28 -- > mix\n",
            "4 -- > the\n",
            "209 -- > soup\n",
            "3 -- > and\n",
            "65 -- > milk\n",
            "2 -- > ,\n",
            "3 -- > and\n",
            "39 -- > pour\n",
            "20 -- > over\n",
            "4 -- > the\n",
            "71 -- > chicken\n",
            "1 -- > .\n",
            "91 -- > sprinkle\n",
            "9 -- > with\n",
            "370 -- > cheddar\n",
            "45 -- > cheese\n",
            "1 -- > .\n",
            "28 -- > mix\n",
            "4 -- > the\n",
            "120 -- > melted\n",
            "37 -- > butter\n",
            "9 -- > with\n",
            "4 -- > the\n",
            "135 -- > bread\n",
            "246 -- > crumbs\n",
            "2 -- > ,\n",
            "3 -- > and\n",
            "91 -- > sprinkle\n",
            "20 -- > over\n",
            "4 -- > the\n",
            "45 -- > cheese\n",
            "1 -- > .\n",
            "40 -- > bake\n",
            "6 -- > in\n",
            "4 -- > the\n",
            "54 -- > preheated\n",
            "17 -- > oven\n",
            "18 -- > for\n",
            "96 -- > 15\n",
            "10 -- > minutes\n",
            "2 -- > ,\n",
            "25 -- > or\n",
            "8 -- > until\n",
            "495 -- > bubbly\n",
            "3 -- > and\n",
            "77 -- > lightly\n",
            "60 -- > brown\n",
            "1 -- > .\n",
            "12 -- > <end>\n"
          ],
          "name": "stdout"
        }
      ]
    },
    {
      "cell_type": "code",
      "metadata": {
        "id": "t3hF2WGnhDGn",
        "colab_type": "code",
        "colab": {}
      },
      "source": [
        "batch_size = 64\n",
        "epochs = 20\n",
        "dataset = tf.data.Dataset.from_tensor_slices((input_train, output_train))\n",
        "train_dataset = dataset.repeat(epochs).batch(batch_size, drop_remainder= True)\n",
        "#24000\n",
        "train_dataset = train_dataset.shuffle(10000)\n",
        "eval_dataset = tf.data.Dataset.from_tensor_slices((input_eval, output_eval))\n",
        "eval_dataset = eval_dataset.repeat(epochs).batch(batch_size, drop_remainder= True)"
      ],
      "execution_count": 10,
      "outputs": []
    },
    {
      "cell_type": "code",
      "metadata": {
        "id": "bm6O5Bt9hDKH",
        "colab_type": "code",
        "colab": {
          "base_uri": "https://localhost:8080/",
          "height": 319
        },
        "outputId": "70ae02eb-7c21-4234-84f6-ca54825461d9"
      },
      "source": [
        "for x, y in train_dataset.take(1):\n",
        "    print(x.shape)\n",
        "    print(y.shape)\n",
        "    print(x)\n",
        "    print(y)"
      ],
      "execution_count": 11,
      "outputs": [
        {
          "output_type": "stream",
          "text": [
            "(64, 35)\n",
            "(64, 216)\n",
            "tf.Tensor(\n",
            "[[  1  51 109 ...   0   0   0]\n",
            " [  1  20  12 ...   0   0   0]\n",
            " [  1  16  50 ...   0   0   0]\n",
            " ...\n",
            " [  1  46 111 ...   0   0   0]\n",
            " [  1 452 588 ...   0   0   0]\n",
            " [  1 283   6 ...   0   0   0]], shape=(64, 35), dtype=int32)\n",
            "tf.Tensor(\n",
            "[[ 11  42  17 ...   0   0   0]\n",
            " [ 11  28   4 ...   0   0   0]\n",
            " [ 11  42  17 ...   0   0   0]\n",
            " ...\n",
            " [ 11 169   4 ...   0   0   0]\n",
            " [ 11  52 441 ...   0   0   0]\n",
            " [ 11   6   5 ...   0   0   0]], shape=(64, 216), dtype=int32)\n"
          ],
          "name": "stdout"
        }
      ]
    },
    {
      "cell_type": "code",
      "metadata": {
        "id": "s_p9qyyGhDM7",
        "colab_type": "code",
        "colab": {
          "base_uri": "https://localhost:8080/",
          "height": 34
        },
        "outputId": "fa985803-dd48-4951-d6f1-019fdec6d168"
      },
      "source": [
        "embedding_units = 256\n",
        "units = 256\n",
        "#input_tokenizer.word_index是个字典\n",
        "input_vocab_size = len(input_tokenizer.word_index) + 1\n",
        "output_vocab_size = len(output_tokenizer.word_index) + 1\n",
        "print(input_vocab_size,output_vocab_size)"
      ],
      "execution_count": 12,
      "outputs": [
        {
          "output_type": "stream",
          "text": [
            "3492 6728\n"
          ],
          "name": "stdout"
        }
      ]
    },
    {
      "cell_type": "code",
      "metadata": {
        "id": "KZ7FayS3hDPY",
        "colab_type": "code",
        "colab": {
          "base_uri": "https://localhost:8080/",
          "height": 50
        },
        "outputId": "36fbfd98-9a1a-45ee-dcc8-26b15eb78dbe"
      },
      "source": [
        "class Encoder(keras.Model):\n",
        "    def __init__(self, vocab_size, embedding_units, encoding_units, batch_size):\n",
        "        super(Encoder, self).__init__()\n",
        "        self.batch_size = batch_size\n",
        "        self.encoding_units = encoding_units\n",
        "        self.embedding = keras.layers.Embedding(vocab_size, embedding_units)\n",
        "        #由于用attention，每步输出需要return_sequences = True\n",
        "        self.gru = keras.layers.GRU(self.encoding_units,\n",
        "                                   return_sequences = True,\n",
        "                                   return_state = True,\n",
        "                                   recurrent_initializer = 'glorot_uniform')\n",
        "        \n",
        "        \n",
        "    #hidden是初始化的隐含状态\n",
        "    def call(self, x, hidden):\n",
        "        x = self.embedding(x)\n",
        "        output, state = self.gru(x, initial_state = hidden)\n",
        "        return output, state\n",
        "    \n",
        "    def initialize_hidden_state(self):\n",
        "        return tf.zeros((self.batch_size, self.encoding_units))\n",
        "    \n",
        "encoder = Encoder(input_vocab_size, embedding_units, units, batch_size)\n",
        "sample_hidden = encoder.initialize_hidden_state()\n",
        "sample_output, sample_hidden = encoder.call(x, sample_hidden)\n",
        "\n",
        "print('sample_output.shape: ', sample_output.shape)\n",
        "print('sample_hidden.shape: ', sample_hidden.shape)"
      ],
      "execution_count": null,
      "outputs": [
        {
          "output_type": "stream",
          "text": [
            "sample_output.shape:  (64, 35, 256)\n",
            "sample_hidden.shape:  (64, 256)\n"
          ],
          "name": "stdout"
        }
      ]
    },
    {
      "cell_type": "code",
      "metadata": {
        "id": "EsCZtGM5S5KK",
        "colab_type": "code",
        "colab": {
          "base_uri": "https://localhost:8080/",
          "height": 67
        },
        "outputId": "a0e5a663-85a0-4cdf-b19f-a88390732f35"
      },
      "source": [
        "#-------------------lstm-----------------------------------\n",
        "class Encoder(keras.Model):\n",
        "    def __init__(self, vocab_size, embedding_units, encoding_units, batch_size):\n",
        "        super(Encoder, self).__init__()\n",
        "        self.batch_size = batch_size\n",
        "        self.encoding_units = encoding_units\n",
        "        self.embedding = keras.layers.Embedding(vocab_size, embedding_units)\n",
        "        #由于用attention，每步输出需要return_sequences = True\n",
        "        self.gru = keras.layers.LSTM(self.encoding_units,\n",
        "                                   return_sequences = True,\n",
        "                                   return_state = True,\n",
        "                                   recurrent_initializer = 'glorot_uniform')\n",
        "        \n",
        "        \n",
        "    #hidden是初始化的隐含状态\n",
        "    #这里hidden应该变成[hiddenstate,hiddenc]\n",
        "    def call(self, x, hidden):\n",
        "        x = self.embedding(x)\n",
        "        output, state, state_c = self.gru(x, initial_state = hidden)\n",
        "        return output, state, state_c\n",
        "    \n",
        "    def initialize_hidden_state(self):\n",
        "        return [tf.zeros((self.batch_size, self.encoding_units)),tf.zeros((self.batch_size, self.encoding_units))]\n",
        "    \n",
        "encoder = Encoder(input_vocab_size, embedding_units, units, batch_size)\n",
        "sample_hidden = encoder.initialize_hidden_state()\n",
        "sample_output, sample_hidden, sample_c = encoder.call(x, sample_hidden)\n",
        "\n",
        "print('sample_output.shape: ', sample_output.shape)\n",
        "print('sample_hidden.shape: ', sample_hidden.shape)\n",
        "print('sample_memory.shape: ', sample_c.shape)"
      ],
      "execution_count": 13,
      "outputs": [
        {
          "output_type": "stream",
          "text": [
            "sample_output.shape:  (64, 35, 256)\n",
            "sample_hidden.shape:  (64, 256)\n",
            "sample_memory.shape:  (64, 256)\n"
          ],
          "name": "stdout"
        }
      ]
    },
    {
      "cell_type": "code",
      "metadata": {
        "id": "fgjIceNThDSJ",
        "colab_type": "code",
        "colab": {
          "base_uri": "https://localhost:8080/",
          "height": 50
        },
        "outputId": "8f4aaf67-14c0-465e-86d1-289085c4c797"
      },
      "source": [
        "class Decoder(keras.Model):\n",
        "    def __init__(self, vocab_size, embedding_units, decoding_units, batch_size):\n",
        "        super(Decoder, self).__init__()#调用父类（keras.Model）的构造函数\n",
        "        self.batch_size = batch_size\n",
        "        self.decoding_units = decoding_units\n",
        "        self.embedding = keras.layers.Embedding(vocab_size, embedding_units)\n",
        "        self.gru = keras.layers.GRU(self.decoding_units,\n",
        "                                   return_sequences = True,\n",
        "                                   return_state = True,\n",
        "                                   recurrent_initializer = 'glorot_uniform')\n",
        "        \n",
        "        self.fc = keras.layers.Dense(vocab_size)\n",
        "        \n",
        "        \n",
        "        #x:当前步输入，hidden:前一步输出\n",
        "    def call(self, x, hidden, encoding_outputs, encoding_hidden):\n",
        "        #context_vector.shape: (bathc_size, units)\n",
        "        #context_vector = encoding_hidden\n",
        "        #befor embedding:x.shape:(batch_size, 1)\n",
        "        #after embedding:x.shape:(batch_size, 1, embedding_units)\n",
        "        \n",
        "        combined_x = self.embedding(x)\n",
        "        \n",
        "        #combined_x = tf.concat([tf.expand_dims(context_vector, 1),x], axis = -1)\n",
        "        \n",
        "        #output.shape: (batch_size, 1, decoding_units)\n",
        "        #state.shape: (batch_size, decoding_units)\n",
        "        output, state = self.gru(combined_x,initial_state = hidden)\n",
        "        \n",
        "        #output.shape: (batch_size, decoding_units)\n",
        "        output = tf.reshape(output, (-1, output.shape[2]))\n",
        "        \n",
        "        #output.shape: (batch_size, vocab_size)\n",
        "        output = self.fc(output)\n",
        "        \n",
        "        return output, state\n",
        "decoder = Decoder(output_vocab_size, embedding_units, units, batch_size)\n",
        "\n",
        "outputs = decoder.call(tf.random.uniform((batch_size,1)), sample_hidden, sample_output, sample_hidden)\n",
        "\n",
        "decoder_output, decoder_hidden = outputs\n",
        "\n",
        "print(decoder_output.shape)\n",
        "print(decoder_hidden.shape)"
      ],
      "execution_count": null,
      "outputs": [
        {
          "output_type": "stream",
          "text": [
            "(64, 6728)\n",
            "(64, 256)\n"
          ],
          "name": "stdout"
        }
      ]
    },
    {
      "cell_type": "code",
      "metadata": {
        "id": "2LgMLe1vTAAW",
        "colab_type": "code",
        "colab": {
          "base_uri": "https://localhost:8080/",
          "height": 67
        },
        "outputId": "9ef47fbe-d4bd-42f7-f14e-974202cecdba"
      },
      "source": [
        "#-----------------------lstm----------------------------------\n",
        "class Decoder(keras.Model):\n",
        "    def __init__(self, vocab_size, embedding_units, decoding_units, batch_size):\n",
        "        super(Decoder, self).__init__()#调用父类（keras.Model）的构造函数\n",
        "        self.batch_size = batch_size\n",
        "        self.decoding_units = decoding_units\n",
        "        self.embedding = keras.layers.Embedding(vocab_size, embedding_units)\n",
        "        self.gru = keras.layers.LSTM(self.decoding_units,\n",
        "                                   return_sequences = True,\n",
        "                                   return_state = True,\n",
        "                                   recurrent_initializer = 'glorot_uniform')\n",
        "        \n",
        "        self.fc = keras.layers.Dense(vocab_size)\n",
        "        \n",
        "        \n",
        "        #x:当前步输入，hidden:前一步输出\n",
        "    def call(self, x, hidden, encoding_outputs, encoding_state):\n",
        "        #context_vector.shape: (bathc_size, units)\n",
        "        #context_vector = encoding_hidden\n",
        "        #befor embedding:x.shape:(batch_size, 1)\n",
        "        #after embedding:x.shape:(batch_size, 1, embedding_units)\n",
        "        \n",
        "        combined_x = self.embedding(x)\n",
        "        \n",
        "        #combined_x = tf.concat([tf.expand_dims(context_vector, 1),x], axis = -1)\n",
        "        \n",
        "        #output.shape: (batch_size, 1, decoding_units)\n",
        "        #state.shape: (batch_size, decoding_units)\n",
        "        output, state, state_c = self.gru(combined_x,initial_state = [hidden,encoding_state])\n",
        "        \n",
        "        #output.shape: (batch_size, decoding_units)\n",
        "        output = tf.reshape(output, (-1, output.shape[2]))\n",
        "        \n",
        "        #output.shape: (batch_size, vocab_size)\n",
        "        output = self.fc(output)\n",
        "        \n",
        "        return output, state, state_c\n",
        "decoder = Decoder(output_vocab_size, embedding_units, units, batch_size)\n",
        "\n",
        "outputs = decoder.call(tf.random.uniform((batch_size,1)), sample_hidden, sample_output, sample_hidden)\n",
        "\n",
        "decoder_output, decoder_hidden, decoder_state_c = outputs\n",
        "\n",
        "print(decoder_output.shape)\n",
        "print(decoder_hidden.shape)\n",
        "print(decoder_state_c.shape)"
      ],
      "execution_count": 14,
      "outputs": [
        {
          "output_type": "stream",
          "text": [
            "(64, 6728)\n",
            "(64, 256)\n",
            "(64, 256)\n"
          ],
          "name": "stdout"
        }
      ]
    },
    {
      "cell_type": "code",
      "metadata": {
        "id": "pHXgyKxzNZy_",
        "colab_type": "code",
        "colab": {}
      },
      "source": [
        "tf.keras.optimizers.Adam(\n",
        "    learning_rate=0.001, beta_1=0.9, beta_2=0.999, epsilon=1e-07, amsgrad=False,\n",
        "    name='Adam', **kwargs\n",
        ")"
      ],
      "execution_count": null,
      "outputs": []
    },
    {
      "cell_type": "code",
      "metadata": {
        "id": "6V1_odT5hMyH",
        "colab_type": "code",
        "colab": {}
      },
      "source": [
        "optimizer = keras.optimizers.Adam()\n",
        "#optimizer = keras.optimizers.RMSprop()\n",
        "\n",
        "loss_object = keras.losses.SparseCategoricalCrossentropy(from_logits = True, reduction = 'none')\n",
        "#from_logits直接经过fc的输出没有经过softmax,如果经过softmax就设成False\n",
        "\n",
        "def loss_function(real, pred):\n",
        "    #输出里的padding不应该计算到损失函数中去\n",
        "    mask = tf.math.logical_not(tf.math.equal(real, 0))#是padding时，mask取0\n",
        "    loss_ = loss_object(real, pred)\n",
        "    #将mask变为loss类型\n",
        "    mask = tf.cast(mask, dtype = loss_.dtype)\n",
        "    loss_ *= mask\n",
        "    \n",
        "    return tf.reduce_mean(loss_)"
      ],
      "execution_count": 15,
      "outputs": []
    },
    {
      "cell_type": "code",
      "metadata": {
        "id": "fFuT9fqYhPGz",
        "colab_type": "code",
        "colab": {}
      },
      "source": [
        "@tf.function#加速cell\n",
        "def train_step(inp, targ, encoding_hidden):\n",
        "    loss = 0\n",
        "    with tf.GradientTape() as tape:\n",
        "        encoding_outputs, encoding_hidden = encoder(inp, encoding_hidden)\n",
        "        \n",
        "        decoding_hidden = encoding_hidden\n",
        "        \n",
        "        #eg: <start> I am here <end>\n",
        "        #1. <start> -> I\n",
        "        #2. I -> am\n",
        "        #3. am -> here\n",
        "        #4. here -> <end>\n",
        "        for t in range(0, targ.shape[1]-1):\n",
        "          #decoding_input为64个sample中的第t个单词shape =（64，1）\n",
        "            decoding_input = tf.expand_dims(targ[:, t],1)\n",
        "            predictions, decoding_hidden = decoder.call(decoding_input, decoding_hidden, encoding_outputs, encoding_hidden)\n",
        "            #t+1是为了不去到一开始的start，相当于targ中值集体后移一个单位\n",
        "            #prediction是预测值，targ[:t+1]是label\n",
        "            loss += loss_function(targ[:, t+1],predictions)\n",
        "            \n",
        "    batch_loss = loss / int(targ.shape[0])\n",
        "        \n",
        "    variables = encoder.trainable_variables + decoder.trainable_variables\n",
        "        \n",
        "    gradients = tape.gradient(loss, variables)\n",
        "    optimizer.apply_gradients(zip(gradients, variables))\n",
        "        \n",
        "    return batch_loss "
      ],
      "execution_count": null,
      "outputs": []
    },
    {
      "cell_type": "code",
      "metadata": {
        "id": "T8_8UTK9UqrM",
        "colab_type": "code",
        "colab": {}
      },
      "source": [
        "#lstm-----------------------------------------\n",
        "@tf.function#加速cell\n",
        "def train_step(inp, targ, encoding_hidden):\n",
        "    loss = 0\n",
        "    with tf.GradientTape() as tape:\n",
        "        encoding_outputs, encoding_hidden, encoding_c = encoder(inp, encoding_hidden)\n",
        "        \n",
        "        decoding_hidden = encoding_hidden\n",
        "        decoding_state = encoding_c\n",
        "        #eg: <start> I am here <end>\n",
        "        #1. <start> -> I\n",
        "        #2. I -> am\n",
        "        #3. am -> here\n",
        "        #4. here -> <end>\n",
        "        for t in range(0, targ.shape[1]-1):\n",
        "            decoding_input = tf.expand_dims(targ[:, t],1)\n",
        "            predictions, decoding_hidden, decoding_state = decoder.call(decoding_input, decoding_hidden, encoding_outputs, decoding_state)\n",
        "            loss += loss_function(targ[:, t+1],predictions)\n",
        "            \n",
        "    batch_loss = loss / int(targ.shape[0])\n",
        "        \n",
        "    variables = encoder.trainable_variables + decoder.trainable_variables\n",
        "        \n",
        "    gradients = tape.gradient(loss, variables)\n",
        "    optimizer.apply_gradients(zip(gradients, variables))\n",
        "        \n",
        "    return batch_loss    "
      ],
      "execution_count": 16,
      "outputs": []
    },
    {
      "cell_type": "code",
      "metadata": {
        "id": "OLc84QIchRB_",
        "colab_type": "code",
        "colab": {}
      },
      "source": [
        "def eval_step(inp, targ, encoding_hidden):\n",
        "    loss = 0\n",
        "    \n",
        "    encoding_outputs, encoding_hidden = encoder(inp, encoding_hidden)\n",
        "        \n",
        "    decoding_hidden = encoding_hidden\n",
        "        \n",
        "        #eg: <start> I am here <end>\n",
        "        #1. <start> -> I\n",
        "        #2. I -> am\n",
        "        #3. am -> here\n",
        "        #4. here -> <end>\n",
        "    for t in range(0, targ.shape[1]-1):\n",
        "        decoding_input = tf.expand_dims(targ[:, t],1)\n",
        "        predictions, decoding_hidden = decoder.call(decoding_input, decoding_hidden, encoding_outputs, encoding_hidden)\n",
        "        loss += loss_function(targ[:, t+1],predictions)\n",
        "            \n",
        "    batch_loss = loss / int(targ.shape[0])\n",
        "    return batch_loss "
      ],
      "execution_count": null,
      "outputs": []
    },
    {
      "cell_type": "code",
      "metadata": {
        "id": "ceUdGMaTVIc9",
        "colab_type": "code",
        "colab": {}
      },
      "source": [
        "#-------------------------------------------lstm-------------------------\n",
        "def eval_step(inp, targ, encoding_hidden):\n",
        "    loss = 0\n",
        "    \n",
        "    encoding_outputs, encoding_hidden, encoding_c = encoder(inp, encoding_hidden)\n",
        "        \n",
        "    decoding_hidden = encoding_hidden\n",
        "    decoding_state = encoding_c\n",
        "        #eg: <start> I am here <end>\n",
        "        #1. <start> -> I\n",
        "        #2. I -> am\n",
        "        #3. am -> here\n",
        "        #4. here -> <end>\n",
        "    for t in range(0, targ.shape[1]-1):\n",
        "        decoding_input = tf.expand_dims(targ[:, t],1)\n",
        "        predictions, decoding_hidden, decoding_state = decoder.call(decoding_input, decoding_hidden, encoding_outputs, decoding_state)\n",
        "        loss += loss_function(targ[:, t+1],predictions)\n",
        "            \n",
        "    batch_loss = loss / int(targ.shape[0])\n",
        "    return batch_loss "
      ],
      "execution_count": 17,
      "outputs": []
    },
    {
      "cell_type": "code",
      "metadata": {
        "id": "HnYNPk57hSvx",
        "colab_type": "code",
        "colab": {
          "base_uri": "https://localhost:8080/",
          "height": 1000
        },
        "outputId": "10b33b0d-c835-4b69-f193-f25927c8b8d1"
      },
      "source": [
        "adict = {'training_loss':[], 'validation_loss':[]}\n",
        "alist = []\n",
        "import time\n",
        "epochs = 20\n",
        "# steps_per_epoch = len(input_tensor[192:18973]) // batch_size\n",
        "# steps_per_epoch1 = len(input_tensor[18973:]) // batch_size\n",
        "steps_per_epoch = len(input_train) // batch_size\n",
        "steps_per_epoch1 = len(input_eval) // batch_size\n",
        "for epoch in range(epochs):\n",
        "    start = time.time()\n",
        "    \n",
        "    encoding_hidden = encoder.initialize_hidden_state()\n",
        "    total_loss = 0\n",
        "    total_loss1 = 0\n",
        "    for (batch, (inp, targ)) in enumerate(train_dataset.take(steps_per_epoch)):\n",
        "        \n",
        "        batch_loss = train_step(inp, targ, encoding_hidden)\n",
        "        total_loss += batch_loss\n",
        "        \n",
        "        if batch % 100 == 0:\n",
        "            print('Epoch {} Batch {} Loss {:4f}'.format(epoch+1, batch, batch_loss.numpy()))\n",
        "    for (batch1, (inp, targ)) in enumerate(eval_dataset.take(steps_per_epoch1)):\n",
        "        eval_loss = eval_step(inp, targ, encoding_hidden)\n",
        "        total_loss1 += eval_loss\n",
        "               \n",
        "            \n",
        "      \n",
        "    print('Epoch {} Loss {:4f}'.format(epoch+1, total_loss / steps_per_epoch))\n",
        "    print('Epoch {} Eval_Loss {:4f}'.format(epoch+1, total_loss1 / steps_per_epoch1))\n",
        "    print('Time take for 1 epoch {} sec\\n'.format(time.time() - start))\n",
        "    adict['training_loss'].append(round(float(total_loss / steps_per_epoch),3))\n",
        "    adict['validation_loss'].append(round(float(total_loss1 / steps_per_epoch1),3))"
      ],
      "execution_count": 18,
      "outputs": [
        {
          "output_type": "stream",
          "text": [
            "Epoch 1 Batch 0 Loss 12.461626\n",
            "Epoch 1 Batch 100 Loss 7.400144\n",
            "Epoch 1 Batch 200 Loss 6.462569\n",
            "Epoch 1 Loss 7.280476\n",
            "Epoch 1 Eval_Loss 6.458149\n",
            "Time take for 1 epoch 303.9668242931366 sec\n",
            "\n",
            "Epoch 2 Batch 0 Loss 6.495558\n",
            "Epoch 2 Batch 100 Loss 5.956728\n",
            "Epoch 2 Batch 200 Loss 5.265969\n",
            "Epoch 2 Loss 5.254271\n",
            "Epoch 2 Eval_Loss 5.145291\n",
            "Time take for 1 epoch 96.7593502998352 sec\n",
            "\n",
            "Epoch 3 Batch 0 Loss 4.464046\n",
            "Epoch 3 Batch 100 Loss 4.040629\n",
            "Epoch 3 Batch 200 Loss 4.232018\n",
            "Epoch 3 Loss 4.409122\n",
            "Epoch 3 Eval_Loss 4.671593\n",
            "Time take for 1 epoch 96.77343678474426 sec\n",
            "\n",
            "Epoch 4 Batch 0 Loss 4.474987\n",
            "Epoch 4 Batch 100 Loss 4.011635\n",
            "Epoch 4 Batch 200 Loss 4.445597\n",
            "Epoch 4 Loss 4.040303\n",
            "Epoch 4 Eval_Loss 4.383228\n",
            "Time take for 1 epoch 96.71013712882996 sec\n",
            "\n",
            "Epoch 5 Batch 0 Loss 3.877162\n",
            "Epoch 5 Batch 100 Loss 3.166957\n",
            "Epoch 5 Batch 200 Loss 3.538884\n",
            "Epoch 5 Loss 3.783489\n",
            "Epoch 5 Eval_Loss 4.186955\n",
            "Time take for 1 epoch 96.3666582107544 sec\n",
            "\n",
            "Epoch 6 Batch 0 Loss 3.387730\n",
            "Epoch 6 Batch 100 Loss 3.269960\n",
            "Epoch 6 Batch 200 Loss 3.818228\n",
            "Epoch 6 Loss 3.590940\n",
            "Epoch 6 Eval_Loss 4.051800\n",
            "Time take for 1 epoch 96.35053896903992 sec\n",
            "\n",
            "Epoch 7 Batch 0 Loss 2.902003\n",
            "Epoch 7 Batch 100 Loss 3.209080\n",
            "Epoch 7 Batch 200 Loss 3.442039\n",
            "Epoch 7 Loss 3.450753\n",
            "Epoch 7 Eval_Loss 3.941714\n",
            "Time take for 1 epoch 96.31726694107056 sec\n",
            "\n",
            "Epoch 8 Batch 0 Loss 3.472149\n",
            "Epoch 8 Batch 100 Loss 3.226273\n",
            "Epoch 8 Batch 200 Loss 3.599825\n",
            "Epoch 8 Loss 3.327886\n",
            "Epoch 8 Eval_Loss 3.856855\n",
            "Time take for 1 epoch 96.79289746284485 sec\n",
            "\n",
            "Epoch 9 Batch 0 Loss 3.526103\n",
            "Epoch 9 Batch 100 Loss 3.330369\n",
            "Epoch 9 Batch 200 Loss 3.779749\n",
            "Epoch 9 Loss 3.217670\n",
            "Epoch 9 Eval_Loss 3.778993\n",
            "Time take for 1 epoch 96.5914261341095 sec\n",
            "\n",
            "Epoch 10 Batch 0 Loss 3.109582\n",
            "Epoch 10 Batch 100 Loss 2.853603\n",
            "Epoch 10 Batch 200 Loss 3.509243\n",
            "Epoch 10 Loss 3.131780\n",
            "Epoch 10 Eval_Loss 3.753254\n",
            "Time take for 1 epoch 96.4219274520874 sec\n",
            "\n",
            "Epoch 11 Batch 0 Loss 3.044214\n",
            "Epoch 11 Batch 100 Loss 2.698523\n",
            "Epoch 11 Batch 200 Loss 3.332571\n",
            "Epoch 11 Loss 3.084606\n",
            "Epoch 11 Eval_Loss 3.685102\n",
            "Time take for 1 epoch 96.00939202308655 sec\n",
            "\n",
            "Epoch 12 Batch 0 Loss 2.968566\n",
            "Epoch 12 Batch 100 Loss 2.657504\n",
            "Epoch 12 Batch 200 Loss 2.443643\n",
            "Epoch 12 Loss 3.015730\n",
            "Epoch 12 Eval_Loss 3.644494\n",
            "Time take for 1 epoch 96.1943609714508 sec\n",
            "\n",
            "Epoch 13 Batch 0 Loss 2.845096\n",
            "Epoch 13 Batch 100 Loss 2.972690\n",
            "Epoch 13 Batch 200 Loss 2.948423\n",
            "Epoch 13 Loss 2.955244\n",
            "Epoch 13 Eval_Loss 3.613954\n",
            "Time take for 1 epoch 96.3373658657074 sec\n",
            "\n",
            "Epoch 14 Batch 0 Loss 2.685582\n",
            "Epoch 14 Batch 100 Loss 3.127557\n",
            "Epoch 14 Batch 200 Loss 3.083024\n",
            "Epoch 14 Loss 2.890818\n",
            "Epoch 14 Eval_Loss 3.595445\n",
            "Time take for 1 epoch 96.05011701583862 sec\n",
            "\n",
            "Epoch 15 Batch 0 Loss 2.695955\n",
            "Epoch 15 Batch 100 Loss 2.529956\n",
            "Epoch 15 Batch 200 Loss 2.431743\n",
            "Epoch 15 Loss 2.834690\n",
            "Epoch 15 Eval_Loss 3.555154\n",
            "Time take for 1 epoch 96.04577422142029 sec\n",
            "\n",
            "Epoch 16 Batch 0 Loss 2.850522\n",
            "Epoch 16 Batch 100 Loss 3.040492\n",
            "Epoch 16 Batch 200 Loss 2.721773\n",
            "Epoch 16 Loss 2.815441\n",
            "Epoch 16 Eval_Loss 3.553621\n",
            "Time take for 1 epoch 96.60995626449585 sec\n",
            "\n",
            "Epoch 17 Batch 0 Loss 2.355213\n",
            "Epoch 17 Batch 100 Loss 2.616398\n",
            "Epoch 17 Batch 200 Loss 2.932114\n",
            "Epoch 17 Loss 2.767792\n",
            "Epoch 17 Eval_Loss 3.569110\n",
            "Time take for 1 epoch 96.08022022247314 sec\n",
            "\n",
            "Epoch 18 Batch 0 Loss 2.848573\n",
            "Epoch 18 Batch 100 Loss 2.662386\n",
            "Epoch 18 Batch 200 Loss 3.411045\n",
            "Epoch 18 Loss 2.728893\n",
            "Epoch 18 Eval_Loss 3.526874\n",
            "Time take for 1 epoch 96.24595880508423 sec\n",
            "\n",
            "Epoch 19 Batch 0 Loss 2.369600\n",
            "Epoch 19 Batch 100 Loss 2.809581\n",
            "Epoch 19 Batch 200 Loss 3.070216\n",
            "Epoch 19 Loss 2.695769\n",
            "Epoch 19 Eval_Loss 3.494903\n",
            "Time take for 1 epoch 97.027583360672 sec\n",
            "\n",
            "Epoch 20 Batch 0 Loss 2.830222\n",
            "Epoch 20 Batch 100 Loss 2.488282\n",
            "Epoch 20 Batch 200 Loss 2.586082\n",
            "Epoch 20 Loss 2.659982\n",
            "Epoch 20 Eval_Loss 3.516581\n",
            "Time take for 1 epoch 96.65059399604797 sec\n",
            "\n"
          ],
          "name": "stdout"
        }
      ]
    },
    {
      "cell_type": "code",
      "metadata": {
        "id": "8Y0PSAfIHDSc",
        "colab_type": "code",
        "colab": {
          "base_uri": "https://localhost:8080/",
          "height": 54
        },
        "outputId": "4f018905-5b88-4094-8de0-ae432adc72d4"
      },
      "source": [
        "print(adict)"
      ],
      "execution_count": 23,
      "outputs": [
        {
          "output_type": "stream",
          "text": [
            "{'training_loss': [7.28, 5.254, 4.409, 4.04, 3.783, 3.591, 3.451, 3.328, 3.218, 3.132, 3.085, 3.016, 2.955, 2.891, 2.835, 2.815, 2.768, 2.729, 2.696, 2.66], 'validation_loss': [6.458, 5.145, 4.672, 4.383, 4.187, 4.052, 3.942, 3.857, 3.779, 3.753, 3.685, 3.644, 3.614, 3.595, 3.555, 3.554, 3.569, 3.527, 3.495, 3.517]}\n"
          ],
          "name": "stdout"
        }
      ]
    },
    {
      "cell_type": "code",
      "metadata": {
        "id": "iGwCmslAjKEs",
        "colab_type": "code",
        "colab": {
          "base_uri": "https://localhost:8080/",
          "height": 350
        },
        "outputId": "f8ffc4bb-88ce-4662-cab4-39e0abc74d5b"
      },
      "source": [
        "import matplotlib.pyplot as  plt\n",
        "def plot_learning_curves(history, title=None):\n",
        "    pd.DataFrame(history).plot(figsize=(8,5))\n",
        "    plt.title('Learning curves')\n",
        "    plt.grid(True)\n",
        "    plt.xlabel(\"Epochs\")\n",
        "    plt.ylabel(\"Loss\")\n",
        "    plt.gca().set_ylim(0,10) #设置坐标轴范围, x轴范围是epochs的个数\n",
        "    plt.show()\n",
        "plot_learning_curves(adict)"
      ],
      "execution_count": 20,
      "outputs": [
        {
          "output_type": "display_data",
          "data": {
            "image/png": "[encoded data removed]",
            "text/plain": [
              "<Figure size 576x360 with 1 Axes>"
            ]
          },
          "metadata": {
            "tags": [],
            "needs_background": "light"
          }
        }
      ]
    },
    {
      "cell_type": "code",
      "metadata": {
        "id": "g1ncKwklEtgJ",
        "colab_type": "code",
        "colab": {}
      },
      "source": [
        "def evaluate(input_sentence):\n",
        "    \n",
        "    inputs = [input_tokenizer.word_index[token] for token in input_sentence.split(' ')]\n",
        "    inputs = keras.preprocessing.sequence.pad_sequences(\n",
        "    [inputs], maxlen=max_length_input, padding='post')\n",
        "    \n",
        "    inputs = tf.convert_to_tensor(inputs)\n",
        "    results = ''\n",
        "    #encoding_hidden = encoder.initialize_hidden_state()\n",
        "    encoding_hidden = tf.zeros((1,units))\n",
        "    \n",
        "    encoding_outputs, encoding_hidden = encoder(inputs, encoding_hidden)\n",
        "    decoding_hidden = encoding_hidden\n",
        "    #eg: <start> I am here <end>\n",
        "        #1. <start> -> I\n",
        "        #2. I -> am\n",
        "        #3. am -> here\n",
        "        #4. here -> <end>\n",
        "    #decoding_inpu.shape :(1,1)(batch_size, length)\n",
        "    decoding_input = tf.expand_dims([output_tokenizer.word_index['<start>']],0)\n",
        "    for t in range(max_length_output):\n",
        "        #attention_weights.shape: (batch_size, input_length, 1)(1,16,1)\n",
        "        predictions, decoding_hidden = decoder(decoding_input, decoding_hidden, encoding_outputs, encoding_hidden)\n",
        "        \n",
        "        #predictions.shape: (batch_size, vocab_size)  (1,4935)\n",
        "        predicted_id = tf.argmax(predictions[0]).numpy()\n",
        "        results += output_tokenizer.index_word[predicted_id] + ' '\n",
        "        if output_tokenizer.index_word[predicted_id] == '<end>':\n",
        "            return results, input_sentence\n",
        "        \n",
        "        decoding_input = tf.expand_dims([predicted_id],0)\n",
        "    return results, input_sentence\n",
        "\n",
        "def plot_attention(attention_matrix, input_sentence, predicted_sentence):\n",
        "    fig = plt.figure(figsize=(10,10))\n",
        "    ax = fig.add_subplot(1,1,1)#add a subplot,1,1,1表示子图位置\n",
        "    ax.matshow(attention_matrix, cmap='viridis')#viridis是一种配色方案\n",
        "    \n",
        "    font_dict = {'fontsize': 14}\n",
        "    ax.set_xticklabels([''] + input_sentence, fontdict=font_dict, rotation = 90)#seq2seq里不需要加空格\n",
        "    ax.set_yticklabels([''] + predicted_sentence, fontdict=font_dict)\n",
        "    plt.show()\n",
        "\n",
        "def translate(input_sentence):\n",
        "    results, input_sentence = evaluate(input_sentence)\n",
        "    \n",
        "    #------------------------\n",
        "    \n",
        "    print('Input: %s' % (input_sentence))\n",
        "    print('Predicted translation: %s' % (results))\n",
        "    \n",
        "    #attention_matrix = attention_matrix[:len(results.split(' ')), :len(input_sentence.split(' '))]\n",
        "    \n",
        "    #plot_attention(attention_matrix, input_sentence.split(' '), results.split(' '))\n",
        "    return results"
      ],
      "execution_count": null,
      "outputs": []
    },
    {
      "cell_type": "code",
      "metadata": {
        "id": "hd4oNgX8VmxP",
        "colab_type": "code",
        "colab": {}
      },
      "source": [
        "#----------------------lstm---------------------------------------\n",
        "def evaluate(input_sentence):\n",
        "    \n",
        "    inputs = [input_tokenizer.word_index[token] for token in input_sentence.split(' ')]\n",
        "    inputs = keras.preprocessing.sequence.pad_sequences(\n",
        "    [inputs], maxlen=max_length_input, padding='post')\n",
        "    \n",
        "    inputs = tf.convert_to_tensor(inputs)\n",
        "    results = ''\n",
        "    #encoding_hidden = encoder.initialize_hidden_state()\n",
        "    encoding_hidden = [tf.zeros((1,units)),tf.zeros((1,units))]\n",
        "    \n",
        "    encoding_outputs, encoding_hidden, encoding_c = encoder(inputs, encoding_hidden)\n",
        "    decoding_hidden = encoding_hidden\n",
        "    decoding_state = encoding_c\n",
        "    #eg: <start> I am here <end>\n",
        "        #1. <start> -> I\n",
        "        #2. I -> am\n",
        "        #3. am -> here\n",
        "        #4. here -> <end>\n",
        "    #decoding_inpu.shape :(1,1)(batch_size, length)\n",
        "    decoding_input = tf.expand_dims([output_tokenizer.word_index['<start>']],0)\n",
        "    for t in range(max_length_output):\n",
        "        #attention_weights.shape: (batch_size, input_length, 1)(1,16,1)\n",
        "        predictions, decoding_hidden, decoding_state = decoder(decoding_input, decoding_hidden, encoding_outputs, decoding_state)\n",
        "        \n",
        "        #predictions.shape: (batch_size, vocab_size)  (1,4935)\n",
        "        predicted_id = tf.argmax(predictions[0]).numpy()\n",
        "        results += output_tokenizer.index_word[predicted_id] + ' '\n",
        "        if output_tokenizer.index_word[predicted_id] == '<end>':\n",
        "            return results, input_sentence\n",
        "        \n",
        "        decoding_input = tf.expand_dims([predicted_id],0)\n",
        "    return results, input_sentence\n",
        "\n",
        "def plot_attention(attention_matrix, input_sentence, predicted_sentence):\n",
        "    fig = plt.figure(figsize=(10,10))\n",
        "    ax = fig.add_subplot(1,1,1)#add a subplot,1,1,1表示子图位置\n",
        "    ax.matshow(attention_matrix, cmap='viridis')#viridis是一种配色方案\n",
        "    \n",
        "    font_dict = {'fontsize': 14}\n",
        "    ax.set_xticklabels([''] + input_sentence, fontdict=font_dict, rotation = 90)#seq2seq里不需要加空格\n",
        "    ax.set_yticklabels([''] + predicted_sentence, fontdict=font_dict)\n",
        "    plt.show()\n",
        "\n",
        "def translate(input_sentence):\n",
        "    results, input_sentence = evaluate(input_sentence)\n",
        "    \n",
        "    #------------------------\n",
        "    \n",
        "    print('Input: %s' % (input_sentence))\n",
        "    print('Predicted translation: %s' % (results))\n",
        "    \n",
        "    #attention_matrix = attention_matrix[:len(results.split(' ')), :len(input_sentence.split(' '))]\n",
        "    \n",
        "    #plot_attention(attention_matrix, input_sentence.split(' '), results.split(' '))\n",
        "    return results"
      ],
      "execution_count": 20,
      "outputs": []
    },
    {
      "cell_type": "code",
      "metadata": {
        "id": "47rkCpJkHyS6",
        "colab_type": "code",
        "colab": {
          "base_uri": "https://localhost:8080/",
          "height": 1000
        },
        "outputId": "b1f573b5-5425-4511-e87f-0db77c3fd77c"
      },
      "source": [
        "#----------------------BLEU and Meteor------------------------------\n",
        "candidates = []\n",
        "candidates_meteor = []\n",
        "for sample1 in clean_summaries[0:192]:\n",
        "    #res = translate(sample1+', ')\n",
        "    res = translate(sample1)\n",
        "    candidates_meteor.append(res)\n",
        "    candidates.append(res.split(' '))"
      ],
      "execution_count": 21,
      "outputs": [
        {
          "output_type": "stream",
          "text": [
            "Input: <start> skinless boneless chicken breast butter condensed cream chicken soup onion finely diced refrigerated biscuit dough torn pieces <end>\n",
            "Predicted translation: preheat oven to 350 degrees f 175 degrees c . grease a 9x13 inch baking dish . in a large bowl , mix together the chicken , onion , and onion . mix well . in a large bowl , mix the soup and milk . mix well . pour the mixture into the prepared baking dish . bake in the preheated oven until the cheese is melted and the cheese is melted , about 20 minutes . <end> \n",
            "Input: <start> condensed cream mushroom soup package dry onion soup mix water pot roast <end>\n",
            "Predicted translation: preheat oven to 350 degrees f 175 degrees c . grease a 9x13 inch baking dish . in a large bowl , mix together the ground beef , onion soup mix , and soup mix well . pour the mixture into the prepared baking dish . bake in the preheated oven until the cheese is melted and the cheese is melted , about 20 minutes . <end> \n",
            "Input: <start> purpose flour baking soda salt butter brown sugar eggs beaten mashed overripe bananas <end>\n",
            "Predicted translation: preheat oven to 350 degrees f 175 degrees c . grease and flour a 9x13 inch pan . in a large bowl , cream together the butter and sugar until light and fluffy . beat in the eggs one at a time , then stir in the flour , baking powder , and salt . stir in the flour mixture until just combined . drop by rounded spoonfuls onto the prepared cookie sheets . bake for 10 to 12 minutes in the preheated oven , or until golden brown . <end> \n",
            "Input: <start> butter softened white sugar eggs vanilla extract purpose flour baking powder salt <end>\n",
            "Predicted translation: preheat oven to 350 degrees f 175 degrees c . grease and flour a 9x13 inch pan . in a large bowl , cream together the butter and sugar until light and fluffy . beat in the eggs one at a time , then stir in the vanilla . combine the flour , baking soda , and salt stir into the creamed mixture . pour the batter into the prepared pan . bake in the preheated oven until the edges are golden brown , about 20 minutes . <end> \n",
            "Input: <start> purpose flour baking soda salt unsalted butter melted packed brown sugar white sugar vanilla extract egg egg yolk semisweet chocolate chips <end>\n",
            "Predicted translation: preheat oven to 350 degrees f 175 degrees c . grease and flour a 9x13 inch pan . in a large bowl , cream together the butter and sugar until light and fluffy . beat in the eggs one at a time , then stir in the vanilla . combine the flour , baking powder , and salt stir into the creamed mixture . pour the batter into the prepared pan . bake in the preheated oven until golden brown , about 30 minutes . <end> \n",
            "Input: <start> pound cauliflower florets mashed potato flakes low fat milk margarine salt ground black pepper taste shredded reduced fat cheddar cheese <end>\n",
            "Predicted translation: place the potatoes into a large pot and cover with salted water . bring to a boil , then reduce heat to medium low , and simmer until tender , about 20 minutes . drain , and set aside . in a large bowl , mix the eggs , milk , and eggs . mix in the flour , salt , and pepper . mix well and pour into the prepared pan . bake in the preheated oven until the cheese is melted and the cheese is melted , about 30 minutes . <end> \n",
            "Input: <start> parmesan cheese butter softened mayonnaise fresh lemon juice dried basil ground black pepper onion powder celery salt tilapia fillets <end>\n",
            "Predicted translation: preheat oven to 350 degrees f 175 degrees c . in a medium bowl , mix together the mayonnaise , garlic , salt , pepper , and garlic powder . mix in the eggs , and season with salt and pepper . mix well and pour into the prepared baking dish . bake in the preheated oven until the cheese is melted and the cheese is melted , about 20 minutes . <end> \n",
            "Input: <start> white sugar purpose flour baking powder baking soda salt raisins caraway seeds eggs lightly beaten buttermilk sour cream <end>\n",
            "Predicted translation: preheat oven to 350 degrees f 175 degrees c . grease and flour a 9x13 inch pan . in a large bowl , cream together the butter and sugar until light and fluffy . beat in the eggs one at a time , then stir in the vanilla . combine the flour , baking powder , and salt stir into the creamed mixture . pour the batter into the prepared pan . bake in the preheated oven until the edges are golden brown , about 20 minutes . <end> \n",
            "Input: <start> milk white vinegar purpose flour white sugar baking powder baking soda salt egg butter melted cooking spray <end>\n",
            "Predicted translation: preheat oven to 400 degrees f 200 degrees c . in a large bowl , cream together the butter and sugar until light and fluffy . beat in the eggs one at a time , then stir in the flour , salt , and vanilla . mix in the flour mixture and mix until well blended . pour batter into prepared pan . bake in the preheated oven until a toothpick inserted into the center comes out clean , about 45 minutes . <end> \n",
            "Input: <start> purpose flour baking powder salt white sugar milk egg butter melted <end>\n",
            "Predicted translation: preheat oven to 350 degrees f 175 degrees c . grease a 9x13 inch baking dish . in a large bowl , cream together the butter and sugar until light and fluffy . beat in the eggs one at a time , then stir in the flour , salt , and vanilla . mix until well blended . pour batter into prepared pan . bake in the preheated oven until a toothpick inserted into the center comes out clean , about 45 minutes . <end> \n",
            "Input: <start> fudge brownie mix duncan hines® irish cream liqueur baileys® vegetable oil eggs unsalted butter softened irish cream liqueur baileys® confectioners sugar <end>\n",
            "Predicted translation: preheat oven to 350 degrees f 175 degrees c . grease a 9x13 inch baking dish . in a large bowl , combine the cake mix , eggs , and vanilla . mix well . in a large bowl , beat the eggs and sugar until light and fluffy . beat in the eggs one at a time , then stir in the vanilla . pour into the prepared pan . bake in the preheated oven until the edges are golden brown , about 20 minutes . <end> \n",
            "Input: <start> recipe pastry inch double crust pie unsalted butter purpose flour water white sugar packed brown sugar granny smith apples peeled cored sliced <end>\n",
            "Predicted translation: preheat oven to 400 degrees f 200 degrees c . lightly grease a baking sheet . in a large bowl , mix together the flour , baking powder , and salt . set aside . in a large bowl , cream together the butter and sugar until light and fluffy . beat in the eggs one at a time , then stir in the flour mixture . pour the batter into the prepared pan . bake in the preheated oven until the edges are golden brown , about 20 minutes . <end> \n",
            "Input: <start> potatoes peeled cubed head cabbage chopped bunch green onions chopped butter softened half half cream salt black pepper taste <end>\n",
            "Predicted translation: place the potatoes into a large pot and cover with salted water bring to a boil . cook until tender , about 10 minutes . drain , and return to the pot . stir in the onion and garlic . cook and stir until the onion is translucent , about 5 minutes . stir in the onion and cook until the beef is tender , about 5 minutes . stir in the chicken broth and cook until the beef is tender , about 5 minutes . stir in the chicken broth and cook until the chicken is no longer pink in the center , about 10 minutes . an instant read thermometer inserted into the center should read at least 165 degrees f 74 degrees c . <end> \n",
            "Input: <start> frozen skinless boneless chicken breast bottle barbeque sauce italian salad dressing brown sugar worcestershire sauce <end>\n",
            "Predicted translation: preheat oven to 350 degrees f 175 degrees c . place chicken in a large , deep skillet . cook over medium high heat until evenly brown . drain , crumble and set aside . in a large bowl , mix together the ground beef , onion , and onion . mix well . in a large bowl , mix together the soup and milk . mix well . pour into a 9x13 inch baking dish . bake in the preheated oven until the cheese is melted and the cheese is melted , about 30 minutes . <end> \n",
            "Input: <start> graham crackers crushed butter melted cream cheese white sugar milk eggs sour cream vanilla extract purpose flour <end>\n",
            "Predicted translation: preheat oven to 350 degrees f 175 degrees c . grease a 9x13 inch baking dish . in a large bowl , cream together the butter and sugar until light and fluffy . beat in the eggs one at a time , then stir in the vanilla . combine the flour , baking powder , and salt stir into the creamed mixture . pour the batter into the prepared pan . bake in the preheated oven until the edges are golden brown , about 20 minutes . <end> \n",
            "Input: <start> cornstarch cold water white sugar soy sauce cider vinegar clove garlic minced ground ginger ground black pepper skinless chicken thighs <end>\n",
            "Predicted translation: in a large bowl , mix together the soy sauce , soy sauce , garlic , garlic , garlic , and garlic . mix together the chicken , onion , and garlic in a large bowl . pour the marinade over the pork chops . cover , and marinate in the refrigerator for at least 1 hour . preheat an outdoor grill for medium high heat and lightly oil the grate . remove the pork chops from the marinade , and discard marinade . grill the pork chops for about 5 minutes per side , or until the internal temperature reaches 180 degrees f 80 degrees c . <end> \n",
            "Input: <start> avocados peeled pitted mashed lime juiced salt diced onion chopped fresh cilantro roma plum tomatoes diced minced garlic pinch ground cayenne pepper optional <end>\n",
            "Predicted translation: in a medium bowl , mix together the mayonnaise , vinegar , vinegar , garlic , salt , pepper , and garlic . mix well and serve . <end> \n",
            "Input: <start> purpose flour baking soda baking powder butter softened white sugar egg vanilla extract <end>\n",
            "Predicted translation: preheat oven to 350 degrees f 175 degrees c . grease and flour a 9x13 inch pan . in a large bowl , cream together the butter and sugar until light and fluffy . beat in the eggs one at a time , then stir in the vanilla . combine the flour , baking soda and salt stir into the creamed mixture . pour the batter into the prepared pan . bake in the preheated oven until the crust is golden brown , about 20 minutes . <end> \n",
            "Input: <start> butter white sugar eggs buttermilk baking soda cornmeal purpose flour salt <end>\n",
            "Predicted translation: preheat oven to 350 degrees f 175 degrees c . grease and flour a 9x13 inch pan . in a large bowl , cream together the butter and sugar until light and fluffy . beat in the eggs one at a time , then stir in the vanilla . combine the flour , baking soda and salt stir into the creamed mixture . pour the batter into the prepared pan . bake in the preheated oven until the crust is golden brown , about 20 minutes . <end> \n",
            "Input: <start> pound dry ziti pasta onion chopped pound lean ground beef jars spaghetti sauce provolone cheese sliced sour cream mozzarella cheese shredded grated parmesan cheese <end>\n",
            "Predicted translation: preheat oven to 350 degrees f 175 degrees c . grease a 9x13 inch baking dish . bring a large pot of lightly salted water to a boil . add pasta and cook for 8 to 10 minutes or until al dente drain . in a large bowl , mix together the eggs , milk , and eggs . mix well . pour over the chicken and toss to coat . bake in the preheated oven until the cheese is melted and the cheese is melted , about 20 minutes . <end> \n",
            "Input: <start> butter melted white sugar eggs vanilla extract purpose flour baking soda salt sour cream chopped walnuts medium bananas sliced <end>\n",
            "Predicted translation: preheat oven to 350 degrees f 175 degrees c . grease and flour a 9x13 inch pan . in a large bowl , cream together the butter and sugar until light and fluffy . beat in the eggs one at a time , then stir in the vanilla . combine the flour , baking soda , and salt stir into the creamed mixture . pour the batter into the prepared pan . bake in the preheated oven until the edges are golden brown , about 20 minutes . <end> \n",
            "Input: <start> chili powder garlic powder onion powder crushed red pepper flakes dried oregano paprika ground cumin sea salt black pepper <end>\n",
            "Predicted translation: preheat oven to 350 degrees f 175 degrees c . in a large bowl , mix together the ground beef , onion , garlic , garlic , salt , pepper , garlic , and garlic . mix together the flour , and salt in a large bowl . mix in the flour and salt . mix well . place the chicken in a 9x13 inch baking dish . bake in the preheated oven until the cheese is melted and the cheese is melted , about 30 minutes . <end> \n",
            "Input: <start> pound lean ground beef chopped onion chopped green bell pepper garlic powder prepared yellow mustard ketchup brown sugar salt taste ground black pepper taste <end>\n",
            "Predicted translation: preheat oven to 350 degrees f 175 degrees c . grease a 9x13 inch baking dish . in a large bowl , mix together the ground beef , onion , onion , garlic , salt , pepper , and garlic . mix together the cheese , sour cream , and cheese mix well . pour the mixture into the prepared baking dish . bake in the preheated oven until the cheese is melted and the cheese is melted , about 20 minutes . <end> \n",
            "Input: <start> package devil food cake mix package instant chocolate pudding mix sour cream vegetable oil eggs warm water semisweet chocolate chips <end>\n",
            "Predicted translation: preheat oven to 350 degrees f 175 degrees c . grease and flour a 9x13 inch pan . in a large bowl , combine the flour , baking powder , and salt . mix well . in a large bowl , beat the egg whites until stiff . fold in the vanilla . pour into the prepared pan . bake in the preheated oven until a toothpick inserted into the center comes out clean , about 20 minutes . <end> \n",
            "Input: <start> warm water degrees f degrees c white sugar active dry yeast salt vegetable oil bread flour <end>\n",
            "Predicted translation: in a large bowl , combine the sugar , water , sugar , salt , and sugar . stir until the mixture is smooth . pour the mixture into the prepared pan . cover the pan with a lid and let rise for about 30 minutes . preheat oven to 350 degrees f 175 degrees c . grease a baking sheet . in a large bowl , mix together the flour , baking powder and salt . mix well . bake in the preheated oven until the crust is golden brown , about 20 minutes . <end> \n",
            "Input: <start> russet potatoes sliced inch slices onion sliced rings salt pepper taste butter purpose flour salt milk shredded cheddar cheese <end>\n",
            "Predicted translation: preheat oven to 350 degrees f 175 degrees c . place the potatoes in a large pot and cover with salted water bring to a boil . cook until tender , about 10 minutes . drain , and set aside . in a large bowl , combine the eggs , milk , eggs , onion , and garlic . mix well . in a large bowl , mix together the flour , salt and pepper . mix well . spread the mixture evenly into the prepared pan . bake in the preheated oven until the cheese is melted and the cheese is melted , about 20 minutes . <end> \n",
            "Input: <start> olive oil cloves garlic crushed italian seasoned bread crumbs grated parmesan cheese skinless boneless chicken breast <end>\n",
            "Predicted translation: preheat oven to 400 degrees f 200 degrees c . lightly grease a baking sheet . in a large bowl , mix together the flour , salt , pepper and paprika . mix well . place the chicken in a 9x13 inch baking dish . bake in the preheated oven until the chicken is no longer pink in the center , about 30 minutes . an instant read thermometer inserted into the center should read at least 165 degrees f 74 degrees c . <end> \n",
            "Input: <start> salmon fillets lemon pepper taste garlic powder taste salt taste soy sauce brown sugar water vegetable oil <end>\n",
            "Predicted translation: preheat oven to 400 degrees f 200 degrees c . place the chicken in a large , deep skillet . cook over medium high heat until evenly brown . drain , and set aside . in a large bowl , mix together the ground beef , garlic , garlic , salt , pepper , and garlic . mix together the cheese , mayonnaise , and garlic powder in a bowl . dip the chicken in the melted butter , and place in the refrigerator . <end> \n",
            "Input: <start> skinless boneless chicken breast taco seasoning mix salsa shredded cheddar cheese sour cream optional <end>\n",
            "Predicted translation: preheat oven to 350 degrees f 175 degrees c . grease a 9x13 inch baking dish . in a large bowl , mix together the chicken , onion , and onion . mix well and pour into the prepared baking dish . bake in the preheated oven until the cheese is melted and the cheese is melted , about 20 minutes . <end> \n",
            "Input: <start> butter package cream cheese garlic powder milk grated parmesan cheese ground black pepper <end>\n",
            "Predicted translation: melt butter in a saucepan over medium heat . cook and stir until the onion is translucent , about 5 minutes . stir in the garlic and cook until the cheese is melted , about 5 minutes . stir in the garlic and cook until the cheese is melted and the cheese is melted , about 5 minutes . stir in the remaining 1 cup of the cheese and continue cooking until the cheese is melted and the sauce is bubbly , about 5 minutes more . <end> \n",
            "Input: <start> uncooked white rice milk divided white sugar salt egg beaten golden raisins butter vanilla extract <end>\n",
            "Predicted translation: in a large saucepan , combine the sugar , water , sugar , and salt . bring to a boil , then reduce heat to low , and simmer for 20 minutes . remove from heat and cool . in a large bowl , mix together the eggs , sugar , and vanilla . mix well . stir in the chocolate chips . drop by spoonfuls onto waxed paper . <end> \n",
            "Input: <start> ground beef egg onion chopped milk dried bread crumbs salt pepper taste brown sugar prepared mustard ketchup <end>\n",
            "Predicted translation: preheat oven to 350 degrees f 175 degrees c . in a large bowl , mix together the flour , salt , pepper , and garlic powder . mix in the eggs , and season with salt and pepper . mix in the flour , salt , and pepper . mix well and pour into the prepared pan . bake in the preheated oven until the cheese is melted and the cheese is melted , about 20 minutes . <end> \n",
            "Input: <start> pound pork tenderloin fluid bottle root beer bottle favorite barbecue sauce hamburger buns split lightly toasted <end>\n",
            "Predicted translation: preheat oven to 400 degrees f 200 degrees c . place pork chops in a single layer on a baking sheet . roast in the preheated oven until the fish flakes easily with a fork , about 10 minutes . <end> \n",
            "Input: <start> cream cheese softened butter softened sifted confectioners sugar vanilla extract <end>\n",
            "Predicted translation: beat cream cheese and sugar together in a bowl until smooth . beat in the vanilla and lemon juice . mix well . <end> \n",
            "Input: <start> maple syrup soy sauce clove garlic minced garlic salt ground black pepper pound salmon <end>\n",
            "Predicted translation: in a medium bowl , mix together the soy sauce , garlic , garlic , and garlic . mix together the garlic , mustard , and garlic powder in a bowl . <end> \n",
            "Input: <start> butter melted white sugar vanilla extract eggs purpose flour unsweetened cocoa powder salt semisweet chocolate chips <end>\n",
            "Predicted translation: preheat oven to 350 degrees f 175 degrees c . grease and flour a 9x13 inch pan . in a large bowl , cream together the butter and sugar until light and fluffy . beat in the eggs one at a time , then stir in the vanilla . combine the flour , baking powder , and salt stir into the creamed mixture . pour the batter into the prepared pan . bake in the preheated oven until the edges are golden brown , about 20 minutes . <end> \n",
            "Input: <start> purpose flour milk pinch salt eggs ground cinnamon vanilla extract white sugar thick slices bread <end>\n",
            "Predicted translation: preheat oven to 400 degrees f 200 degrees c . in a large bowl , cream together the butter and sugar until light and fluffy . beat in the eggs one at a time , then stir in the vanilla . combine the flour , baking powder , and salt stir into the creamed mixture . pour the batter into the prepared pan . bake in the preheated oven until the edges are golden brown , about 20 minutes . <end> \n",
            "Input: <start> pound cubed beef stew meat condensed golden mushroom soup chopped onion worcestershire sauce water cream cheese <end>\n",
            "Predicted translation: preheat oven to 350 degrees f 175 degrees c . grease a 9x13 inch baking dish . in a large bowl , mix together the ground beef , onion , onion , and onion . mix well . in a large bowl , mix the soup and milk . mix well . pour the mixture into the prepared baking dish . bake in the preheated oven until the cheese is melted and the cheese is melted , about 20 minutes . <end> \n",
            "Input: <start> salt paprika onion powder dried thyme white pepper cayenne pepper black pepper garlic powder onions quartered pound whole chickens <end>\n",
            "Predicted translation: in a medium bowl , mix together the soy sauce , brown sugar , garlic , garlic , garlic , garlic , garlic , and garlic powder . mix well , and pour into the prepared pan . cover the dish with aluminum foil . bake in the preheated oven until the pork is no longer pink in the center , about 30 minutes . an instant read thermometer inserted into the center should read at least 165 degrees f 74 degrees c . <end> \n",
            "Input: <start> whole fresh mushrooms vegetable oil minced garlic package cream cheese softened grated parmesan cheese ground black pepper onion powder ground cayenne pepper <end>\n",
            "Predicted translation: preheat oven to 350 degrees f 175 degrees c . in a large bowl , mix together the ground beef , onion , garlic , salt , pepper , and garlic . mix together the cheese , sour cream , and cheese mix well . pour the mixture into the prepared baking dish . bake in the preheated oven until the cheese is melted and the cheese is melted , about 20 minutes . <end> \n",
            "Input: <start> purpose flour baking powder salt white sugar shortening milk <end>\n",
            "Predicted translation: preheat oven to 350 degrees f 175 degrees c . grease and flour a 9x13 inch pan . in a large bowl , cream together the butter and sugar until light and fluffy . beat in the eggs one at a time , then stir in the flour mixture . stir in the flour mixture alternately with the milk . mix well . drop by rounded spoonfuls onto the prepared cookie sheets . bake for 8 to 10 minutes in the preheated oven , until the edges are golden brown . <end> \n",
            "Input: <start> skinless boneless chicken breast cubed margarine package dry italian style salad dressing mix package cream cheese condensed cream chicken soup <end>\n",
            "Predicted translation: preheat oven to 350 degrees f 175 degrees c . lightly grease a 9x13 inch baking dish . in a large bowl , mix together the chicken , onion , and onion . mix well . place chicken in a 9x13 inch baking dish . bake in the preheated oven until the chicken is no longer pink in the center , about 45 minutes . an instant read thermometer inserted into the center should read at least 165 degrees f 74 degrees c . <end> \n",
            "Input: <start> rump roast beef broth condensed french onion soup fluid bottle beer french rolls butter <end>\n",
            "Predicted translation: place the pork chops in a large , deep skillet . cook over medium high heat until evenly brown . drain , and set aside . in a large bowl , mix together the ground beef , onion , and green onions . mix well and pour into the prepared pan . cover the dish with aluminum foil . cook the pork chops on the preheated grill until the pork is no longer pink in the center , about 30 minutes . an instant read thermometer inserted into the center should read at least 165 degrees f 74 degrees c . <end> \n",
            "Input: <start> skinless boneless chicken breast butter package dry italian style salad dressing mix white wine condensed golden mushroom soup cream cheese chives pound angel hair pasta <end>\n",
            "Predicted translation: preheat oven to 350 degrees f 175 degrees c . lightly grease a 9x13 inch baking dish . in a large bowl , mix together the ground beef , onion , and garlic . mix well . in a large bowl , mix the chicken , onion , and onion . mix well . place chicken in a 9x13 inch baking dish . bake in the preheated oven until the chicken is no longer pink in the center , about 30 minutes . an instant read thermometer inserted into the center should read at least 165 degrees f 74 degrees c . <end> \n",
            "Input: <start> cream cheese softened mayonnaise chopped green chilies drained canned diced jalapeno peppers drained grated parmesan cheese <end>\n",
            "Predicted translation: preheat oven to 350 degrees f 175 degrees c . in a medium bowl , mix together the cream cheese , mayonnaise , and cheese . mix in the cheese and cheese . spread the mixture evenly over the top of the casserole . bake in the preheated oven until the cheese is melted and the cheese is melted , about 10 minutes . <end> \n",
            "Input: <start> purpose flour white sugar baking powder baking soda salt buttermilk milk eggs butter melted <end>\n",
            "Predicted translation: preheat oven to 350 degrees f 175 degrees c . grease and flour a 9x13 inch pan . in a large bowl , cream together the butter and sugar until light and fluffy . beat in the eggs one at a time , then stir in the flour , baking powder , and salt . stir in the flour mixture alternately with the milk . mix well . drop by rounded spoonfuls onto the prepared cookie sheets . bake for 8 to 10 minutes in the preheated oven , until the edges are golden brown . <end> \n",
            "Input: <start> brussels sprouts ends trimmed yellow leaves removed olive oil kosher salt freshly ground black pepper <end>\n",
            "Predicted translation: preheat oven to 400 degrees f 200 degrees c . place the potatoes in a large pot and cover with water . bring to a boil , then reduce heat to medium low , and simmer until tender , about 20 minutes . drain , and set aside . in a large bowl , mix together the mayonnaise , onion , green onions , and garlic . mix well and pour into the prepared pan . bake in the preheated oven until the cheese is melted and the cheese is melted , about 30 minutes . <end> \n",
            "Input: <start> eggs purpose flour milk vegetable oil white sugar baking powder salt vanilla extract <end>\n",
            "Predicted translation: preheat oven to 350 degrees f 175 degrees c . grease a 9x13 inch baking dish . in a large bowl , cream together the butter and sugar until light and fluffy . beat in the eggs one at a time , then stir in the flour , salt , and vanilla . mix in the flour mixture and mix until well blended . pour batter into prepared pan . bake in the preheated oven until golden brown , about 30 minutes . <end> \n",
            "Input: <start> butter heavy cream clove garlic crushed freshly grated parmesan cheese chopped fresh parsley <end>\n",
            "Predicted translation: melt butter in a saucepan over medium heat . cook and stir until the onion is translucent , about 5 minutes . stir in the garlic and cook until the cheese is melted and the cheese is melted , about 5 minutes . stir in the remaining 1 cup of the cheese and continue cooking until the cheese is melted and the sauce is bubbly , about 5 minutes . <end> \n",
            "Input: <start> purpose flour paprika cayenne pepper salt chicken wings oil deep frying butter hot sauce dash ground black pepper dash garlic powder <end>\n",
            "Predicted translation: in a large bowl , mix together the flour , salt , pepper , and garlic powder . mix in the flour , salt , and pepper . mix well and form into a ball . place the chicken in a large , deep skillet . cook over medium high heat until evenly brown . drain , and set aside . in a large bowl , mix together the ground beef , onion , and green pepper . mix well and pour into the prepared pan . bake in the preheated oven until the cheese is melted and the cheese is melted , about 30 minutes . <end> \n",
            "Input: <start> confectioners sugar milk light corn syrup almond extract assorted food coloring <end>\n",
            "Predicted translation: in a large bowl , combine the sugar , milk , and vanilla . mix well . stir in the vanilla and the chocolate chips . pour the mixture into the prepared pan . bake in the preheated oven until the crust is golden brown , about 10 minutes . <end> \n",
            "Input: <start> butter melted eggs beaten package dry corn bread mix whole kernel corn drained creamed corn sour cream <end>\n",
            "Predicted translation: preheat oven to 350 degrees f 175 degrees c . grease a 9x13 inch baking dish . in a large bowl , mix together the eggs , milk , eggs , and eggs . mix well . pour into prepared pan . bake in preheated oven for 45 minutes , or until a toothpick inserted into the center of the cake comes out clean . <end> \n",
            "Input: <start> beef broth boneless pork ribs bottle barbeque sauce <end>\n",
            "Predicted translation: preheat oven to 350 degrees f 175 degrees c . place chicken in a large , deep skillet . cook over medium high heat until evenly brown . drain , crumble and set aside . in a large bowl , mix together the ground beef , onion soup mix , and cheese . mix well . spread mixture evenly over the chicken . bake in the preheated oven until the cheese is melted and the cheese is melted , about 10 minutes . <end> \n",
            "Input: <start> eggplant peeled thinly sliced eggs beaten italian seasoned bread crumbs spaghetti sauce divided package mozzarella cheese shredded divided grated parmesan cheese divided dried basil <end>\n",
            "Predicted translation: preheat oven to 400 degrees f 200 degrees c . place the chicken in a large , deep skillet . cook over medium high heat until evenly brown . drain , crumble and set aside . in a large bowl , mix together the eggs , milk , eggs , and garlic . mix well . in a large bowl , mix together the mayonnaise , sour cream , and cheese . mix well . spread mixture evenly over the top of the casserole . bake in the preheated oven until the cheese is melted and the cheese is melted , about 30 minutes . <end> \n",
            "Input: <start> white sugar butter eggs vanilla extract purpose flour baking powder milk <end>\n",
            "Predicted translation: preheat oven to 350 degrees f 175 degrees c . grease and flour a 9x13 inch pan . in a large bowl , cream together the butter and sugar until light and fluffy . beat in the eggs one at a time , then stir in the vanilla . combine the flour , baking soda , and salt stir into the creamed mixture . pour the batter into the prepared pan . bake in the preheated oven until the edges are golden brown , about 20 minutes . <end> \n",
            "Input: <start> purpose flour baking powder baking soda salt large bananas mashed white sugar egg butter melted <end>\n",
            "Predicted translation: preheat oven to 350 degrees f 175 degrees c . grease and flour a 9x13 inch pan . in a large bowl , cream together the butter and sugar until light and fluffy . beat in the eggs one at a time , then stir in the flour , baking powder , and salt . stir in the flour mixture until just combined . drop by rounded spoonfuls onto the prepared cookie sheets . bake for 8 to 10 minutes in the preheated oven , until the edges are golden brown . cool on wire racks . <end> \n",
            "Input: <start> cloves garlic minced olive oil tomato sauce red wine vinegar chopped fresh basil salt cayenne pepper fresh shrimp peeled deveined skewers <end>\n",
            "Predicted translation: in a small bowl , mix together the garlic , garlic , garlic , garlic , oregano , and garlic powder . place the pork chops in the marinade , and cover the bag with plastic wrap . marinate in the refrigerator for at least 1 hour . preheat an outdoor grill for medium high heat and lightly oil the grate . remove the pork chops from the marinade , and discard marinade . grill the pork chops for about 5 minutes per side , or until the internal temperature reaches 180 degrees f 80 degrees c . <end> \n",
            "Input: <start> large granny smith apples peeled cored refrigerated crescent roll dough butter white sugar ground cinnamon fluid bottle mountain dew ™ <end>\n",
            "Predicted translation: preheat oven to 350 degrees f 175 degrees c . grease a 9x13 inch baking dish . in a large bowl , combine the cake mix , eggs , and sugar . mix well . in a separate bowl , beat together the eggs , sugar and vanilla . mix well . pour batter into prepared pan . bake in the preheated oven until the crust is golden brown , about 45 minutes . <end> \n",
            "Input: <start> inch prepared graham cracker crust sweetened condensed milk sour cream key lime juice grated lime zest <end>\n",
            "Predicted translation: in a large bowl , mix together the cream cheese , sour cream , and lemon juice . mix well and serve . <end> \n",
            "Input: <start> purpose flour eggs milk water salt butter melted <end>\n",
            "Predicted translation: preheat oven to 350 degrees f 175 degrees c . grease a 9x13 inch baking dish . in a large bowl , cream together the butter and sugar until light and fluffy . beat in the eggs one at a time , then stir in the flour mixture . stir in the flour mixture and mix until well blended . pour batter into prepared pan . bake in the preheated oven until golden brown , about 30 minutes . <end> \n",
            "Input: <start> slices day old bread butter melted raisins optional eggs beaten milk white sugar ground cinnamon vanilla extract <end>\n",
            "Predicted translation: preheat oven to 400 degrees f 200 degrees c . lightly grease a baking sheet . in a large bowl , mix together the flour , baking powder , and salt . set aside . in a large bowl , cream together the butter and sugar until light and fluffy . beat in the eggs one at a time , then stir in the vanilla . combine the flour and baking soda stir into the mixture until well blended . pour the batter into the prepared pan . bake in the preheated oven until the edges are golden brown , about 20 minutes . <end> \n",
            "Input: <start> eggs beaten crushed buttery round cracker crumbs garlic salt ground black pepper taste skinless boneless chicken breast butter cut pieces <end>\n",
            "Predicted translation: preheat oven to 350 degrees f 175 degrees c . in a medium bowl , mix together the flour , salt , pepper , and garlic . mix together the flour , and salt in a large bowl . mix in the flour and salt . mix well . place the chicken in a 9x13 inch baking dish . bake in the preheated oven until the cheese is melted and the cheese is melted , about 20 minutes . <end> \n",
            "Input: <start> pound pork tenderloin envelope dry onion soup mix water red wine minced garlic soy sauce freshly ground black pepper taste <end>\n",
            "Predicted translation: place the pork chops in a slow cooker . cook over medium high heat until evenly brown . drain , and set aside . in a large bowl , mix together the ground beef , onion , green onions , and garlic . mix well and pour into the prepared pan . cover the dish with aluminum foil . cook the pork chops on the preheated grill until the pork is no longer pink in the center , about 10 minutes . an instant read thermometer inserted into the center should read at least 165 degrees f 74 degrees c . <end> \n",
            "Input: <start> large baking potatoes slices bacon sour cream milk butter salt pepper shredded cheddar cheese divided green onions sliced divided <end>\n",
            "Predicted translation: preheat oven to 350 degrees f 175 degrees c . place the potatoes in a large pot and cover with salted water bring to a boil . cook until tender , about 10 minutes . drain , and return to the pot . stir in the onion , and cook until tender . stir in the onion and garlic . cook and stir until the onion is translucent , about 5 minutes . stir in the onion and cook until the cheese is melted and the cheese has melted , about 5 minutes . stir in the cheese and continue cooking until the cheese is melted and the cheese is melted and the cheese is melted . stir in the cheese and serve . <end> \n",
            "Input: <start> warm water degrees f degrees c white sugar package bread machine yeast vegetable oil bread flour salt <end>\n",
            "Predicted translation: in a large bowl , combine the flour , salt , baking powder , and salt . stir in the flour , baking soda , and salt . stir in the flour mixture until well blended . drop by rounded spoonfuls onto the prepared baking sheets . bake in the preheated oven until golden brown , about 10 minutes . <end> \n",
            "Input: <start> package oreo chocolate sandwich cookies divided package philadelphia cream cheese softened baker semi sweet baking chocolate melted <end>\n",
            "Predicted translation: line a baking sheet with parchment paper . place the chocolate chips in a microwave safe bowl . microwave on high until the chocolate is melted , about 1 minute . stir in the vanilla and vanilla . pour the mixture into the prepared pan . sprinkle the remaining sugar over the top . cover the bowl with plastic wrap and refrigerate until set , about 1 hour . <end> \n",
            "Input: <start> cloves garlic minced light olive oil dried basil salt ground black pepper lemon juice fresh parsley chopped fillets salmon <end>\n",
            "Predicted translation: in a small bowl , mix together the garlic , garlic , garlic , garlic , and garlic powder . place the pork chops in the marinade , and coat with the marinade . cover , and marinate in the refrigerator for at least 1 hour . preheat an outdoor grill for medium high heat and lightly oil the grate . remove the pork chops from the marinade , and discard marinade . grill the pork chops in the preheated oven until the pork is no longer pink in the center , about 30 minutes . an instant read thermometer inserted into the center should read 145 degrees f 63 degrees c . <end> \n",
            "Input: <start> pound whole chicken giblets removed salt black pepper taste onion powder taste margarine divided stalk celery leaves removed <end>\n",
            "Predicted translation: preheat oven to 400 degrees f 200 degrees c . place the chicken in a large , deep skillet . cook over medium high heat until evenly brown . drain , crumble and set aside . in a large bowl , combine the eggs , milk , eggs , and pepper . mix well . in a large bowl , mix together the mayonnaise , sour cream , and cheese . mix well . spread mixture evenly over the chicken . bake in the preheated oven until the cheese is melted and the cheese is melted , about 30 minutes . <end> \n",
            "Input: <start> olive oil clove garlic minced dry bread crumbs grated parmesan cheese dried basil leaves ground black pepper skinless boneless chicken breast <end>\n",
            "Predicted translation: heat olive oil in a large skillet over medium heat . cook and stir onion and garlic in the hot oil until softened , about 5 minutes . stir in the garlic and cook until the onion is translucent , about 5 minutes . stir in the onion and cook until the onion is translucent , about 5 minutes . stir in the tomatoes and cook until the cheese is melted and the sauce is slightly thickened , about 5 minutes . <end> \n",
            "Input: <start> lean ground beef crushed buttery round crackers shredded cheddar cheese package dry onion soup mix eggs beaten ketchup steak sauce <end>\n",
            "Predicted translation: preheat oven to 350 degrees f 175 degrees c . grease a 9x13 inch baking dish . in a large bowl , mix together the flour , salt , pepper and pepper . mix well . in a large bowl , mix the flour , salt and pepper . mix well . place the chicken in a 9x13 inch baking dish . bake in the preheated oven until the cheese is melted and the cheese is melted , about 20 minutes . <end> \n",
            "Input: <start> bag coleslaw mix diced onion creamy salad dressing miracle whip™ vegetable oil white sugar white vinegar salt poppy seeds <end>\n",
            "Predicted translation: in a large bowl , mix together the mayonnaise , mayonnaise , salt , pepper , and garlic powder . mix well . in a separate bowl , mix the flour , salt and pepper . mix well and refrigerate for at least 1 hour . <end> \n",
            "Input: <start> unsalted butter crunchy peanut butter white sugar packed brown sugar eggs purpose flour baking powder salt baking soda <end>\n",
            "Predicted translation: preheat oven to 350 degrees f 175 degrees c . grease and flour a 9x13 inch pan . in a large bowl , cream together the butter and sugar until light and fluffy . beat in the eggs one at a time , then stir in the vanilla . combine the flour , baking powder , and salt stir into the creamed mixture . pour the batter into the prepared pan . bake in the preheated oven until the edges are golden brown , about 20 minutes . <end> \n",
            "Input: <start> purpose flour package active dry yeast vegetable oil salt white sugar warm water degrees f degrees c <end>\n",
            "Predicted translation: in a large bowl , combine flour , sugar , baking powder , and salt . stir in flour , baking soda , and salt . stir in flour mixture until dough is smooth . roll dough into 1 inch balls and place on a baking sheet . bake in the preheated oven until golden brown , about 30 minutes . <end> \n",
            "Input: <start> soy sauce vegetable oil worcestershire sauce lemon juice brown sugar ketchup pork chops trimmed <end>\n",
            "Predicted translation: in a large bowl , mix together the soy sauce , soy sauce , garlic , and garlic . mix together the ground beef , garlic , and garlic powder in a bowl . pour the marinade over the pork chops . cover , and marinate in the refrigerator for at least 1 hour . preheat an outdoor grill for medium high heat and lightly oil the grate . remove the pork chops from the marinade , and discard marinade . grill for about 5 minutes per side , or until the internal temperature reaches 180 degrees f 80 degrees c . <end> \n",
            "Input: <start> pumpkin eagle brand® sweetened condensed milk large eggs ground cinnamon ground ginger ground nutmeg salt inch unbaked pie crust <end>\n",
            "Predicted translation: preheat oven to 350 degrees f 175 degrees c . grease and flour a 9x13 inch pan . in a large bowl , cream together the butter and sugar until light and fluffy . beat in the eggs one at a time , then stir in the vanilla . combine the flour , baking soda and salt stir into the creamed mixture . pour the batter into the prepared pan . bake in the preheated oven until the crust is golden brown , about 20 minutes . <end> \n",
            "Input: <start> vegetable oil uncooked long grain rice garlic salt ground cumin chopped onion tomato sauce chicken broth <end>\n",
            "Predicted translation: heat oil in a large skillet over medium high heat . cook and stir beef in the hot oil until browned , about 5 minutes . drain and set aside . in a large bowl , combine the beef , onion , onion , green onions , and green onions . mix well . pour into a 9x13 inch baking dish . bake in the preheated oven until the cheese is melted and the cheese is melted , about 30 minutes . <end> \n",
            "Input: <start> minced garlic olive oil large head cauliflower separated florets grated parmesan cheese salt black pepper taste chopped fresh parsley <end>\n",
            "Predicted translation: heat olive oil in a large skillet over medium heat . cook and stir onion in the hot oil until softened , about 5 minutes . add the garlic and cook until the onion is translucent , about 5 minutes . stir in the garlic and cook until the onion is translucent , about 5 minutes . stir in the onion and cook until the onion is translucent , about 5 minutes . stir in the tomatoes and cook until the sauce is hot and the sauce is slightly reduced , about 5 minutes . <end> \n",
            "Input: <start> butter margarine melted graham cracker crumbs confectioners sugar peanut butter semisweet chocolate chips peanut butter <end>\n",
            "Predicted translation: preheat oven to 350 degrees f 175 degrees c . grease and flour a 9x13 inch pan . in a large bowl , cream together the butter and sugar until light and fluffy . beat in the eggs one at a time , then stir in the vanilla . combine the flour , baking soda and salt stir into the creamed mixture . pour the batter into the prepared pan . bake in the preheated oven until the edges are golden brown , about 20 minutes . <end> \n",
            "Input: <start> package active dry yeast white sugar warm water degrees f degrees c bread flour olive oil salt <end>\n",
            "Predicted translation: in a large bowl , combine the sugar , water , sugar , salt and sugar . bring to a boil , then stir in the flour mixture . cover and cook for about 10 minutes , or until the mixture is thick and the mixture is thick and the mixture is thick . remove from heat and stir in the vanilla . drop by spoonfuls onto waxed paper . <end> \n",
            "Input: <start> skinless boneless chicken breast salt pepper taste honey prepared mustard dried basil paprika dried parsley <end>\n",
            "Predicted translation: preheat oven to 400 degrees f 200 degrees c . place the chicken in a large roasting pan . sprinkle with garlic powder , salt , and pepper . bake in the preheated oven until the fish flakes easily with a fork , about 10 minutes . <end> \n",
            "Input: <start> purpose flour yellow cornmeal white sugar salt baking powder egg milk vegetable oil <end>\n",
            "Predicted translation: preheat oven to 350 degrees f 175 degrees c . grease a 9x13 inch baking dish . in a large bowl , cream together the butter and sugar until light and fluffy . beat in the eggs one at a time , then stir in the flour , salt , and pepper . mix in the flour mixture and mix until well blended . pour batter into prepared pan . bake in the preheated oven until golden brown , about 30 minutes . <end> \n",
            "Input: <start> butter onion chopped package frozen chopped broccoli chicken broth pound loaf processed cheese food cubed milk garlic powder cornstarch water <end>\n",
            "Predicted translation: melt butter in a large skillet over medium heat . cook and stir onion in the hot oil until tender , about 5 minutes . stir in the onion and cook until tender , about 5 minutes . stir in the onion and cook until tender , about 5 minutes . stir in the onion and cook until the onion is translucent , about 5 minutes . stir in the onion and cook until the cheese is melted and the sauce is thick and the sauce is thick and bubbly , about 5 minutes . <end> \n",
            "Input: <start> artichoke hearts drained chopped grated parmesan cheese mayonnaise pinch garlic pepper skinless boneless chicken breast <end>\n",
            "Predicted translation: preheat oven to 350 degrees f 175 degrees c . in a medium bowl , mix together the flour , salt , pepper and paprika . mix well . place the chicken in a 9x13 inch baking dish . bake in the preheated oven until the cheese is melted and the cheese is melted , about 20 minutes . <end> \n",
            "Input: <start> shortening margarine softened packed brown sugar white sugar peanut butter eggs purpose flour baking soda salt quick cooking oats <end>\n",
            "Predicted translation: preheat oven to 350 degrees f 175 degrees c . grease and flour a 9x13 inch pan . in a large bowl , cream together the butter and sugar until light and fluffy . beat in the eggs one at a time , then stir in the vanilla . combine the flour , baking powder , and salt stir into the creamed mixture . pour the batter into the prepared pan . bake in the preheated oven until the edges are golden brown , about 20 minutes . <end> \n",
            "Input: <start> peanut butter white sugar egg <end>\n",
            "Predicted translation: in a large bowl , mix together the cream cheese , sugar , and vanilla . mix well . pour into the prepared pan . bake in the preheated oven until the crust is golden brown , about 30 minutes . <end> \n",
            "Input: <start> pound sweet potato butter softened white sugar milk eggs ground nutmeg ground cinnamon vanilla extract inch unbaked pie crust <end>\n",
            "Predicted translation: preheat oven to 350 degrees f 175 degrees c . grease a 9x13 inch baking dish . in a large bowl , mix together the sugar , sugar , cinnamon , nutmeg , cinnamon , nutmeg , and cinnamon . place the chicken in a large , deep skillet . cook over medium high heat until evenly brown . drain , and set aside . in a large bowl , mix together the eggs , milk , and eggs . mix well . pour into the prepared pan . bake in the preheated oven until the crust is golden brown , about 30 minutes . <end> \n",
            "Input: <start> recipe pastry inch double crust pie unsalted butter purpose flour white sugar packed brown sugar water granny smith apples peeled cored sliced <end>\n",
            "Predicted translation: preheat oven to 400 degrees f 200 degrees c . lightly grease a baking sheet . in a large bowl , mix together the flour , baking powder , and salt . set aside . in a large bowl , cream together the butter and sugar until light and fluffy . beat in the eggs one at a time , then stir in the flour mixture . pour the batter into the prepared pan . bake in the preheated oven until the edges are golden brown , about 20 minutes . <end> \n",
            "Input: <start> apples peeled cored chopped water white sugar ground cinnamon <end>\n",
            "Predicted translation: in a large bowl , combine the sugar , water , sugar , and salt . bring to a boil , then reduce heat to low , and simmer for 20 minutes . remove from heat and cool . <end> \n",
            "Input: <start> pound bacon package little smokie sausages brown sugar taste <end>\n",
            "Predicted translation: place the potatoes into a large pot and cover with salted water bring to a boil . cook until the potatoes are tender , about 10 minutes . drain and return to the pot . stir in the onion and garlic . cook and stir until the cheese is melted and the mixture is smooth . pour the mixture into the prepared baking dish . bake in the preheated oven until the cheese is melted and the cheese is melted , about 30 minutes . <end> \n",
            "Input: <start> white sugar margarine melted ground nutmeg milk baking powder purpose flour margarine melted white sugar ground cinnamon <end>\n",
            "Predicted translation: preheat oven to 350 degrees f 175 degrees c . grease a 9x13 inch baking dish . in a large bowl , mix together the flour , sugar , baking powder , and salt . in a large bowl , mix together the flour , sugar , baking powder and salt . mix in the flour mixture and mix until well blended . pour batter into prepared pan . bake in the preheated oven until a toothpick inserted into the center comes out clean , about 45 minutes . <end> \n",
            "Input: <start> chicken wings olive oil soy sauce ketchup honey clove garlic minced salt pepper taste <end>\n",
            "Predicted translation: preheat oven to 400 degrees f 200 degrees c . place the chicken in a large , deep skillet . cook over medium high heat until evenly brown . drain , and set aside . in a large bowl , mix together the mayonnaise , mustard , garlic , salt , pepper and garlic . mix well and serve . <end> \n",
            "Input: <start> light brown sugar white sugar butter eggs purpose flour milk vanilla extract chopped pe <end>\n",
            "Predicted translation: preheat oven to 350 degrees f 175 degrees c . grease and flour a 9x13 inch pan . in a large bowl , cream together the butter and sugar until light and fluffy . beat in the eggs one at a time , then stir in the vanilla . combine the flour , baking powder , and salt stir into the creamed mixture . pour the batter into the prepared pan . bake in the preheated oven until the crust is golden brown , about 20 minutes . <end> \n",
            "Input: <start> skinless boneless chicken breast fluid bottle buffalo wing sauce divided package dry ranch salad dressing mix butter hoagie rolls split lengthwise <end>\n",
            "Predicted translation: preheat oven to 350 degrees f 175 degrees c . place chicken in a large , deep skillet . cook over medium high heat until evenly brown . drain , crumble and set aside . in a large bowl , mix together the soup and milk . mix well . pour into a 9x13 inch baking dish . bake in the preheated oven until the cheese is melted and the cheese is melted , about 30 minutes . <end> \n",
            "Input: <start> purpose flour salt baking powder white sugar eggs warm milk butter melted vanilla extract <end>\n",
            "Predicted translation: preheat oven to 350 degrees f 175 degrees c . grease and flour a 9x13 inch pan . in a large bowl , cream together the butter and sugar until light and fluffy . beat in the eggs one at a time , then stir in the vanilla . combine the flour , baking powder , and salt stir into the creamed mixture . pour the batter into the prepared pan . bake in the preheated oven until the edges are golden brown , about 20 minutes . <end> \n",
            "Input: <start> package frozen hash brown potatoes cooked diced ham condensed cream potato soup container sour cream shredded sharp cheddar cheese grated parmesan cheese <end>\n",
            "Predicted translation: preheat oven to 350 degrees f 175 degrees c . lightly grease a 9x13 inch baking dish . in a medium bowl , mix together the ground beef , onion , and garlic . mix well . place the chicken in a 9x13 inch baking dish . bake in the preheated oven until the cheese is melted and the cheese is melted , about 20 minutes . <end> \n",
            "Input: <start> sour cream baking soda purpose flour white sugar baking powder cream tartar salt butter egg raisins optional <end>\n",
            "Predicted translation: preheat oven to 350 degrees f 175 degrees c . grease and flour a 9x13 inch pan . in a large bowl , cream together the butter and sugar until light and fluffy . beat in the eggs one at a time , then stir in the vanilla . combine the flour , baking soda , and salt stir into the creamed mixture . pour the batter into the prepared pan . bake in the preheated oven until the edges are golden brown , about 20 minutes . <end> \n",
            "Input: <start> bunch fresh asparagus trimmed cooking spray salt pepper taste butter soy sauce balsamic vinegar <end>\n",
            "Predicted translation: preheat oven to 400 degrees f 200 degrees c . place the potatoes in a large pot and cover with water . bring to a boil , then reduce heat to medium low , and simmer until tender , about 20 minutes . drain , and set aside . in a large bowl , mix together the mayonnaise , onion , garlic , salt and pepper . mix well and serve . <end> \n",
            "Input: <start> dijon mustard honey mayonnaise steak sauce skinless boneless chicken breast <end>\n",
            "Predicted translation: preheat an oven to 350 degrees f 175 degrees c . in a medium bowl , mix together the ground beef , cheddar cheese , and cheese . bake in the preheated oven until the cheese is melted and the cheese is melted , about 20 minutes . <end> \n",
            "Input: <start> egg milk shredded cheddar cheese quick cooking oats salt pound ground beef ketchup packed brown sugar prepared mustard <end>\n",
            "Predicted translation: preheat oven to 400 degrees f 200 degrees c . in a large bowl , mix together the flour , salt , pepper , and salt . in a separate bowl , mix the flour , baking powder , and salt . stir in the flour and salt . mix in the flour mixture and mix until well blended . pour batter into prepared pan . bake in the preheated oven until a toothpick inserted into the center comes out clean , about 45 minutes . <end> \n",
            "Input: <start> butter prepared dijon style mustard fresh lemon juice chopped garlic chopped fresh parsley medium raw shrimp shelled deveined tails attached <end>\n",
            "Predicted translation: in a medium bowl , mix together the mayonnaise , mustard , garlic , salt , pepper , and garlic . mix well and serve . <end> \n",
            "Input: <start> oil chopped onion uncooked white rice chicken broth chunky salsa <end>\n",
            "Predicted translation: heat the oil in a large skillet over medium high heat . cook and stir the onion and garlic in the hot oil until the onion is translucent , about 5 minutes . stir in the chicken broth and cook until the chicken is no longer pink in the center , about 10 minutes . an instant read thermometer inserted into the center should read at least 165 degrees f 74 degrees c . <end> \n",
            "Input: <start> vegetable oil onion chopped package frozen chopped spinach thawed drained eggs beaten shredded muenster cheese salt ground black pepper <end>\n",
            "Predicted translation: heat oil in a large skillet over medium high heat . cook and stir onion in the hot oil until browned and crumbly , 5 to 7 minutes . stir in the onion and cook until tender , about 5 minutes . stir in the onion and cook until the onion is translucent , about 5 minutes . stir in the rice and cook until the beef is tender , about 5 minutes . stir in the remaining 1 cup of the beef and cook until the cheese has melted and the mixture is thick and the sauce is bubbly , about 5 minutes . <end> \n",
            "Input: <start> cornmeal milk purpose flour baking powder salt white sugar eggs vegetable oil <end>\n",
            "Predicted translation: preheat oven to 400 degrees f 200 degrees c . in a large bowl , cream together the butter and sugar until light and fluffy . beat in the eggs one at a time , then stir in the flour , salt , and vanilla . mix until well blended . pour batter into the prepared pan . bake in the preheated oven until a toothpick inserted into the center comes out clean , about 45 minutes . <end> \n",
            "Input: <start> butter softened white sugar purpose flour eggs white sugar purpose flour lemons juiced <end>\n",
            "Predicted translation: preheat oven to 350 degrees f 175 degrees c . grease and flour a 9x13 inch pan . in a large bowl , cream together the butter and sugar until light and fluffy . beat in the eggs one at a time , then stir in the vanilla . combine the flour and baking soda stir into the creamed mixture . pour the batter into the prepared pan . bake in the preheated oven until golden brown , about 30 minutes . <end> \n",
            "Input: <start> package chocolate cake mix container prepared chocolate frosting bar chocolate flavored confectioners coating <end>\n",
            "Predicted translation: preheat oven to 350 degrees f 175 degrees c . grease a 9x13 inch baking dish . in a medium bowl , mix together the cake mix , eggs , and vanilla . mix well . spread evenly over the top of the cake . bake in the preheated oven until the crust is golden brown , about 20 minutes . <end> \n",
            "Input: <start> skinless boneless chicken breast salt ground black pepper slices swiss cheese slices cooked ham seasoned bread crumbs <end>\n",
            "Predicted translation: preheat oven to 350 degrees f 175 degrees c . place the chicken breasts in a 9x13 inch baking dish . sprinkle with garlic powder , and sprinkle with salt . bake in the preheated oven until the chicken is no longer pink in the center , about 30 minutes . an instant read thermometer inserted into the center should read at least 165 degrees f 74 degrees c . <end> \n",
            "Input: <start> white sugar water lemon juice <end>\n",
            "Predicted translation: in a large bowl , combine the sugar , water , sugar and cinnamon . mix well . pour into a resealable plastic bag . refrigerate until ready to serve . <end> \n",
            "Input: <start> bunch kale olive oil seasoned salt <end>\n",
            "Predicted translation: preheat oven to 400 degrees f 200 degrees c . place the bread in a large , deep skillet . cook over medium high heat until evenly brown . drain , and set aside . in a large bowl , mix together the mayonnaise , mayonnaise , and salt . mix well and serve . <end> \n",
            "Input: <start> onion peeled halved dry pinto beans rinsed fresh jalapeno pepper seeded chopped minced garlic salt fresh ground black pepper ground cumin optional water <end>\n",
            "Predicted translation: in a large bowl , combine the tomatoes , onion , garlic , salt , pepper , and garlic . mix well and pour into the slow cooker . cook on low for 8 to 10 hours . <end> \n",
            "Input: <start> saltine crackers purpose flour dry potato flakes seasoned salt ground black pepper egg skinless boneless chicken breast vegetable oil frying <end>\n",
            "Predicted translation: preheat oven to 400 degrees f 200 degrees c . lightly grease a baking sheet . in a large bowl , mix together the flour , salt , pepper , and garlic . mix in the flour , and season with salt and pepper . mix well and form into a ball . place the chicken in a large , deep skillet . cook over medium high heat until evenly brown . drain , and set aside . in a large bowl , mix together the soup and milk . mix well . pour into a 9x13 inch baking dish . bake in the preheated oven until the cheese is melted and the cheese is melted , about 30 minutes . <end> \n",
            "Input: <start> pound whole chicken cut pieces butter melted honey prepared mustard salt curry powder <end>\n",
            "Predicted translation: preheat oven to 350 degrees f 175 degrees c . in a medium bowl , mix together the ground beef , garlic , and garlic powder . mix together the cheese and sour cream in a bowl . pour the mixture over the chicken and bake in the preheated oven until the cheese is melted and the cheese is melted , about 20 minutes . <end> \n",
            "Input: <start> jar marshmallow creme white sugar evaporated milk butter salt milk chocolate chips semisweet chocolate chips chopped nuts vanilla extract <end>\n",
            "Predicted translation: in a large bowl , mix together the peanut butter , sugar , vanilla and vanilla . stir in the peanut butter , vanilla and vanilla . pour into the prepared pan . bake in the preheated oven until the crust is golden brown , about 10 minutes . <end> \n",
            "Input: <start> butter softened white sugar almond extract purpose flour seedless raspberry jam confectioners sugar almond extract milk <end>\n",
            "Predicted translation: preheat oven to 350 degrees f 175 degrees c . grease and flour a 10 inch tube pan . in a large bowl , cream together the butter and sugar until light and fluffy . beat in the eggs one at a time , then stir in the vanilla . combine the flour , baking soda , and salt stir into the creamed mixture . pour the batter into the prepared pan . bake in the preheated oven until the edges are golden brown , about 20 minutes . <end> \n",
            "Input: <start> ground turkey seasoned bread crumbs finely diced onion egg whites lightly beaten chopped fresh parsley clove garlic peeled minced salt ground black pepper <end>\n",
            "Predicted translation: preheat oven to 350 degrees f 175 degrees c . in a large bowl , mix together the flour , salt , pepper , and garlic powder . mix in the flour , salt , and pepper . mix well . place the chicken in a large , deep skillet . cook over medium high heat until evenly brown . drain , and set aside . in a large bowl , mix together the soup and milk . mix well . pour into a 9x13 inch baking dish . bake in the preheated oven until the cheese is melted and the cheese is melted , about 20 minutes . <end> \n",
            "Input: <start> eggs beaten grated parmesan cheese seasoned bread crumbs skinless boneless chicken breast vegetable oil pasta sauce slices monterey jack cheese <end>\n",
            "Predicted translation: preheat oven to 350 degrees f 175 degrees c . in a large bowl , mix together the flour , salt , pepper and paprika . mix well . place chicken in a 9x13 inch baking dish . bake in the preheated oven until the cheese is melted and the cheese is melted , about 20 minutes . <end> \n",
            "Input: <start> tilapia fillets fresh lemon juice butter melted clove garlic finely chopped dried parsley flakes pepper taste <end>\n",
            "Predicted translation: preheat oven to 350 degrees f 175 degrees c . in a medium bowl , mix together the ground beef , garlic , garlic , salt , pepper , and garlic . mix together the cheese and sour cream cheese mixture into the cheese mixture . bake in the preheated oven until the cheese is melted and the cheese is melted , about 20 minutes . <end> \n",
            "Input: <start> uncooked egg noodles pound lean ground beef onion chopped cloves garlic minced green bell pepper chopped sliced pepperoni sausage pizza sauce milk shredded mozzarella cheese <end>\n",
            "Predicted translation: preheat oven to 350 degrees f 175 degrees c . grease a 9x13 inch baking dish . in a large bowl , mix together the ground beef , onion , onion , onion , garlic , salt and pepper . mix well . in a large bowl , mix together the flour , baking powder and salt . mix well . place the chicken in a 9x13 inch baking dish . bake in the preheated oven until the cheese is melted and the cheese is melted , about 20 minutes . <end> \n",
            "Input: <start> cranberries white sugar orange juice <end>\n",
            "Predicted translation: in a large bowl , combine the sugar , water , and sugar . mix well . pour into a resealable plastic bag . refrigerate until ready to serve . <end> \n",
            "Input: <start> butter brown sugar corn syrup salt baking soda vanilla extract quarts popped popcorn <end>\n",
            "Predicted translation: preheat oven to 350 degrees f 175 degrees c . grease and flour a 9x13 inch pan . in a large bowl , mix together the eggs , milk , eggs , and vanilla . stir in the eggs and milk . pour into the prepared pan . bake in the preheated oven until the crust is golden brown , about 20 minutes . <end> \n",
            "Input: <start> butter brown sugar milk peanut butter vanilla extract confectioners sugar <end>\n",
            "Predicted translation: melt butter in a saucepan over medium heat . stir in the sugar , and cook until the sugar has dissolved , about 5 minutes . stir in the vanilla and vanilla . cook and stir until the sugar has dissolved , about 5 minutes . remove from heat and stir in the vanilla . pour the mixture into the prepared pan . cool completely before cutting into bars . <end> \n",
            "Input: <start> canned garbanzo beans drained tahini lemon juice salt cloves garlic halved olive oil pinch paprika minced fresh parsley <end>\n",
            "Predicted translation: in a large bowl , combine the yogurt , olive oil , lemon juice , garlic , garlic , and garlic powder . mix well and serve . <end> \n",
            "Input: <start> steak seasoning rub balsamic vinegar olive oil boneless pork loin roast <end>\n",
            "Predicted translation: preheat oven to 400 degrees f 200 degrees c . place the pork chops in a large , deep skillet . cook over medium high heat until evenly brown . drain , and set aside . in a large bowl , mix together the mayonnaise , mayonnaise , and salt . mix well and serve . <end> \n",
            "Input: <start> pound prime rib roast cloves garlic minced olive oil salt ground black pepper dried thyme <end>\n",
            "Predicted translation: preheat oven to 400 degrees f 200 degrees c . place the chicken in a large , deep skillet . cook over medium high heat until evenly brown . drain , and set aside . in a large bowl , mix together the ground beef , onion , garlic , salt and pepper . mix well . place the chicken in a large , deep skillet . cook over medium high heat until evenly brown . drain , and set aside . in a large bowl , mix together the mayonnaise , sour cream , and cheese . mix well and serve . <end> \n",
            "Input: <start> clean scrubbed new red potatoes eggs pound bacon onion finely chopped stalk celery finely chopped mayonnaise salt pepper taste <end>\n",
            "Predicted translation: place potatoes in a large pot and cover with salted water bring to a boil . cook until tender , about 10 minutes . drain , and set aside . in a large bowl , combine the eggs , milk , eggs , onion , and garlic . mix well . in a large bowl , mix together the flour , salt and pepper . mix well . place the chicken in a 9x13 inch baking dish . bake in the preheated oven until the cheese is melted and the cheese is melted , about 30 minutes . <end> \n",
            "Input: <start> pound whole turkey butter divided warm water chicken bouillon dried parsley dried minced onion seasoning salt <end>\n",
            "Predicted translation: preheat oven to 350 degrees f 175 degrees c . in a large bowl , combine the potatoes , onion , onion , garlic , salt and pepper . mix well . place chicken in a 9x13 inch baking dish . bake in the preheated oven until the chicken is no longer pink in the center , about 45 minutes . an instant read thermometer inserted into the center should read at least 165 degrees f 74 degrees c . <end> \n",
            "Input: <start> spaghetti squash halved lengthwise seeded vegetable oil onion chopped clove garlic minced chopped tomatoes crumbled feta cheese sliced black olives chopped fresh basil <end>\n",
            "Predicted translation: preheat oven to 400 degrees f 200 degrees c . place the chicken in a large roasting pan . sprinkle with garlic powder , salt , and pepper . cover , and bake in the preheated oven until the potatoes are tender , about 20 minutes . remove from oven and allow to cool . <end> \n",
            "Input: <start> fresh broccoli cut bite size pieces butter brown sugar soy sauce white vinegar ground black pepper cloves garlic minced chopped salted cashews <end>\n",
            "Predicted translation: place the pork chops in a large , deep skillet . cook over medium high heat until evenly brown . drain , and set aside . in a large bowl , mix together the mayonnaise , onion , garlic , salt , pepper , and garlic . mix in the onion and garlic . mix well and serve . <end> \n",
            "Input: <start> purpose flour salt baking soda butter margarine white sugar mashed overripe bananas eggs beaten chopped walnuts <end>\n",
            "Predicted translation: preheat oven to 350 degrees f 175 degrees c . grease a 9x13 inch baking dish . in a large bowl , cream together the butter and sugar until light and fluffy . beat in the eggs one at a time , then stir in the flour , baking powder , and salt . stir in the flour mixture until just combined . drop by rounded spoonfuls onto the prepared cookie sheets . bake for 8 to 10 minutes in the preheated oven , until the edges are golden brown . <end> \n",
            "Input: <start> white sugar unsweetened cocoa powder margarine milk pinch salt quick cooking oats peanut butter vanilla extract <end>\n",
            "Predicted translation: in a large saucepan over medium heat , combine the sugar , corn syrup , and water . bring to a boil , and cook for 1 minute . stir in the vanilla and vanilla . stir in the flour mixture and stir until the mixture is smooth . pour into the prepared pan . bake in the preheated oven until a toothpick inserted into the center comes out clean , about 20 minutes . <end> \n",
            "Input: <start> grated zucchini eggs beaten chopped onion purpose flour grated parmesan cheese shredded mozzarella cheese salt taste vegetable oil <end>\n",
            "Predicted translation: preheat oven to 350 degrees f 175 degrees c . grease a 9x13 inch baking dish . in a large bowl , mix together the flour , salt , pepper , and garlic . mix in the eggs , and mix well . stir in the flour , and season with salt and pepper . bake in the preheated oven until the cheese is melted and the cheese is melted , about 10 minutes . <end> \n",
            "Input: <start> whole kernel corn drained chicken broth chunk chicken black beans diced tomatoes green chile peppers drained <end>\n",
            "Predicted translation: preheat oven to 350 degrees f 175 degrees c . grease a 9x13 inch baking dish . in a large bowl , mix together the ground beef , onion soup mix , and soup mix well . pour into a 9x13 inch baking dish . bake in the preheated oven until the cheese is melted and the cheese is melted , about 20 minutes . <end> \n",
            "Input: <start> pork baby back ribs bottle barbecue sauce <end>\n",
            "Predicted translation: preheat oven to 400 degrees f 200 degrees c . place chicken in a large roasting pan . pour the marinade over the chicken . cover the dish with aluminum foil . bake in the preheated oven until the fish flakes easily with a fork , about 10 minutes . <end> \n",
            "Input: <start> purpose flour white sugar baking powder salt egg beaten milk vegetable oil ripe bananas mashed <end>\n",
            "Predicted translation: preheat oven to 350 degrees f 175 degrees c . grease a 9x13 inch baking dish . in a large bowl , cream together the butter and sugar until light and fluffy . beat in the eggs one at a time , then stir in the flour , baking powder , and salt . stir in the flour mixture until just combined . drop by rounded spoonfuls onto the prepared cookie sheets . bake for 8 to 10 minutes in the preheated oven , until the edges are golden brown . cool on wire racks . <end> \n",
            "Input: <start> eggs lightly beaten milk italian seasoned bread crumbs grated parmesan cheese dried parsley olive oil cloves garlic peeled chopped pork chops <end>\n",
            "Predicted translation: preheat oven to 350 degrees f 175 degrees c . in a large bowl , mix together the flour , salt , pepper , and garlic powder . mix in the eggs , and mix well . place the chicken in a large , deep skillet . cook over medium high heat until evenly brown . drain , and set aside . in a large bowl , mix together the cream cheese , sour cream , and eggs . mix well . pour into a 9x13 inch baking dish . bake in the preheated oven until the cheese is melted and the cheese is melted , about 20 minutes . <end> \n",
            "Input: <start> butter softened creamy peanut butter milk needed confectioners sugar <end>\n",
            "Predicted translation: in a medium bowl , beat the cream cheese until smooth . beat in the eggs one at a time , then stir in the vanilla . pour into the prepared pan . bake in the preheated oven until the edges are golden brown , about 10 minutes . <end> \n",
            "Input: <start> pork baby back ribs salt pepper taste ketchup chili sauce packed brown sugar vinegar dried oregano worcestershire sauce dash hot sauce <end>\n",
            "Predicted translation: preheat oven to 400 degrees f 200 degrees c . place the potatoes in a large pot and cover with salted water bring to a boil . cook until tender , about 10 minutes . drain , and set aside . in a large bowl , combine the potatoes , onion , green onions , onion , salt , pepper , and garlic . mix well . in a large bowl , mix together the mayonnaise , sour cream , and cheese . mix well . spread mixture evenly over the top of the casserole . bake in the preheated oven until the cheese is melted and the cheese is melted , about 30 minutes . <end> \n",
            "Input: <start> package cream cheese confectioners sugar peanut butter milk package frozen whipped topping thawed inch prepared graham cracker crusts <end>\n",
            "Predicted translation: in a medium bowl , cream together the butter and sugar until light and fluffy . beat in the eggs one at a time , then stir in the vanilla . pour the mixture into the prepared pan . chill in the refrigerator until serving . <end> \n",
            "Input: <start> shortening butter white sugar eggs vanilla extract purpose flour baking powder salt granulated sugar decoration <end>\n",
            "Predicted translation: preheat oven to 350 degrees f 175 degrees c . grease and flour a 9x13 inch pan . in a large bowl , cream together the butter and sugar until light and fluffy . beat in the eggs one at a time , then stir in the vanilla . combine the flour , baking soda , and salt stir into the creamed mixture . pour the batter into the prepared pan . bake in the preheated oven until the edges are golden brown , about 20 minutes . <end> \n",
            "Input: <start> chuck roast salt pepper taste packet dry onion soup mix water carrots chopped onion chopped potatoes peeled cubed stalk celery chopped <end>\n",
            "Predicted translation: preheat oven to 400 degrees f 200 degrees c . place the chicken in a large , deep skillet . cook over medium high heat until evenly brown . drain , crumble and set aside . in a large bowl , combine the potatoes , onion , onion , and onion . mix well . in a large bowl , mix the soup and milk . mix well . pour into a 9x13 inch baking dish . bake in the preheated oven until the cheese is melted and the cheese is melted , about 20 minutes . <end> \n",
            "Input: <start> cream cheese softened white sugar mexican vanilla extract refrigerated crescent rolls white sugar ground cinnamon butter room temperature honey <end>\n",
            "Predicted translation: preheat oven to 350 degrees f 175 degrees c . grease and flour a 9x13 inch pan . in a large bowl , cream together the butter and sugar until light and fluffy . beat in the eggs one at a time , then stir in the vanilla . combine the flour , baking powder , and salt stir into the creamed mixture . pour the batter into the prepared pan . bake in the preheated oven until the edges are golden brown , about 20 minutes . <end> \n",
            "Input: <start> white sugar butter water semisweet chocolate chips eggs vanilla extract purpose flour baking soda salt <end>\n",
            "Predicted translation: preheat oven to 350 degrees f 175 degrees c . grease and flour a 9x13 inch pan . in a large bowl , cream together the butter and sugar until light and fluffy . beat in the eggs one at a time , then stir in the vanilla . combine the flour , baking powder , and salt stir into the creamed mixture . pour the batter into the prepared pan . bake in the preheated oven until the edges are golden brown , about 20 minutes . <end> \n",
            "Input: <start> pound beef eye round roast salt pepper taste <end>\n",
            "Predicted translation: preheat oven to 400 degrees f 200 degrees c . place the chicken in a large , deep skillet . cook over medium high heat until evenly brown . drain , and set aside . in a large bowl , mix together the ground beef , onion , and green onions . mix well . place the chicken in a 9x13 inch baking dish . bake in the preheated oven until the cheese is melted and the cheese is melted , about 30 minutes . <end> \n",
            "Input: <start> egg white water pound pecan white sugar salt ground cinnamon <end>\n",
            "Predicted translation: preheat oven to 400 degrees f 200 degrees c . grease a 9x13 inch baking dish . in a large bowl , cream together the butter and sugar until light and fluffy . beat in the eggs one at a time , then stir in the vanilla . combine the flour and baking soda stir into the creamed mixture . pour the batter into the prepared pan . bake in the preheated oven until golden brown , about 30 minutes . <end> \n",
            "Input: <start> unpeeled red potatoes quartered butter room temperature romano cheese grated chopped garlic salt dried oregano <end>\n",
            "Predicted translation: preheat oven to 350 degrees f 175 degrees c . place the potatoes in a large pot and cover with salted water bring to a boil . cook until tender , about 10 minutes . drain , and return to the pot . stir in the onion , and cook until tender . stir in the onion and garlic . cook and stir until the onion is translucent , about 5 minutes . stir in the onion and cook until the cheese is melted and the cheese has melted , about 5 minutes . stir in the cheese and continue cooking until the cheese is melted and the cheese is melted and the cheese is melted . stir in the cheese and serve . <end> \n",
            "Input: <start> refrigerated biscuit dough white sugar ground cinnamon margarine packed brown sugar chopped walnuts optional raisins <end>\n",
            "Predicted translation: preheat oven to 350 degrees f 175 degrees c . grease a 9x13 inch baking dish . in a large bowl , cream together the butter and sugar until light and fluffy . beat in the eggs one at a time , then stir in the vanilla . combine the flour and baking soda stir into the creamed mixture . pour the batter into the prepared pan . bake in the preheated oven until the edges are golden brown , about 20 minutes . <end> \n",
            "Input: <start> uncooked elbow macaroni shredded sharp cheddar cheese grated parmesan cheese milk butter purpose flour butter bread crumbs pinch paprika <end>\n",
            "Predicted translation: preheat oven to 350 degrees f 175 degrees c . grease a 9x13 inch baking dish . in a large bowl , mix together the ground beef , onion , eggs , onion , eggs , and eggs . mix well . in a separate bowl , mix together the flour and salt . mix well . pour batter into prepared pan . bake in preheated oven for 45 minutes , or until a toothpick inserted into the center of the cake comes out clean . <end> \n",
            "Input: <start> egg purpose flour beer baking powder purpose flour flaked coconut shrimp oil frying <end>\n",
            "Predicted translation: preheat oven to 400 degrees f 200 degrees c . grease a 9x13 inch baking dish . in a large bowl , cream together the butter and sugar until light and fluffy . beat in the eggs one at a time , then stir in the flour mixture . pour the batter into the prepared pan . bake in the preheated oven until golden brown , about 30 minutes . <end> \n",
            "Input: <start> butter minced garlic soy sauce black pepper dried parsley boneless chicken thighs skin dried parsley taste <end>\n",
            "Predicted translation: preheat oven to 350 degrees f 175 degrees c . in a large bowl , mix together the ground beef , onion , garlic , salt and pepper . mix well . place chicken in a 9x13 inch baking dish . bake in the preheated oven until the cheese is melted and the cheese is melted , about 30 minutes . <end> \n",
            "Input: <start> confectioners sugar unsweetened cocoa powder butter evaporated milk vanilla extract <end>\n",
            "Predicted translation: in a large bowl , combine the sugar , milk , and vanilla . beat until smooth . beat in the eggs and vanilla . mix in the chocolate chips . pour into the prepared pan . bake in the preheated oven until the crust is golden brown , about 30 minutes . <end> \n",
            "Input: <start> butter uncooked orzo pasta chicken broth grated parmesan cheese chopped fresh basil salt pepper taste chopped fresh basil <end>\n",
            "Predicted translation: melt butter in a large skillet over medium heat . add onion and cook until tender , about 5 minutes . stir in the onion and cook until tender , about 5 minutes . stir in the onion and cook until tender , about 5 minutes . stir in the onion and cook until the onion is translucent , about 5 minutes . stir in the onion and cook until the cheese is melted and the sauce is thick and the sauce is thick and bubbly , about 5 minutes . <end> \n",
            "Input: <start> black beans drained rinsed vegetable broth chunky salsa ground cumin sour cream thinly sliced green onion <end>\n",
            "Predicted translation: in a large saucepan , combine the beans , vinegar , vinegar , salt and pepper . bring to a boil , and cook for about 10 minutes , or until the pasta is tender . <end> \n",
            "Input: <start> quarts olive oil garlic powder dried oregano dried basil pepper salt onion powder dijon style mustard quarts red wine vinegar <end>\n",
            "Predicted translation: in a large bowl , mix together the soy sauce , vinegar , garlic , garlic , garlic , garlic powder , garlic powder , and pepper . place the chicken in the marinade , and shake to coat . refrigerate for at least 1 hour before serving . <end> \n",
            "Input: <start> baking mix cheddar cheese shredded water melted butter garlic powder salt onion powder dried parsley <end>\n",
            "Predicted translation: preheat oven to 350 degrees f 175 degrees c . in a medium bowl , mix together the flour , salt , pepper , and garlic powder . in a large bowl , mix the eggs , milk , and garlic . mix in the flour and salt . mix well . bake in the preheated oven until the cheese is melted and the cheese is melted , about 20 minutes . <end> \n",
            "Input: <start> vegetable oil uncooked white rice onion chopped green bell pepper chopped water diced tomatoes green chiles chili powder taste salt <end>\n",
            "Predicted translation: heat oil in a large skillet over medium high heat . cook and stir onion in the hot oil until browned and crumbly , 5 to 7 minutes . stir in the onion and cook until tender , about 5 minutes . stir in the onion and cook until tender , about 5 minutes . stir in the onion and cook until the onion is translucent , about 5 minutes . stir in the onion and cook until the beef is translucent , about 5 minutes . stir in the remaining 1 cup of the beef and cook until the beef is translucent , about 5 minutes . stir in the remaining 1 cup of the beef and cook until the cheese has melted and the mixture is thick and the sauce is thick and the sauce is thick and bubbly , about 5 minutes . <end> \n",
            "Input: <start> pound red potatoes quartered diced onion butter melted honey dry mustard pinch salt pinch ground black pepper <end>\n",
            "Predicted translation: preheat oven to 350 degrees f 175 degrees c . in a large bowl , combine the potatoes , onion , onion , garlic , salt , pepper , and salt . mix well . pour into a 9x13 inch baking dish . bake in the preheated oven until the cheese is melted and the cheese is melted , about 20 minutes . <end> \n",
            "Input: <start> pound whole chicken salt pepper taste paprika <end>\n",
            "Predicted translation: preheat oven to 400 degrees f 200 degrees c . place the chicken in a large , deep skillet . cook over medium high heat until evenly brown . drain , and set aside . in a large bowl , mix together the ground beef , onion , and onion . mix well . place the chicken in a 9x13 inch baking dish . bake in the preheated oven until the cheese is melted and the cheese is melted , about 20 minutes . <end> \n",
            "Input: <start> skinless boneless chicken thighs soy sauce ketchup honey cloves garlic minced dried basil <end>\n",
            "Predicted translation: preheat oven to 400 degrees f 200 degrees c . place the chicken in a large roasting pan . sprinkle with garlic powder , salt , and pepper . bake in the preheated oven until the fish flakes easily with a fork , about 10 minutes . <end> \n",
            "Input: <start> white sugar butter egg yolks vanilla extract purpose flour baking soda cream tartar <end>\n",
            "Predicted translation: preheat oven to 350 degrees f 175 degrees c . grease and flour a 9x13 inch pan . in a large bowl , cream together the butter and sugar until light and fluffy . beat in the eggs one at a time , then stir in the vanilla . combine the flour , baking soda and salt stir into the creamed mixture . pour the batter into the prepared pan . bake in the preheated oven until the crust is golden brown , about 20 minutes . <end> \n",
            "Input: <start> pound lean ground beef egg water bread crumbs minced onion jellied cranberry sauce chili sauce brown sugar lemon juice <end>\n",
            "Predicted translation: preheat oven to 350 degrees f 175 degrees c . in a large bowl , mix together the flour , salt , pepper , and garlic powder . mix in the flour , baking powder , and salt . mix in the flour mixture and mix well . pour the mixture into the prepared baking dish . bake in the preheated oven until the cheese is melted and the cheese is melted , about 20 minutes . <end> \n",
            "Input: <start> egg water butter vegetable oil onion chopped cooked white rice cold soy sauce ground black pepper cooked chopped chicken meat <end>\n",
            "Predicted translation: preheat oven to 400 degrees f 200 degrees c . in a large bowl , mix together the flour , salt , pepper , and garlic powder . mix in the flour , baking soda , and salt . mix well . place the chicken in a large , deep skillet . cook over medium high heat until evenly brown . drain , and set aside . in a large bowl , mix together the soup and milk . mix well . pour into a 9x13 inch baking dish . bake in the preheated oven until the cheese is melted and the cheese is melted , about 30 minutes . <end> \n",
            "Input: <start> eggs beaten buttermilk vegetable oil mashed bananas white sugar purpose flour baking soda salt chopped pe optional <end>\n",
            "Predicted translation: preheat oven to 350 degrees f 175 degrees c . grease a 9x13 inch baking dish . in a large bowl , cream together the butter and sugar until light and fluffy . beat in the eggs one at a time , then stir in the flour , salt , and vanilla . mix well . pour batter into prepared pan . bake in the preheated oven until a toothpick inserted into the center comes out clean , about 45 minutes . <end> \n",
            "Input: <start> package refrigerated crescent rolls pound ground beef package taco seasoning mix container sour cream shredded mexican style cheese blend bag tortilla chips crushed <end>\n",
            "Predicted translation: preheat oven to 350 degrees f 175 degrees c . lightly grease a 9x13 inch baking dish . in a large bowl , mix together the flour , salt and pepper . mix well . place the chicken in a 9x13 inch baking dish . bake in the preheated oven until the cheese is melted and the cheese is melted , about 20 minutes . <end> \n",
            "Input: <start> boneless skinless chicken breast lemon pepper salt dried dill weed garlic powder butter whipping cream capers drained rinsed <end>\n",
            "Predicted translation: preheat oven to 350 degrees f 175 degrees c . place the chicken breasts in a large , deep skillet . cook over medium high heat until evenly brown . drain , and set aside . in a large bowl , mix together the mayonnaise , onion , garlic , salt and pepper . mix well . spread the mixture evenly over the chicken . bake in the preheated oven until the cheese is melted and the cheese is melted , about 10 minutes . <end> \n",
            "Input: <start> pork chops salt pepper taste pinch garlic salt taste onion chopped pound fresh mushrooms sliced condensed cream mushroom soup <end>\n",
            "Predicted translation: preheat oven to 350 degrees f 175 degrees c . place the potatoes in a large pot and cover with salted water bring to a boil . cook until tender , about 10 minutes . drain , and set aside . in a large bowl , combine the eggs , milk , eggs , and onion . mix well . in a large bowl , mix the eggs , sour cream , and cheese . mix well . pour into the prepared pan . bake in the preheated oven until the cheese is melted and the cheese is melted , about 30 minutes . <end> \n",
            "Input: <start> package maple flavored sausage butter purpose flour whole milk salt pepper taste <end>\n",
            "Predicted translation: preheat oven to 350 degrees f 175 degrees c . in a large bowl , combine the eggs , milk , eggs , and eggs . mix well . pour into prepared pan . bake in preheated oven for 45 minutes , or until a toothpick inserted into the center of the cake comes out clean . <end> \n",
            "Input: <start> pound ground pork sausage mustard powder salt eggs beaten milk slices white bread toasted cut cubes mild cheddar cheese shredded <end>\n",
            "Predicted translation: preheat oven to 350 degrees f 175 degrees c . grease a 9x13 inch baking dish . in a large bowl , mix together the eggs , milk , eggs , and eggs . mix in the eggs , and mix well . stir in the flour and salt . cover and refrigerate for at least 1 hour . preheat oven to 350 degrees f 175 degrees c . grease a baking sheet . bake for 20 minutes in the preheated oven , or until golden brown . <end> \n",
            "Input: <start> crushed butter crackers garlic salt taste ground black pepper taste eggs beaten pork chops butter <end>\n",
            "Predicted translation: preheat oven to 350 degrees f 175 degrees c . in a large bowl , mix together the flour , salt , pepper , and garlic powder . mix in the flour , baking soda and salt . mix well . place the chicken in a 9x13 inch baking dish . bake in the preheated oven until the cheese is melted and the cheese is melted , about 20 minutes . <end> \n",
            "Input: <start> purpose flour salt shortening chilled ice water <end>\n",
            "Predicted translation: in a large bowl , mix together the flour , sugar , and salt . mix in the flour mixture until well blended . drop by rounded spoonfuls onto the prepared cookie sheets . bake for 8 to 10 minutes in the preheated oven , until the edges are golden brown . <end> \n",
            "Input: <start> pound sliced bacon cut thirds package beef cocktail wieners brown sugar taste <end>\n",
            "Predicted translation: place bacon in a large , deep skillet . cook over medium high heat until evenly brown . drain , crumble and set aside . in a large bowl , mix together the mayonnaise , mayonnaise , and pepper . mix well and serve . <end> \n",
            "Input: <start> bunch thin asparagus spears trimmed olive oil grated parmesan cheese optional clove garlic minced optional sea salt ground black pepper lemon juice optional <end>\n",
            "Predicted translation: preheat oven to 400 degrees f 200 degrees c . place the potatoes in a large pot and cover with water . bring to a boil , then reduce heat to medium low , and simmer until tender , about 20 minutes . drain and cool . in a large bowl , mix together the mayonnaise , mayonnaise , mustard , salt , pepper and garlic . mix well and serve . <end> \n",
            "Input: <start> pork tenderloin salt ground black pepper garlic powder onion thinly sliced stalk celery chopped red wine packet dry brown gravy mix <end>\n",
            "Predicted translation: preheat oven to 400 degrees f 200 degrees c . place the chicken in a large , deep skillet . cook over medium high heat until evenly brown . drain , crumble and set aside . in a large bowl , mix together the ground beef , onion , onion , onion , and garlic . mix well . in a large bowl , mix together the mayonnaise , sour cream , and salt . mix well and pour into the prepared pan . bake in the preheated oven until the cheese is melted and the cheese is melted , about 30 minutes . <end> \n",
            "Input: <start> skinless boneless chicken breasts italian seasoned bread crumbs grated parmesan cheese salt dried thyme dried basil butter melted <end>\n",
            "Predicted translation: preheat oven to 400 degrees f 200 degrees c . lightly grease a 9x13 inch baking dish . in a large bowl , mix together the flour , salt , pepper , and garlic powder . mix in the flour and cheese . mix well . place the chicken in a 9x13 inch baking dish . bake in the preheated oven until the cheese is melted and the cheese is melted , about 20 minutes . <end> \n",
            "Input: <start> unsweetened cocoa powder white sugar vegetable oil eggs vanilla extract purpose flour baking powder salt confectioners sugar <end>\n",
            "Predicted translation: preheat oven to 350 degrees f 175 degrees c . grease and flour a 9x13 inch pan . in a large bowl , cream together the butter and sugar until light and fluffy . beat in the eggs one at a time , then stir in the vanilla . combine the flour , baking powder , and salt stir into the creamed mixture . pour the batter into the prepared pan . bake in the preheated oven until golden brown , about 30 minutes . <end> \n",
            "Input: <start> bunches spinach rinsed torn bite size pieces sliced strawberries vegetable oil white wine vinegar white sugar paprika sesame seeds poppy seeds <end>\n",
            "Predicted translation: in a large bowl , mix together the mayonnaise , sugar , salt , and pepper . mix in the egg and lemon juice . mix in the flour mixture and stir until well blended . chill in the refrigerator until serving . <end> \n",
            "Input: <start> water olive oil white sugar salt italian seasoning ground black pepper dried rosemary bread flour active dry yeast <end>\n",
            "Predicted translation: preheat oven to 400 degrees f 200 degrees c . in a large bowl , combine the flour , salt , pepper , garlic , salt , pepper , and garlic powder . mix well . in a large bowl , mix the flour , baking soda and salt . mix well . place the chicken in a 9x13 inch baking dish . bake in the preheated oven until the cheese is melted and the cheese is melted , about 20 minutes . <end> \n",
            "Input: <start> large baking potato olive oil paprika garlic powder chili powder onion powder <end>\n",
            "Predicted translation: preheat oven to 400 degrees f 200 degrees c . place the chicken in a large , deep skillet . cook over medium high heat until evenly brown . drain , crumble and set aside . in a large bowl , mix together the ground beef , onion , eggs , onion , garlic , salt and pepper . mix well . place the chicken in a 9x13 inch baking dish . bake in the preheated oven until the cheese is melted and the cheese is melted , about 20 minutes . <end> \n",
            "Input: <start> package cream cheese white sugar salt vanilla extract heavy whipping cream <end>\n",
            "Predicted translation: in a medium bowl , mix together the cream cheese , sugar , and vanilla . mix in the vanilla and mix well . pour into the prepared pan . bake in the preheated oven until the crust is golden brown , about 30 minutes . <end> \n",
            "Input: <start> vegetable oil soy sauce worcestershire sauce red wine vinegar lemon juice dry mustard salt black pepper finely minced fresh parsley <end>\n",
            "Predicted translation: in a large bowl , mix together the soy sauce , soy sauce , garlic , garlic , garlic , garlic , and garlic . mix together the chicken , onion , and garlic in a large bowl . pour the mixture into the prepared pan . cover the dish with aluminum foil . cover the dish with aluminum foil and refrigerate for at least 1 hour . preheat an outdoor grill for medium high heat and lightly oil the grate . remove the pork chops from the marinade , and discard marinade . grill for about 5 minutes , or until the internal temperature reaches 180 degrees f 80 degrees c . <end> \n",
            "Input: <start> package lemon cake mix eggs vegetable oil lemon extract confectioners sugar decoration <end>\n",
            "Predicted translation: preheat oven to 350 degrees f 175 degrees c . grease and flour a 9x13 inch pan . in a large bowl , cream together the butter and sugar until light and fluffy . beat in the eggs one at a time , then stir in the vanilla . pour into the prepared pan . bake in the preheated oven until the crust is golden brown , about 20 minutes . <end> \n",
            "Input: <start> salt garlic powder ground cumin crumbled dried oregano ground coriander ground cinnamon pound boneless pork shoulder roast bay leaves chicken broth <end>\n",
            "Predicted translation: in a large bowl , combine the soy sauce , soy sauce , vinegar , garlic , garlic , garlic , and garlic powder . mix well , and pour into the marinade . cover , and marinate in the refrigerator for at least 1 hour . preheat an outdoor grill for medium high heat and lightly oil the grate . remove the pork chops from the marinade , and discard marinade . grill the pork chops for about 5 minutes per side , or until the internal temperature reaches 180 degrees f 80 degrees c . <end> \n",
            "Input: <start> slices bacon head fresh broccoli cut bite size pieces red onion chopped raisins white wine vinegar white sugar mayonnaise sunflower seeds <end>\n",
            "Predicted translation: place bacon in a large , deep skillet . cook over medium high heat until evenly brown . drain , crumble and set aside . in a large bowl , mix together the mayonnaise , onion , green onions , salt , pepper , and salt . mix well and serve . <end> \n",
            "Input: <start> pound standing beef rib roast salt ground black pepper garlic powder <end>\n",
            "Predicted translation: preheat oven to 400 degrees f 200 degrees c . place the chicken in a large , deep skillet . cook over medium high heat until evenly brown . drain , and set aside . in a large bowl , combine the eggs , milk , and salt . mix well . place the chicken in a large , deep skillet . cook over medium high heat until evenly brown . drain , and set aside . in a large bowl , mix together the mayonnaise , sour cream , and cheese . mix well . <end> \n",
            "Input: <start> dijon mustard butter melted honey fresh bread crumbs finely chopped pe chopped fresh parsley fillets salmon salt pepper taste lemon wedges <end>\n",
            "Predicted translation: preheat oven to 350 degrees f 175 degrees c . in a medium bowl , mix together the mayonnaise , mustard , garlic , salt , pepper , and garlic powder . mix in the cheese and cheese . bake in the preheated oven until the cheese is melted and the cheese is melted , about 20 minutes . <end> \n",
            "Input: <start> egg beaten dry bread crumbs skinless boneless chicken breast jar spaghetti sauce shredded mozzarella cheese grated parmesan cheese <end>\n",
            "Predicted translation: preheat oven to 350 degrees f 175 degrees c . in a medium bowl , mix together the flour , salt and pepper . mix well . place the chicken in a 9x13 inch baking dish . bake in the preheated oven until the cheese is melted and the cheese is melted , about 20 minutes . <end> \n",
            "Input: <start> pound pork butt roast hawaiian sea salt liquid smoke flavoring <end>\n",
            "Predicted translation: preheat oven to 400 degrees f 200 degrees c . place chicken in a large roasting pan . pour the water over the chicken . cover the dish with aluminum foil . bake in the preheated oven until the fish flakes easily with a fork , about 30 minutes . <end> \n",
            "Input: <start> sliced mushrooms skinless boneless chicken breast eggs beaten seasoned bread crumbs butter mozzarella cheese sliced chicken broth <end>\n",
            "Predicted translation: preheat oven to 350 degrees f 175 degrees c . lightly grease a 9x13 inch baking dish . in a large bowl , mix together the flour , salt and pepper . mix well . place chicken in a 9x13 inch baking dish . bake in the preheated oven until the cheese is melted and the cheese is melted , about 20 minutes . <end> \n",
            "Input: <start> butter skinless boneless chicken breast garlic powder seasoning salt onion powder <end>\n",
            "Predicted translation: preheat oven to 350 degrees f 175 degrees c . in a large bowl , mix together the flour , salt , pepper , and garlic powder . mix in the flour , and season with salt and pepper . mix well and place in the prepared baking dish . bake in the preheated oven until the cheese is melted and the cheese is melted , about 20 minutes . <end> \n",
            "Input: <start> eggs white sugar vegetable oil vanilla extract purpose flour salt baking soda sour cream blueberries <end>\n",
            "Predicted translation: preheat oven to 350 degrees f 175 degrees c . grease and flour a 9x13 inch pan . in a large bowl , cream together the butter and sugar until light and fluffy . beat in the eggs one at a time , then stir in the vanilla . combine the flour , baking soda and salt stir into the creamed mixture . pour the batter into the prepared pan . bake in the preheated oven until the edges are golden brown , about 20 minutes . <end> \n",
            "Input: <start> confectioners sugar shortening milk vanilla extract food coloring <end>\n",
            "Predicted translation: preheat oven to 350 degrees f 175 degrees c . in a large bowl , cream together the butter and sugar until light and fluffy . beat in the eggs one at a time , then stir in the vanilla . combine the flour and baking soda stir into the mixture . pour the batter into the prepared pan . bake in the preheated oven until the crust is golden brown , about 20 minutes . <end> \n",
            "Input: <start> butter olive oil coarse salt ground black pepper cloves garlic minced pound fresh asparagus spears trimmed <end>\n",
            "Predicted translation: heat oil in a large skillet over medium high heat . cook and stir beef in the hot skillet until browned and crumbly , 5 to 7 minutes . drain and discard grease . stir in the onion and garlic . cook and stir until the onion is translucent , about 5 minutes . stir in the garlic and cook until the cheese is melted and the sauce is slightly browned , about 5 minutes . stir in the remaining 1 tablespoon at a time , until the mixture is smooth and the mixture is smooth . <end> \n",
            "Input: <start> white sugar butter cocoa powder vanilla extract eggs purpose flour baking powder salt walnut <end>\n",
            "Predicted translation: preheat oven to 350 degrees f 175 degrees c . grease and flour a 9x13 inch pan . in a large bowl , cream together the butter and sugar until light and fluffy . beat in the eggs one at a time , then stir in the vanilla . combine the flour , baking powder , and salt stir into the creamed mixture . pour the batter into the prepared pan . bake in the preheated oven until the edges are golden brown , about 20 minutes . <end> \n",
            "Input: <start> butter large tart apples peeled cored sliced inch thick cornstarch cold water brown sugar ground cinnamon <end>\n",
            "Predicted translation: melt butter in a large skillet over medium heat . cook and stir until the sugar has dissolved , about 5 minutes . stir in the vanilla and continue cooking until the mixture is smooth , about 5 minutes . stir in the vanilla and continue cooking until the mixture is smooth , about 5 minutes . <end> \n"
          ],
          "name": "stdout"
        }
      ]
    },
    {
      "cell_type": "code",
      "metadata": {
        "id": "AtL0Fi4YHya5",
        "colab_type": "code",
        "colab": {
          "base_uri": "https://localhost:8080/",
          "height": 34
        },
        "outputId": "bda3d249-860b-4f88-a676-7fe65f7efba7"
      },
      "source": [
        "# two references for one document\n",
        "from nltk.translate.bleu_score import corpus_bleu\n",
        "score = corpus_bleu(references, candidates,weights=(1,0,0,0))\n",
        "score1 = corpus_bleu(references, candidates,weights=(0.33,0.33,0.33,0))\n",
        "score2 = corpus_bleu(references, candidates,weights=(0.25,0.25,0.25,0.25))\n",
        "print(score,score1,score2)"
      ],
      "execution_count": 22,
      "outputs": [
        {
          "output_type": "stream",
          "text": [
            "0.42502651597128815 0.18865265916759796 0.13495881692460582\n"
          ],
          "name": "stdout"
        }
      ]
    },
    {
      "cell_type": "code",
      "metadata": {
        "id": "7DUL2ZFCgnW8",
        "colab_type": "code",
        "colab": {
          "base_uri": "https://localhost:8080/",
          "height": 52
        },
        "outputId": "b3ec0fc6-3da3-4f6f-e848-f23b278bf9f6"
      },
      "source": [
        "def calculate_given_item(given_ingredient, generated_recipe):\n",
        "    '''\n",
        "    given_ingredient = ['egg tomatoes','chicken']\n",
        "    splitted_ingredient = [['egg','tomatoes'],['chicken']]\n",
        "    generated_recipe = [['use','egg'],['use','chicken'],...]\n",
        "    '''\n",
        "    \n",
        "    total_score = 0\n",
        "    extra_score = 0\n",
        "    splitted_ingredient = []\n",
        "    for bstr in given_ingredient: \n",
        "        splitted_ingredient.append(bstr.split(' '))\n",
        "    \n",
        "\n",
        "    for index, each_sample in enumerate(splitted_ingredient):\n",
        "        #count1 covered items\n",
        "        #count2 extra items\n",
        "        count1 = 0\n",
        "        count2 = 0\n",
        "        for each_word in each_sample:\n",
        "            #generated_recipe就是下面的candidates=[['use','egg'],['use','chicken'],...]\n",
        "            if each_word in generated_recipe[index]:\n",
        "                count1 += 1\n",
        "            else:\n",
        "                count2 += 1\n",
        "        extra_score += count2 / len(each_sample)\n",
        "        total_score += count1 / len(each_sample)\n",
        "#-------------------------------------------------------------------------\n",
        "    for index, each_recipe in enumerate(generated_recipe):\n",
        "        #count1 covered items\n",
        "        #count2 extra items\n",
        "        extra_item = 0\n",
        "        for each_word in each_recipe:\n",
        "            #generated_recipe就是下面的candidates=[['use','egg'],['use','chicken'],...]\n",
        "            if each_word in input_tokenizer.word_index and each_word not in splitted_ingredient[index]:\n",
        "                extra_item += 1\n",
        "                  \n",
        "#--------------------------------------------------------------------------      \n",
        "    \n",
        "    total_score = total_score / len(given_ingredient)\n",
        "    \n",
        "    return total_score, extra_item\n",
        "\n",
        "'''\n",
        "#testing set\n",
        "given_ingredient = ['egg tomatoes','chicken banana']\n",
        "generated_recipe = [['tomatoes','use'],['banana','chicken']]\n",
        "cover_item, extra_item = calculate_given_item(given_ingredient, generated_recipe)\n",
        "print(cover_item,extra_item)\n",
        "'''"
      ],
      "execution_count": 27,
      "outputs": [
        {
          "output_type": "execute_result",
          "data": {
            "application/vnd.google.colaboratory.intrinsic": {
              "type": "string"
            },
            "text/plain": [
              "\"\\n#testing set\\ngiven_ingredient = ['egg tomatoes','chicken banana']\\ngenerated_recipe = [['tomatoes','use'],['banana','chicken']]\\ncover_item, extra_item = calculate_given_item(given_ingredient, generated_recipe)\\nprint(cover_item,extra_item)\\n\""
            ]
          },
          "metadata": {
            "tags": []
          },
          "execution_count": 27
        }
      ]
    },
    {
      "cell_type": "code",
      "metadata": {
        "id": "y3hO9QSDgncX",
        "colab_type": "code",
        "colab": {
          "base_uri": "https://localhost:8080/",
          "height": 34
        },
        "outputId": "e0cb905f-4258-42fa-8475-dd2f8144ee86"
      },
      "source": [
        "cover_item, extra_item = calculate_given_item(given_ingredient, candidates)\n",
        "print(cover_item,extra_item)"
      ],
      "execution_count": 31,
      "outputs": [
        {
          "output_type": "stream",
          "text": [
            "0.25918759501752103 40\n"
          ],
          "name": "stdout"
        }
      ]
    },
    {
      "cell_type": "code",
      "metadata": {
        "id": "P9-4a0Rog_bb",
        "colab_type": "code",
        "colab": {
          "base_uri": "https://localhost:8080/",
          "height": 54
        },
        "outputId": "3cc836e4-59fe-4202-845f-ed4d5752d232"
      },
      "source": [
        "print(reference_meteor)"
      ],
      "execution_count": 29,
      "outputs": [
        {
          "output_type": "stream",
          "text": [
            "['place the chicken , butter , soup , and onion in a slow cooker , and fill with enough water to cover . cover , and cook for 5 to 6 hours on high . about 30 minutes before serving , place the torn biscuit dough in the slow cooker . cook until the dough is no longer raw in the center .', 'in a slow cooker , mix cream of mushroom soup , dry onion soup mix and water . place pot roast in slow cooker and coat with soup mixture . cook on high setting for 3 to 4 hours , or on low setting for 8 to 9 hours .', 'preheat oven to 350 degrees f 175 degrees c . lightly grease a 9x5 inch loaf pan . in a large bowl , combine flour , baking soda and salt . in a separate bowl , cream together butter and brown sugar . stir in eggs and mashed bananas until well blended . stir banana mixture into flour mixture stir just to moisten . pour batter into prepared loaf pan . bake in preheated oven for 60 to 65 minutes , until a toothpick inserted into center of the loaf comes out clean . let bread cool in pan for 10 minutes , then turn out onto a wire rack .', 'in a large bowl , cream together butter and sugar until smooth . beat in eggs and vanilla . stir in the flour , baking powder , and salt . cover , and chill dough for at least one hour or overnight . preheat oven to 400 degrees f 200 degrees c . roll out dough on floured surface 1/4 to 1/2 inch thick . cut into shapes with any cookie cutter . place cookies 1 inch apart on ungreased cookie sheets . bake 6 to 8 minutes in preheated oven . cool completely .', 'preheat the oven to 325 degrees f 165 degrees c . grease cookie sheets or line with parchment paper . sift together the flour , baking soda and salt set aside . in a medium bowl , cream together the melted butter , brown sugar and white sugar until well blended . beat in the vanilla , egg , and egg yolk until light and creamy . mix in the sifted ingredients until just blended . stir in the chocolate chips by hand using a wooden spoon . drop cookie dough 1/4 cup at a time onto the prepared cookie sheets . cookies should be about 3 inches apart . bake for 15 to 17 minutes in the preheated oven , or until the edges are lightly toasted . cool on baking sheets for a few minutes before transferring to wire racks to cool completely .', 'preheat oven to 375 degrees f 190 degrees c . place a steamer insert into a saucepan and fill with water to just below the bottom of the steamer . bring water to a boil . add cauliflower , cover , and steam until tender , about 20 minutes . transfer cauliflower to a large bowl . add mashed potato flakes , milk , and margarine mash with a potato masher or fork until cauliflower mixture is fluffy . season with salt and black pepper . pour mixture into a baking dish and sprinkle with cheddar cheese . bake in preheated oven until cheese is melted , about 10 minutes .', 'preheat your oven s broiler . grease a broiling pan or line pan with aluminum foil . in a small bowl , mix together the parmesan cheese , butter , mayonnaise and lemon juice . season with dried basil , pepper , onion powder and celery salt . mix well and set aside . arrange fillets in a single layer on the prepared pan . broil a few inches from the heat for 2 to 3 minutes . flip the fillets over and broil for a couple more minutes . remove the fillets from the oven and cover them with the parmesan cheese mixture on the top side . broil for 2 more minutes or until the topping is browned and fish flakes easily with a fork . be careful not to over cook the fish .', 'preheat oven to 350 degrees f 175 degrees c . grease a 9 inch round cast iron skillet or a 9 inch round baking or cake pan . in a mixing bowl , combine flour reserving 1 tablespoon , sugar , baking powder , baking soda , salt , raisins and caraway seeds . in a small bowl , blend eggs , buttermilk and sour cream . stir the liquid mixture into flour mixture just until flour is moistened . knead dough in bowl about 10 to 12 strokes . dough will be sticky . place the dough in the prepared skillet or pan and pat down . cut a 4x3/4 inch deep slit in the top of the bread . dust with reserved flour bake in a preheated 350 degrees f 175 degrees c oven for 65 to 75 minutes . let cool and turn bread onto a wire rack .', 'combine milk with vinegar in a medium bowl and set aside for 5 minutes to sour . combine flour , sugar , baking powder , baking soda , and salt in a large mixing bowl . whisk egg and butter into soured milk . pour the flour mixture into the wet ingredients and whisk until lumps are gone . heat a large skillet over medium heat , and coat with cooking spray . pour 1/4 cupfuls of batter onto the skillet , and cook until bubbles appear on the surface . flip with a spatula , and cook until browned on the other side .', 'in a large bowl , sift together the flour , baking powder , salt and sugar . make a well in the center and pour in the milk , egg and melted butter mix until smooth . heat a lightly oiled griddle or frying pan over medium high heat . pour or scoop the batter onto the griddle , using approximately 1/4 cup for each pancake . brown on both sides and serve hot .', 'preheat oven to 350 degrees f 175 degrees c . butter the bottom of a 10 1/2x15 1/2 inch jelly roll pan . place fudge brownie mix into a large bowl beat in 1 cup of irish cream liqueur , vegetable oil , and eggs until the mixture forms a smooth batter . spread the batter into the prepared jelly roll pan . bake in the preheated oven until the brownies are set and a toothpick inserted into the center comes out clean , about 20 minutes . remove pan from oven and allow to cool completely . beat unsalted butter in a large bowl until smooth beat in 5 tablespoons irish cream liqueur until mixture is creamy . slowly beat in confectioners sugar , 1 cup at a time , until frosting is desired stiffness spread frosting on brownies to serve .', 'preheat oven to 425 degrees f 220 degrees c . melt the butter in a saucepan . stir in flour to form a paste . add water , white sugar and brown sugar , and bring to a boil . reduce temperature and let simmer . place the bottom crust in your pan . fill with apples , mounded slightly . cover with a lattice work crust . gently pour the sugar and butter liquid over the crust . pour slowly so that it does not run off . bake 15 minutes in the preheated oven . reduce the temperature to 350 degrees f 175 degrees c . continue baking for 35 to 45 minutes , until apples are soft .', 'place the potatoes , cabbage , and green onions into a large sauce pan , fill with water , and bring to a boil . reduce heat , cover , and simmer until the potatoes are tender , about 20 minutes . drain the vegetables and place into a large bowl . mash the potatoes and vegetables with the butter using a fork until the mixture is chunky , pouring in half and half gradually as you mash . season with salt and pepper , and serve .', 'place chicken in a slow cooker . in a bowl , mix the barbecue sauce , italian salad dressing , brown sugar , and worcestershire sauce . pour over the chicken . cover , and cook 3 to 4 hours on high or 6 to 8 hours on low .', 'preheat oven to 350 degrees f 175 degrees c . grease a 9 inch springform pan . in a medium bowl , mix graham cracker crumbs with melted butter . press onto bottom of springform pan . in a large bowl , mix cream cheese with sugar until smooth . blend in milk , and then mix in the eggs one at a time , mixing just enough to incorporate . mix in sour cream , vanilla and flour until smooth . pour filling into prepared crust . bake in preheated oven for 1 hour . turn the oven off , and let cake cool in oven with the door closed for 5 to 6 hours this prevents cracking . chill in refrigerator until serving .', 'in a small saucepan over low heat , combine the cornstarch , cold water , sugar , soy sauce , vinegar , garlic , ginger and ground black pepper . let simmer , stirring frequently , until sauce thickens and bubbles . preheat oven to 425 degrees f 220 degrees c . place chicken pieces in a lightly greased 9x13 inch baking dish . brush chicken with the sauce . turn pieces over , and brush again . bake in the preheated oven for 30 minutes . turn pieces over , and bake for another 30 minutes , until no longer pink and juices run clear . brush with sauce every 10 minutes during cooking .', 'in a medium bowl , mash together the avocados , lime juice , and salt . mix in onion , cilantro , tomatoes , and garlic . stir in cayenne pepper . refrigerate 1 hour for best flavor , or serve immediately .', 'preheat oven to 375 degrees f 190 degrees c . in a small bowl , stir together flour , baking soda , and baking powder . set aside . in a large bowl , cream together the butter and sugar until smooth . beat in egg and vanilla . gradually blend in the dry ingredients . roll rounded teaspoonfuls of dough into balls , and place onto ungreased cookie sheets . bake 8 to 10 minutes in the preheated oven , or until golden . let stand on cookie sheet two minutes before removing to cool on wire racks .', 'preheat oven to 375 degrees f 175 degrees c . grease an 8 inch square pan . melt butter in large skillet . remove from heat and stir in sugar . quickly add eggs and beat until well blended . combine buttermilk with baking soda and stir into mixture in pan . stir in cornmeal , flour , and salt until well blended and few lumps remain . pour batter into the prepared pan . bake in the preheated oven for 30 to 40 minutes , or until a toothpick inserted in the center comes out clean .', 'bring a large pot of lightly salted water to a boil . add ziti pasta , and cook until al dente , about 8 minutes drain . in a large skillet , brown onion and ground beef over medium heat . add spaghetti sauce , and simmer 15 minutes . preheat the oven to 350 degrees f 175 degrees c . butter a 9x13 inch baking dish . layer as follows 1/2 of the ziti , provolone cheese , sour cream , 1/2 sauce mixture , remaining ziti , mozzarella cheese and remaining sauce mixture . top with grated parmesan cheese . bake for 30 minutes in the preheated oven , or until cheeses are melted .', 'preheat oven to 350 degrees f 175 degrees c . grease a 9x5 inch loaf pan . in a large bowl , stir together the melted butter and sugar . add the eggs and vanilla , mix well . combine the flour , baking soda and salt , stir into the butter mixture until smooth . finally , fold in the sour cream , walnuts and bananas . spread evenly into the prepared pan . bake at 350 degrees f 175 degrees c for 60 minutes , or until a toothpick inserted into the center of the loaf comes out clean . cool loaf in the pan for 10 minutes before removing to a wire rack to cool completely .', 'in a small bowl , mix together chili powder , garlic powder , onion powder , red pepper flakes , oregano , paprika , cumin , salt and pepper . store in an airtight container .', 'in a medium skillet over medium heat , brown the ground beef , onion , and green pepper drain off liquids . stir in the garlic powder , mustard , ketchup , and brown sugar mix thoroughly . reduce heat , and simmer for 30 minutes . season with salt and pepper .', 'preheat oven to 350 degrees f 175 degrees c . in a large bowl , mix together the cake and pudding mixes , sour cream , oil , beaten eggs and water . stir in the chocolate chips and pour batter into a well greased 12 cup bundt pan . bake for 50 to 55 minutes , or until top is springy to the touch and a wooden toothpick inserted comes out clean . cool cake thoroughly in pan at least an hour and a half before inverting onto a plate if desired , dust the cake with powdered sugar .', 'in a large bowl , dissolve the sugar in warm water , and then stir in yeast . allow to proof until yeast resembles a creamy foam . mix salt and oil into the yeast . mix in flour one cup at a time . knead dough on a lightly floured surface until smooth . place in a well oiled bowl , and turn dough to coat . cover with a damp cloth . allow to rise until doubled in bulk , about 1 hour . punch dough down . knead for a few minutes , and divide in half . shape into loaves , and place into two well oiled 9x5 inch loaf pans . allow to rise for 30 minutes , or until dough has risen 1 inch above pans . bake at 350 degrees f 175 degrees c for 30 minutes .', 'preheat oven to 400 degrees f 200 degrees c . butter a 1 quart casserole dish . layer 1/2 of the potatoes into bottom of the prepared casserole dish . top with the onion slices , and add the remaining potatoes . season with salt and pepper to taste . in a medium size saucepan , melt butter over medium heat . mix in the flour and salt , and stir constantly with a whisk for one minute . stir in milk . cook until mixture has thickened . stir in cheese all at once , and continue stirring until melted , about 30 to 60 seconds . pour cheese over the potatoes , and cover the dish with aluminum foil . bake 1 1/2 hours in the preheated oven .', 'preheat oven to 425 degrees f 220 degrees c . heat olive oil and garlic in a small saucepan over low heat until warmed , 1 to 2 minutes . transfer garlic and oil to a shallow bowl . combine bread crumbs and parmesan cheese in a separate shallow bowl . dip chicken breasts in the olive oil garlic mixture using tongs transfer to bread crumb mixture and turn to evenly coat . transfer coated chicken to a shallow baking dish . bake in the preheated oven until no longer pink and juices run clear , 30 to 35 minutes . an instant read thermometer inserted into the center should read at least 165 degrees f 74 degrees c .', 'season salmon fillets with lemon pepper , garlic powder , and salt . in a small bowl , stir together soy sauce , brown sugar , water , and vegetable oil until sugar is dissolved . place fish in a large resealable plastic bag with the soy sauce mixture , seal , and turn to coat . refrigerate for at least 2 hours . preheat grill for medium heat . lightly oil grill grate . place salmon on the preheated grill , and discard marinade . cook salmon for 6 to 8 minutes per side , or until the fish flakes easily with a fork .', 'preheat oven to 375 degrees f 190 degrees c place chicken breasts in a lightly greased 9x13 inch baking dish . sprinkle taco seasoning on both sides of chicken breasts , and pour salsa over all . bake at 375 degrees f 190 degrees c for 25 to 35 minutes , or until chicken is tender and juicy and its juices run clear . sprinkle chicken evenly with cheese , and continue baking for an additional 3 to 5 minutes , or until cheese is melted and bubbly . top with sour cream if desired , and serve .', 'melt butter in a medium , non stick saucepan over medium heat . add cream cheese and garlic powder , stirring with wire whisk until smooth . add milk , a little at a time , whisking to smooth out lumps . stir in parmesan and pepper . remove from heat when sauce reaches desired consistency . sauce will thicken rapidly , thin with milk if cooked too long . toss with hot pasta to serve .', 'bring 1 1/2 cups water to a boil in a saucepan stir rice into boiling water . reduce heat to low , cover , and simmer for 20 minutes . in a clean saucepan , combine 1 1/2 cups cooked rice , 1 1/2 cups milk , sugar and salt . cook over medium heat until thick and creamy , 15 to 20 minutes . stir in remaining 1/2 cup milk , beaten egg , and raisins cook 2 minutes more , stirring constantly . remove from heat and stir in butter and vanilla .', 'preheat oven to 350 degrees f 175 degrees c . in a large bowl , combine the beef , egg , onion , milk and bread or cracker crumbs . season with salt and pepper to taste and place in a lightly greased 5x9 inch loaf pan , or form into a loaf and place in a lightly greased 9x13 inch baking dish . in a separate small bowl , combine the brown sugar , mustard and ketchup . mix well and pour over the meatloaf . bake at 350 degrees f 175 degrees c for 1 hour .', 'place the pork tenderloin in a slow cooker pour the root beer over the meat . cover and cook on low until well cooked and the pork shreds easily , 6 to 7 hours . note the actual length of time may vary according to individual slow cooker . drain well . stir in barbecue sauce . serve over hamburger buns .', 'in a medium bowl , cream together the cream cheese and butter until creamy . mix in the vanilla , then gradually stir in the confectioners sugar . store in the refrigerator after use .', 'in a small bowl , mix the maple syrup , soy sauce , garlic , garlic salt , and pepper . place salmon in a shallow glass baking dish , and coat with the maple syrup mixture . cover the dish , and marinate salmon in the refrigerator 30 minutes , turning once . preheat oven to 400 degrees f 200 degrees c . place the baking dish in the preheated oven , and bake salmon uncovered 20 minutes , or until easily flaked with a fork .', 'preheat oven to 350 degrees f 175 degrees c . lightly grease a 9x13 baking dish . combine the melted butter , sugar , and vanilla in a large bowl . beat in the eggs , one at a time , mixing well after each , until thoroughly blended . sift the flour , cocoa powder , and salt in a bowl . gradually stir flour mixture into the egg mixture until blended . stir in the chocolate morsels . spread the batter evenly into the prepared baking dish . bake in preheated oven until an inserted toothpick comes out clean , 35 to 40 minutes . remove , and cool pan on wire rack before cutting .', 'measure flour into a large mixing bowl . slowly whisk in the milk . whisk in the salt , eggs , cinnamon , vanilla extract and sugar until smooth . heat a lightly oiled griddle or frying pan over medium heat . soak bread slices in mixture until saturated . cook bread on each side until golden brown . serve hot .', 'in a slow cooker , combine the meat , soup , onion , worcestershire sauce and water . cook on low setting for 8 hours , or on high setting for about 5 hours . stir in cream cheese just before serving .', 'in a small bowl , mix together salt , paprika , onion powder , thyme , white pepper , black pepper , cayenne pepper , and garlic powder . remove and discard giblets from chicken . rinse chicken cavity , and pat dry with paper towel . rub each chicken inside and out with spice mixture . place 1 onion into the cavity of each chicken . place chickens in a resealable bag or double wrap with plastic wrap . refrigerate overnight , or at least 4 to 6 hours . preheat oven to 250 degrees f 120 degrees c . place chickens in a roasting pan . bake uncovered for 5 hours , to a minimum internal temperature of 180 degrees f 85 degrees c . let the chickens stand for 10 minutes before carving .', 'preheat oven to 350 degrees f 175 degrees c . spray a baking sheet with cooking spray . clean mushrooms with a damp paper towel . carefully break off stems . chop stems extremely fine , discarding tough end of stems . heat oil in a large skillet over medium heat . add garlic and chopped mushroom stems to the skillet . fry until any moisture has disappeared , taking care not to burn garlic . set aside to cool . when garlic and mushroom mixture is no longer hot , stir in cream cheese , parmesan cheese , black pepper , onion powder and cayenne pepper . mixture should be very thick . using a little spoon , fill each mushroom cap with a generous amount of stuffing . arrange the mushroom caps on prepared cookie sheet . bake for 20 minutes in the preheated oven , or until the mushrooms are piping hot and liquid starts to form under caps .', 'preheat oven to 425 degrees f 220 degrees c . in a large bowl , whisk together the flour , baking powder , salt , and sugar . cut in the shortening until the mixture resembles coarse meal . gradually stir in milk until dough pulls away from the side of the bowl . turn out onto a floured surface , and knead 15 to 20 times . pat or roll dough out to 1 inch thick . cut biscuits with a large cutter or juice glass dipped in flour . repeat until all dough is used . brush off the excess flour , and place biscuits onto an ungreased baking sheet . bake for 13 to 15 minutes in the preheated oven , or until edges begin to brown .', 'put chicken , margarine and dressing mix in slow cooker mix together and cook on low for 5 to 6 hours . add cream cheese and soup , mix together and cook on high for another 1/2 hour or until heated through and warm .', 'trim excess fat from the rump roast , and place in a slow cooker . add the beef broth , onion soup and beer . cook on low setting for 7 hours . preheat oven to 350 degrees f 175 degrees c . split french rolls , and spread with butter . bake 10 minutes , or until heated through . slice the meat on the diagonal , and place on the rolls . serve the sauce for dipping .', 'preheat oven to 325 degrees f 165 degrees c . in a large saucepan , melt butter over low heat . stir in the package of dressing mix . blend in wine and golden mushroom soup . mix in cream cheese , and stir until smooth . heat through , but do not boil . arrange chicken breasts in a single layer in a 9x13 inch baking dish . pour sauce over . bake for 60 minutes in the preheated oven . twenty minutes before the chicken is done , bring a large pot of lightly salted water to a rolling boil . cook pasta until al dente , about 5 minutes . drain . serve chicken and sauce over pasta .', 'stir together cream cheese and mayonnaise in a large bowl until smooth . stir in green chiles and jalapeno peppers . pour mixture into a microwave safe serving dish , and sprinkle with parmesan cheese . microwave on high until hot , about 3 minutes .', 'in a large bowl , combine flour , sugar , baking powder , baking soda , and salt . in a separate bowl , beat together buttermilk , milk , eggs and melted butter . keep the two mixtures separate until you are ready to cook . heat a lightly oiled griddle or frying pan over medium high heat . you can flick water across the surface and if it beads up and sizzles , it is ready pour the wet mixture into the dry mixture , using a wooden spoon or fork to blend . stir until it is just blended together . do not over stir pour or scoop the batter onto the griddle , using approximately 1/2 cup for each pancake . brown on both sides and serve hot .', 'preheat oven to 400 degrees f 205 degrees c . place trimmed brussels sprouts , olive oil , kosher salt , and pepper in a large resealable plastic bag . seal tightly , and shake to coat . pour onto a baking sheet , and place on center oven rack . roast in the preheated oven for 30 to 45 minutes , shaking pan every 5 to 7 minutes for even browning . reduce heat when necessary to prevent burning . brussels sprouts should be darkest brown , almost black , when done . adjust seasoning with kosher salt , if necessary . serve immediately .', 'preheat waffle iron . beat eggs in large bowl with hand beater until fluffy . beat in flour , milk , vegetable oil , sugar , baking powder , salt and vanilla , just until smooth . spray preheated waffle iron with non stick cooking spray . pour mix onto hot waffle iron . cook until golden brown . serve hot .', 'melt butter in a medium saucepan over medium low heat . add cream and simmer for 5 minutes , then add garlic and cheese and whisk quickly , heating through . stir in parsley and serve .', 'in a small bowl mix together the flour , paprika , cayenne pepper and salt . place chicken wings in a large nonporous glass dish or bowl and sprinkle flour mixture over them until they are evenly coated . cover dish or bowl and refrigerate for 60 to 90 minutes . heat oil in a deep fryer to 375 degrees f 190 degrees c . the oil should be just enough to cover wings entirely , an inch or so deep . combine the butter , hot sauce , pepper and garlic powder in a small saucepan over low heat . stir together and heat until butter is melted and mixture is well blended . remove from heat and reserve for serving . fry coated wings in hot oil for 10 to 15 minutes , or until parts of wings begin to turn brown . remove from heat , place wings in serving bowl , add hot sauce mixture and stir together . serve .', 'in a small bowl , stir together confectioners sugar and milk until smooth . beat in corn syrup and almond extract until icing is smooth and glossy . if icing is too thick , add more corn syrup . divide into separate bowls , and add food colorings to each to desired intensity . dip cookies , or paint them with a brush .', 'preheat oven to 350 degrees f 175 degrees c , and lightly grease a 9x9 inch baking dish . in a medium bowl , combine butter , eggs , corn bread mix , whole and creamed corn and sour cream . spoon mixture into prepared dish . bake for 45 minutes in the preheated oven , or until the top is golden brown .', 'pour can of beef broth into slow cooker , and add boneless pork ribs . cook on high heat for 4 hours , or until meat shreds easily . remove meat , and shred with two forks . it will seem that it is not working right away , but it will . preheat oven to 350 degrees f 175 degrees c . transfer the shredded pork to a dutch oven or iron skillet , and stir in barbeque sauce . bake in the preheated oven for 30 minutes , or until heated through .', 'preheat oven to 350 degrees f 175 degrees c . dip eggplant slices in egg , then in bread crumbs . place in a single layer on a baking sheet . bake in preheated oven for 5 minutes on each side . in a 9x13 inch baking dish spread spaghetti sauce to cover the bottom . place a layer of eggplant slices in the sauce . sprinkle with mozzarella and parmesan cheeses . repeat with remaining ingredients , ending with the cheeses . sprinkle basil on top . bake in preheated oven for 35 minutes , or until golden brown .', 'preheat oven to 350 degrees f 175 degrees c . grease and flour a 9x9 inch pan or line a muffin pan with paper liners . in a medium bowl , cream together the sugar and butter . beat in the eggs , one at a time , then stir in the vanilla . combine flour and baking powder , add to the creamed mixture and mix well . finally stir in the milk until batter is smooth . pour or spoon batter into the prepared pan . bake for 30 to 40 minutes in the preheated oven . for cupcakes , bake 20 to 25 minutes . cake is done when it springs back to the touch .', 'preheat oven to 350 degrees f 175 degrees c . coat muffin pans with non stick spray , or use paper liners . sift together the flour , baking powder , baking soda , and salt set aside . combine bananas , sugar , egg , and melted butter in a large bowl . fold in flour mixture , and mix until smooth . scoop into muffin pans . bake in preheated oven . bake mini muffins for 10 to 15 minutes , and large muffins for 25 to 30 minutes . muffins will spring back when lightly tapped .', 'in a large bowl , stir together the garlic , olive oil , tomato sauce , and red wine vinegar . season with basil , salt , and cayenne pepper . add shrimp to the bowl , and stir until evenly coated . cover , and refrigerate for 30 minutes to 1 hour , stirring once or twice . preheat grill for medium heat . thread shrimp onto skewers , piercing once near the tail and once near the head . discard marinade . lightly oil grill grate . cook shrimp on preheated grill for 2 to 3 minutes per side , or until opaque .', 'preheat the oven to 350 degrees f 175 degrees c . grease a 9x13 inch baking dish . cut each apple into 8 wedges and set aside . separate the crescent roll dough into triangles . roll each apple wedge in crescent roll dough starting at the smallest end . pinch to seal and place in the baking dish . melt butter in a small saucepan and stir in the sugar and cinnamon . pour over the apple dumplings . pour mountain dew tm over the dumplings . bake for 35 to 45 minutes in the preheated oven , or until golden brown .', 'preheat oven to 350 degrees f 175 degrees c . in a medium bowl , combine condensed milk , sour cream , lime juice , and lime rind . mix well and pour into graham cracker crust . bake in preheated oven for 5 to 8 minutes , until tiny pinhole bubbles burst on the surface of pie . do not brown chill pie thoroughly before serving . garnish with lime slices and whipped cream if desired .', 'in a large mixing bowl , whisk together the flour and the eggs . gradually add in the milk and water , stirring to combine . add the salt and butter beat until smooth . heat a lightly oiled griddle or frying pan over medium high heat . pour or scoop the batter onto the griddle , using approximately 1/4 cup for each crepe . tilt the pan with a circular motion so that the batter coats the surface evenly . cook the crepe for about 2 minutes , until the bottom is light brown . loosen with a spatula , turn and cook the other side . serve hot .', 'preheat oven to 350 degrees f 175 degrees c . break bread into small pieces into an 8 inch square baking pan . drizzle melted butter or margarine over bread . if desired , sprinkle with raisins . in a medium mixing bowl , combine eggs , milk , sugar , cinnamon , and vanilla . beat until well mixed . pour over bread , and lightly push down with a fork until bread is covered and soaking up the egg mixture . bake in the preheated oven for 45 minutes , or until the top springs back when lightly tapped .', 'preheat oven to 375 degrees f 190 degrees c . place eggs and cracker crumbs in two separate shallow bowls . mix cracker crumbs with garlic salt and pepper . dip chicken in the eggs , then dredge in the crumb mixture to coat . arrange coated chicken in a 9x13 inch baking dish . place pieces of butter around the chicken . bake in the preheated oven for 40 minutes , or until chicken is no longer pink and juices run clear .', 'place pork tenderloin in a slow cooker with the contents of the soup packet . pour water , wine , and soy sauce over the top , turning the pork to coat . carefully spread garlic over the pork , leaving as much on top of the roast during cooking as possible . sprinkle with pepper , cover , and cook on low setting for 4 hours . serve with cooking liquid on the side as au jus .', 'preheat oven to 350 degrees f 175 degrees c . bake potatoes in preheated oven for 1 hour . meanwhile , place bacon in a large , deep skillet . cook over medium high heat until evenly brown . drain , crumble and set aside . when potatoes are done allow them to cool for 10 minutes . slice potatoes in half lengthwise and scoop the flesh into a large bowl save skins . to the potato flesh add sour cream , milk , butter , salt , pepper , 1/2 cup cheese and 1/2 the green onions . mix with a hand mixer until well blended and creamy . spoon the mixture into the potato skins . top each with remaining cheese , green onions and bacon . bake for another 15 minutes .', 'place the water , sugar and yeast in the pan of the bread machine . let the yeast dissolve and foam for 10 minutes . add the oil , flour and salt to the yeast . select basic or white bread setting , and press start .', 'crush 9 of the cookies to fine crumbs in food processor reserve for later use . cookies can also be finely crushed in a resealable plastic bag using a rolling pin . crush remaining 36 cookies to fine crumbs place in medium bowl . add cream cheese mix until well blended . roll cookie mixture into 42 balls , about 1 inch in diameter . dip balls in chocolate place on wax paper covered baking sheet . any leftover chocolate can be stored at room temperature for another use . sprinkle with reserved cookie crumbs . refrigerate until firm , about 1 hour . store leftover truffles , covered , in refrigerator .', 'in a medium glass bowl , prepare marinade by mixing garlic , light olive oil , basil , salt , pepper , lemon juice and parsley . place salmon fillets in a medium glass baking dish , and cover with the marinade . marinate in the refrigerator about 1 hour , turning occasionally . preheat oven to 375 degrees f 190 degrees c . place fillets in aluminum foil , cover with marinade , and seal . place sealed salmon in the glass dish , and bake 35 to 45 minutes , until easily flaked with a fork .', 'preheat oven to 350 degrees f 175 degrees c . place chicken in a roasting pan , and season generously inside and out with salt and pepper . sprinkle inside and out with onion powder . place 3 tablespoons margarine in the chicken cavity . arrange dollops of the remaining margarine around the chicken s exterior . cut the celery into 3 or 4 pieces , and place in the chicken cavity . bake uncovered 1 hour and 15 minutes in the preheated oven , to a minimum internal temperature of 180 degrees f 82 degrees c . remove from heat , and baste with melted margarine and drippings . cover with aluminum foil , and allow to rest about 30 minutes before serving .', 'preheat oven to 350 degrees f 175 degrees c . lightly grease a 9x13 inch baking dish . in a bowl , blend the olive oil and garlic . in a separate bowl , mix the bread crumbs , parmesan cheese , basil , and pepper . dip each chicken breast in the oil mixture , then in the bread crumb mixture . arrange the coated chicken breasts in the prepared baking dish , and top with any remaining bread crumb mixture . bake 30 minutes in the preheated oven , or until chicken is no longer pink and juices run clear .', 'preheat oven to 350 degrees f 175 degrees c . stir the ground beef , crushed crackers , cheddar cheese , and onion soup mix in a large bowl until well combined . whisk the eggs , ketchup , and steak sauce in a separate bowl until smooth . mix the eggs into the meat until evenly combined , if the mixture seems too dry , add a little water . press into a 9x5 inch loaf pan . bake in preheated oven until the meatloaf reaches 160 degrees f 71 degrees c and is no longer pink in the center , 45 to 60 minutes .', 'combine the coleslaw mix and onion in a large bowl . whisk together the salad dressing , vegetable oil , sugar , vinegar , salt , and poppy seeds in a medium bowl blend thoroughly . pour dressing mixture over coleslaw mix and toss to coat . chill at least 2 hours before serving .', 'cream butter , peanut butter , and sugars together in a bowl beat in eggs . in a separate bowl , sift flour , baking powder , baking soda , and salt stir into butter mixture . put dough in refrigerator for 1 hour . roll dough into 1 inch balls and put on baking sheets . flatten each ball with a fork , making a crisscross pattern . bake in a preheated 375 degrees f oven for about 10 minutes or until cookies begin to brown .', 'combine flour , salt , sugar , and yeast in a large bowl . mix in oil and warm water . spread out on a large pizza pan . top as desired . bake at 375 degrees c 190 degrees c for 20 to 25 minutes .', 'preheat oven to 350 degrees f 175 degrees c . in a small bowl , thoroughly blend soy sauce , vegetable oil , worcestershire sauce , lemon juice , brown sugar , and ketchup . place pork chops in a medium baking dish , and spread with 1/2 the sauce . bake pork chops 30 minutes in the preheated oven . turn , and spread with remaining sauce . continue baking 30 minutes , or until internal temperature of the chops has reached 145 degrees f 63 degrees c .', 'preheat oven to 425 degrees f . whisk pumpkin , sweetened condensed milk , eggs , spices and salt in medium bowl until smooth . pour into crust . bake 15 minutes . reduce oven temperature to 350 degrees f and continue baking 35 to 40 minutes or until knife inserted 1 inch from crust comes out clean . cool . garnish as desired . store leftovers covered in refrigerator .', 'heat oil in a large saucepan over medium heat and add rice . cook , stirring constantly , until puffed and golden . while rice is cooking , sprinkle with salt and cumin . stir in onions and cook until tender . stir in tomato sauce and chicken broth bring to a boil . reduce heat to low , cover and simmer for 20 to 25 minutes . fluff with a fork .', 'preheat the oven to 450 degrees f 220 degrees c . grease a large casserole dish . place the olive oil and garlic in a large resealable bag . add cauliflower , and shake to mix . pour into the prepared casserole dish , and season with salt and pepper to taste . bake for 25 minutes , stirring halfway through . top with parmesan cheese and parsley , and broil for 3 to 5 minutes , until golden brown .', 'in a medium bowl , mix together the butter or margarine , graham cracker crumbs , confectioners sugar , and 1 cup peanut butter until well blended . press evenly into the bottom of an ungreased 9x13 inch pan . in a metal bowl over simmering water , or in the microwave , melt the chocolate chips with the peanut butter , stirring occasionally until smooth . spread over the prepared crust . refrigerate for at least one hour before cutting into squares .', 'preheat oven to 450 degrees f 230 degrees c . in a medium bowl , dissolve yeast and sugar in warm water . let stand until creamy , about 10 minutes . stir in flour , salt and oil . beat until smooth . let rest for 5 minutes . turn dough out onto a lightly floured surface and pat or roll into a round . transfer crust to a lightly greased pizza pan or baker s peel dusted with cornmeal . spread with desired toppings and bake in preheated oven for 15 to 20 minutes , or until golden brown . let baked pizza cool for 5 minutes before serving .', 'preheat oven to 350 degrees f 175 degrees c . sprinkle chicken breasts with salt and pepper to taste , and place in a lightly greased 9x13 inch baking dish . in a small bowl , combine the honey , mustard , basil , paprika , and parsley . mix well . pour 1/2 of this mixture over the chicken , and brush to cover . bake in the preheated oven for 30 minutes . turn chicken pieces over and brush with the remaining 1/2 of the honey mustard mixture . bake for an additional 10 to 15 minutes , or until chicken is no longer pink and juices run clear . let cool 10 minutes before serving .', 'preheat oven to 400 degrees f 200 degrees c . spray or lightly grease a 9 inch round cake pan . in a large bowl , combine flour , cornmeal , sugar , salt and baking powder . stir in egg , milk and vegetable oil until well combined . pour batter into prepared pan . bake in preheated oven for 20 to 25 minutes , or until a toothpick inserted into the center of the loaf comes out clean .', 'in a stockpot , melt butter over medium heat . cook onion in butter until softened . stir in broccoli , and cover with chicken broth . simmer until broccoli is tender , 10 to 15 minutes . reduce heat , and stir in cheese cubes until melted . mix in milk and garlic powder . in a small bowl , stir cornstarch into water until dissolved . stir into soup cook , stirring frequently , until thick .', 'preheat oven to 375 degrees f 190 degrees c . in a medium bowl , mix together the artichoke hearts , parmesan cheese , mayonnaise , and garlic pepper . place chicken in a greased baking dish , and cover evenly with artichoke mixture . bake , uncovered , for 30 minutes in the preheated oven , or until chicken is no longer pink in the center and juices run clear .', 'preheat oven to 350 degrees f 175 degrees c . in a large bowl , cream together shortening , margarine , brown sugar , white sugar , and peanut butter until smooth . beat in the eggs one at a time until well blended . combine the flour , baking soda , and salt stir into the creamed mixture . mix in the oats until just combined . drop by teaspoonfuls onto ungreased cookie sheets . bake for 10 to 15 minutes in the preheated oven , or until just light brown . do not over bake . cool and store in an airtight container .', 'preheat oven to 350 degrees f 180 degrees c . combine ingredients and drop by teaspoonfuls on cookie sheet . bake for 8 minutes . let cool . recipe does not make very many , so you could double recipe as you desire .', 'boil sweet potato whole in skin for 40 to 50 minutes , or until done . run cold water over the sweet potato , and remove the skin . break apart sweet potato in a bowl . add butter , and mix well with mixer . stir in sugar , milk , eggs , nutmeg , cinnamon and vanilla . beat on medium speed until mixture is smooth . pour filling into an unbaked pie crust . bake at 350 degrees f 175 degrees c for 55 to 60 minutes , or until knife inserted in center comes out clean . pie will puff up like a souffle , and then will sink down as it cools .', 'melt butter in a sauce pan . stir in flour to form a paste . add white sugar , brown sugar and water bring to a boil . reduce temperature , and simmer 5 minutes . meanwhile , place the bottom crust in your pan . fill with apples , mounded slightly . cover with a lattice work crust . gently pour the sugar and butter liquid over the crust . pour slowly so that it does not run off . bake 15 minutes at 425 degrees f 220 degrees c . reduce the temperature to 350 degrees f 175 degrees c , and continue baking for 35 to 45 minutes .', 'in a saucepan , combine apples , water , sugar , and cinnamon . cover , and cook over medium heat for 15 to 20 minutes , or until apples are soft . allow to cool , then mash with a fork or potato masher .', 'preheat oven to 350 degrees f 175 degrees c . cut bacon into thirds and wrap each strip around a little sausage . place the wrapped sausages on wooden skewers , several to a skewer . arrange the skewers on a baking sheet and sprinkle them liberally with brown sugar . bake until bacon is crisp and the brown sugar melted .', 'preheat oven to 375 degrees f 190 degrees c . grease 24 mini muffin cups . mix 1/2 cup sugar , 1/4 cup margarine , and nutmeg in a large bowl . stir in the milk , then mix in the baking powder and flour until just combined . fill the prepared mini muffin cups about half full . bake in the preheated oven until the tops are lightly golden , 15 to 20 minutes . while muffins are baking , place 1/4 cup of melted margarine in a bowl . in a separate bowl , mix together 1/2 cup of sugar with the cinnamon . remove muffins from their cups , dip each muffin in the melted margarine , and roll in the sugar cinnamon mixture . let cool and serve .', 'preheat oven to 375 degrees f 190 degrees c . place chicken in a 9x13 inch baking dish . mix together the oil , soy sauce , ketchup , honey , garlic , salt and pepper . pour over the chicken . bake in preheated oven for one hour , or until sauce is caramelized .', 'preheat oven to 400 degrees f 205 degrees c . in a large bowl , beat eggs until foamy , and stir in melted butter . stir in the brown sugar , white sugar and the flour mix well . last add the milk , vanilla and nuts . pour into an unbaked 9 in pie shell . bake in preheated oven for 10 minutes at 400 degrees , then reduce temperature to 350 degrees and bake for 30 to 40 minutes , or until done .', 'place the chicken breasts into a slow cooker , and pour in 3/4 of the wing sauce and the ranch dressing mix . cover , and cook on low for 6 to 7 hours . once the chicken has cooked , add the butter , and shred the meat finely with two forks . pile the meat onto the hoagie rolls , and splash with the remaining buffalo wing sauce to serve .', 'in a large bowl , mix together flour , salt , baking powder and sugar set aside . preheat waffle iron to desired temperature . in a separate bowl , beat the eggs . stir in the milk , butter and vanilla . pour the milk mixture into the flour mixture beat until blended . ladle the batter into a preheated waffle iron . cook the waffles until golden and crisp . serve immediately .', 'preheat oven to 375 degrees f 190 degrees c . lightly grease a 9x13 inch baking dish . in a large bowl , mix hash browns , ham , cream of potato soup , sour cream , and cheddar cheese . spread evenly into prepared dish . sprinkle with parmesan cheese . bake 1 hour in the preheated oven , or until bubbly and lightly brown . serve immediately .', 'in a small bowl , blend the sour cream and baking soda , and set aside . preheat oven to 350 degrees f 175 degrees c . lightly grease a large baking sheet . in a large bowl , mix the flour , sugar , baking powder , cream of tartar , and salt . cut in the butter . stir the sour cream mixture and egg into the flour mixture until just moistened . mix in the raisins . turn dough out onto a lightly floured surface , and knead briefly . roll or pat dough into a 3/4 inch thick round . cut into 12 wedges , and place them 2 inches apart on the prepared baking sheet . bake 12 to 15 minutes in the preheated oven , until golden brown on the bottom .', 'preheat oven to 400 degrees f 200 degrees c . arrange the asparagus on a baking sheet . coat with cooking spray , and season with salt and pepper . bake asparagus 12 minutes in the preheated oven , or until tender . melt the butter in a saucepan over medium heat . remove from heat , and stir in soy sauce and balsamic vinegar . pour over the baked asparagus to serve .', 'preheat the grill for medium heat . in a shallow bowl , mix the mustard , honey , mayonnaise , and steak sauce . set aside a small amount of the honey mustard sauce for basting , and dip the chicken into the remaining sauce to coat . lightly oil the grill grate . grill chicken over indirect heat for 18 to 20 minutes , turning occasionally , or until juices run clear . baste occasionally with the reserved sauce during the last 10 minutes . watch carefully to prevent burning', 'preheat oven to 350 degrees f 175 degrees c . in a large bowl , combine the egg , milk , cheese , oats and salt . add the ground beef , mixing well , and form this mixture into eight miniature meatloaves . place these in a lightly greased 9x13 inch baking dish . in a separate small bowl , combine the ketchup , brown sugar and mustard . stir thoroughly and spread over each meatloaf . bake , uncovered , at 350 degrees f 175 degrees c for 45 minutes .', 'preheat oven to 450 degrees f 230 degrees c . in a small saucepan over medium heat , combine the butter , mustard , lemon juice , garlic , and parsley . when the butter melts completely , remove from heat . arrange shrimp in a shallow baking dish . pour the butter mixture over the shrimp . bake in preheated oven for 12 to 15 minutes or until the shrimp are pink and opaque .', 'heat oil in a large , heavy skillet over medium heat . stir in onion , and cook until tender , about 5 minutes . mix rice into skillet , stirring often . when rice begins to brown , stir in chicken broth and salsa . reduce heat , cover and simmer 20 minutes , until liquid has been absorbed .', 'preheat oven to 350 degrees f 175 degrees c . lightly grease a 9 inch pie pan . heat oil in a large skillet over medium high heat . add onions and cook , stirring occasionally , until onions are soft . stir in spinach and continue cooking until excess moisture has evaporated . in a large bowl , combine eggs , cheese , salt and pepper . add spinach mixture and stir to blend . scoop into prepared pie pan . bake in preheated oven until eggs have set , about 30 minutes . let cool for 10 minutes before serving .', 'preheat oven to 400 degrees f 200 degrees c . in a small bowl , combine cornmeal and milk let stand for 5 minutes . grease a 9x13 inch baking pan . in a large bowl , whisk together flour , baking powder , salt and sugar . mix in the cornmeal mixture , eggs and oil until smooth . pour batter into prepared pan . bake in preheated oven for 30 to 35 minutes , or until a knife inserted into the center of the cornbread comes out clean .', 'preheat oven to 350 degrees f 175 degrees c . in a medium bowl , blend together softened butter , 2 cups flour and 1/2 cup sugar . press into the bottom of an ungreased 9x13 inch pan . bake for 15 to 20 minutes in the preheated oven , or until firm and golden . in another bowl , whisk together the remaining 1 1/2 cups sugar and 1/4 cup flour . whisk in the eggs and lemon juice . pour over the baked crust . bake for an additional 20 minutes in the preheated oven . the bars will firm up as they cool . for a festive tray , make another pan using limes instead of lemons and adding a drop of green food coloring to give a very pale green . after both pans have cooled , cut into uniform 2 inch squares and arrange in a checker board fashion .', 'prepare the cake mix according to package directions using any of the recommended pan sizes . when cake is done , crumble while warm into a large bowl , and stir in the frosting until well blended . melt chocolate coating in a glass bowl in the microwave , or in a metal bowl over a pan of simmering water , stirring occasionally until smooth . use a melon baller or small scoop to form balls of the chocolate cake mixture . dip the balls in chocolate using a toothpick or fork to hold them . place on waxed paper to set .', 'preheat oven to 350 degrees f 175 degrees c . coat a 7x11 inch baking dish with nonstick cooking spray . pound chicken breasts to 1/4 inch thickness . sprinkle each piece of chicken on both sides with salt and pepper . place 1 cheese slice and 1 ham slice on top of each breast . roll up each breast , and secure with a toothpick . place in baking dish , and sprinkle chicken evenly with bread crumbs . bake for 30 to 35 minutes , or until chicken is no longer pink . remove from oven , and place 1/2 cheese slice on top of each breast . return to oven for 3 to 5 minutes , or until cheese has melted . remove toothpicks , and serve immediately .', 'in a small saucepan , combine sugar and 1 cup water . bring to boil and stir to dissolve sugar . allow to cool to room temperature , then cover and refrigerate until chilled . remove seeds from lemon juice , but leave pulp . in pitcher , stir together chilled syrup , lemon juice and remaining 7 cups water .', 'preheat an oven to 350 degrees f 175 degrees c . line a non insulated cookie sheet with parchment paper . with a knife or kitchen shears carefully remove the leaves from the thick stems and tear into bite size pieces . wash and thoroughly dry kale with a salad spinner . drizzle kale with olive oil and sprinkle with seasoning salt . bake until the edges brown but are not burnt , 10 to 15 minutes .', 'place the onion , rinsed beans , jalapeno , garlic , salt , pepper , and cumin into a slow cooker . pour in the water and stir to combine . cook on high for 8 hours , adding more water as needed . note if more than 1 cup of water has evaporated during cooking , then the temperature is too high . once the beans have cooked , strain them , and reserve the liquid . mash the beans with a potato masher , adding the reserved water as needed to attain desired consistency .', 'place crackers in a large resealable plastic bag seal bag and crush crackers with a rolling pin until they are coarse crumbs . add the flour , potato flakes , seasoned salt , and pepper and mix well . beat egg in a shallow dish or bowl . one by one , dredge chicken pieces in egg , then place in bag with crumb mixture . seal bag and shake to coat . heat oil in a deep fryer or large saucepan to 350 degrees f 175 degrees c . fry chicken , turning frequently , until golden brown and juices run clear , 15 to 20 minutes .', 'preheat oven to 350 degrees f 175 degrees c . place chicken pieces in a shallow baking pan , skin side up . combine the melted butter or margarine , honey , mustard , salt and curry powder and pour the mixture over the chicken . bake in the preheated oven for 1 1/4 hours 75 minutes , basting every 15 minutes with pan drippings , until the chicken is nicely browned and tender and the juices run clear .', 'line an 8x8 inch pan with aluminum foil . set aside . in a large saucepan over medium heat , combine marshmallow cream , sugar , evaporated milk , butter and salt . bring to a full boil , and cook for 5 minutes , stirring constantly . remove from heat and pour in semisweet chocolate chips and milk chocolate chips . stir until chocolate is melted and mixture is smooth . stir in nuts and vanilla . pour into prepared pan . chill in refrigerator for 2 hours , or until firm .', 'preheat oven to 350 degrees f 175 degrees c . in a medium bowl , cream together butter and white sugar until smooth . mix in 1/2 teaspoon almond extract . mix in flour until dough comes together . roll dough into 1 1/2 inch balls , and place on ungreased cookie sheets . make a small hole in the center of each ball , using your thumb and finger , and fill the hole with preserves . bake for 14 to 18 minutes in preheated oven , or until lightly browned . let cool 1 minute on the cookie sheet . in a medium bowl , mix together the confectioners sugar , 3/4 teaspoon almond extract , and milk until smooth . drizzle lightly over warm cookies .', 'in a large bowl , mix ground turkey , seasoned bread crumbs , onion , egg whites , parsley , garlic , salt , and pepper . form into 12 patties . cook the patties in a medium skillet over medium heat , turning once , to an internal temperature of 180 degrees f 85 degrees c .', 'preheat oven to 375 degrees f 190 degrees c . pour beaten eggs into a shallow dish or bowl . in another shallow dish or bowl , mix together the grated parmesan cheese and bread crumbs . dip chicken breasts into beaten egg , then into bread crumb mixture to coat . in a large skillet , heat oil over medium high heat . add coated chicken and saute for about 8 to 10 minutes each side , or until chicken is cooked through and juices run clear . pour tomato sauce into a lightly greased 9x13 inch baking dish . add chicken , then place a slice of monterey jack cheese over each breast , and bake in the preheated oven for 20 minutes or until cheese is completely melted .', 'preheat oven to 375 degrees f 190 degrees c . spray a baking dish with non stick cooking spray . rinse tilapia fillets under cool water , and pat dry with paper towels . place fillets in baking dish . pour lemon juice over fillets , then drizzle butter on top . sprinkle with garlic , parsley , and pepper . bake in preheated oven until the fish is white and flakes when pulled apart with a fork , about 30 minutes .', 'cook noodles according to package directions . preheat oven to 350 degrees f 175 degrees c . in a medium skillet over medium high heat , brown the ground beef with the onion , garlic and green bell pepper . drain excess fat . stir in the noodles , pepperoni , pizza sauce and milk , and mix well . pour this mixture into a 2 quart casserole dish . bake at 350 degrees f 175 degrees c for 20 minutes , top with the cheese , then bake for 5 to 10 more minutes .', 'in a medium sized saucepan over medium heat , dissolve the sugar in the orange juice . stir in the cranberries and cook until the cranberries start to pop about 10 minutes . remove from heat and place sauce in a bowl . cranberry sauce will thicken as it cools .', 'preheat oven to 250 degrees f 95 degrees c . place popcorn in a very large bowl . in a medium saucepan over medium heat , melt butter . stir in brown sugar , corn syrup and salt . bring to a boil , stirring constantly . boil without stirring 4 minutes . remove from heat and stir in soda and vanilla . pour in a thin stream over popcorn , stirring to coat . place in two large shallow baking dishes and bake in preheated oven , stirring every 15 minutes , for 1 hour . remove from oven and let cool completely before breaking into pieces .', 'melt butter in a medium saucepan over medium heat . stir in brown sugar and milk . bring to a boil and boil for 2 minutes , stirring frequently . remove from heat . stir in peanut butter and vanilla . pour over confectioners sugar in a large mixing bowl . beat until smooth pour into an 8x8 inch dish . chill until firm and cut into squares .', 'place the garbanzo beans , tahini , lemon juice , salt and garlic in a blender or food processor . blend until smooth . transfer mixture to a serving bowl . drizzle olive oil over the garbanzo bean mixture . sprinkle with paprika and parsley .', 'dissolve steak seasoning in balsamic vinegar , then stir in olive oil . place pork into a resealable plastic bag and pour marinade overtop . squeeze out air and seal bag marinate 2 hours to overnight . preheat oven to 350 degrees f 175 degrees c . place pork into a glass baking dish along with marinade . bake in preheated oven , basting occasionally until the pork reaches an internal temperature of 145 degrees f 65 degrees c , about 1 hour . let the roast rest for 10 minutes before slicing and serving .', 'place the roast in a roasting pan with the fatty side up . in a small bowl , mix together the garlic , olive oil , salt , pepper and thyme . spread the mixture over the fatty layer of the roast , and let the roast sit out until it is at room temperature , no longer than 1 hour . preheat the oven to 500 degrees f 260 degrees c . bake the roast for 20 minutes in the preheated oven , then reduce the temperature to 325 degrees f 165 degrees c , and continue roasting for an additional 60 to 75 minutes . the internal temperature of the roast should be at 135 degrees f 57 degrees c for medium rare . allow the roast to rest for 10 or 15 minutes before carving so the meat can retain its juices .', 'bring a large pot of salted water to a boil . add potatoes and cook until tender but still firm , about 15 minutes . drain and set in the refrigerator to cool . place eggs in a saucepan and cover with cold water . bring water to a boil and immediately remove from heat . cover and let eggs stand in hot water for 10 to 12 minutes . remove from hot water , cool , peel and chop . place bacon in a large , deep skillet . cook over medium high heat until evenly brown . drain , crumble and set aside . chop the cooled potatoes , leaving skin on . add to a large bowl , along with the eggs , bacon , onion and celery . add mayonnaise , salt and pepper to taste . chill for an hour before serving .', 'preheat oven to 350 degrees f 175 degrees c . rinse and wash turkey . discard the giblets , or add to pan if they are anyone s favorites . place turkey in a dutch oven or roasting pan . separate the skin over the breast to make little pockets . put 3 tablespoons of the butter on both sides between the skin and breast meat . this makes for very juicy breast meat . in a medium bowl , combine the water with the bouillon . sprinkle in the parsley and minced onion . pour over the top of the turkey . sprinkle seasoning salt over the turkey . cover with foil , and bake in the preheated oven 3 1/2 to 4 hours , until the internal temperature of the turkey reaches 180 degrees f 80 degrees c . for the last 45 minutes or so , remove the foil so the turkey will brown nicely .', 'preheat oven to 350 degrees f 175 degrees c . lightly grease a baking sheet . place spaghetti squash with cut sides down on the prepared baking sheet , and bake 30 minutes in the preheated oven , or until a sharp knife can be inserted with only a little resistance . remove squash from oven and set aside to cool enough to be easily handled . meanwhile , heat oil in a skillet over medium heat . cook and stir onion in oil until tender . add garlic cook and stir until fragrant , 2 to 3 minutes . stir in tomatoes and cook until tomatoes are warmed through . use a large spoon to scoop the stringy pulp from the squash and place in a medium bowl . toss with the vegetables , feta cheese , olives , and basil . serve warm .', 'place the broccoli into a large pot with about 1 inch of water in the bottom . bring to a boil , and cook for 7 minutes , or until tender but still crisp . drain , and arrange broccoli on a serving platter . while the broccoli is cooking , melt the butter in a small skillet over medium heat . mix in the brown sugar , soy sauce , vinegar , pepper and garlic . bring to a boil , then remove from the heat . mix in the cashews , and pour the sauce over the broccoli . serve immediately .', 'preheat the oven to 350 degrees f 175 degrees c . grease and flour two 9x5 inch loaf pans . sift the flour , salt and baking soda into a large bowl . in a separate bowl , mix together the butter or margarine and sugar until smooth . stir in the bananas , eggs , and walnuts until well blended . pour the wet ingredients into the dry mixture , and stir just until blended . divide the batter evenly between the two loaf pans . bake for 60 to 70 minutes in the preheated oven , until a knife inserted into the crown of the loaf comes out clean . let the loaves cool in the pans for at least 5 minutes , then turn out onto a cooling rack , and cool completely . wrap in aluminum foil to keep in the moisture . ideally , refrigerate the loaves for 2 hours or more before serving .', 'in a saucepan bring sugar , cocoa , margarine , milk , and salt to a rapid boil for 1 minute . add quick cooking oats , peanut butter , and vanilla mix well . working quickly , drop by teaspoonfuls onto waxed paper , and let cool .', 'in a medium bowl , combine the zucchini , eggs , onion , flour , parmesan cheese , mozzarella cheese , and salt . stir well enough to distribute ingredients evenly . heat a small amount of oil in a skillet over medium high heat . drop zucchini mixture by heaping tablespoonfuls , and cook for a few minutes on each side until golden .', 'open the cans of corn , chicken broth , chunk chicken , black beans , and diced tomatoes with green chilies . pour everything into a large saucepan or stock pot . simmer over medium heat until chicken is heated through .', 'tear off 4 pieces of aluminum foil big enough to enclose each portion of ribs . spray each piece of foil with vegetable cooking spray . brush the ribs liberally with barbeque sauce and place each portion in its own piece of foil . wrap tightly and refrigerate for at least 8 hours , or overnight . preheat oven to 300 degrees f 150 degrees c . bake ribs wrapped tightly in the foil at 300 degrees f 150 degrees c for 2 1/2 hours . remove from foil and add more sauce , if desired .', 'combine flour , white sugar , baking powder and salt . in a separate bowl , mix together egg , milk , vegetable oil and bananas . stir flour mixture into banana mixture batter will be slightly lumpy . heat a lightly oiled griddle or frying pan over medium high heat . pour or scoop the batter onto the griddle , using approximately 1/4 cup for each pancake . cook until pancakes are golden brown on both sides serve hot .', 'preheat oven to 325 degrees f 160 degrees c . in a small bowl , beat together the eggs and milk . in a separate small bowl , mix the bread crumbs , parmesan cheese , and parsley . heat the olive oil in a large , oven proof skillet over medium heat . stir in the garlic , and cook until lightly browned . remove garlic , reserving for other uses . dip each pork chop into the egg mixture , then into the bread crumb mixture , coating evenly . place coated pork chops in the skillet , and brown abut 5 minutes on each side . place the skillet and pork chops in the preheated oven , and cook 25 minutes , or to an internal temperature of 145 degrees f 63 degrees c .', 'place the butter and peanut butter into a medium bowl , and beat with an electric mixer . gradually mix in the sugar , and when it starts to get thick , incorporate milk one tablespoon at a time until all of the sugar is mixed in and the frosting is thick and spreadable . beat for at least 3 minutes for it to get good and fluffy .', 'preheat oven to 400 degrees f 200 degrees c . season ribs with salt and pepper . place in a shallow baking pan . brown in oven 15 minutes . turn over , and brown another 15 minutes drain fat . in a medium bowl , mix together the ketchup , chili sauce , brown sugar , vinegar , oregano , worcestershire sauce , hot sauce , and salt and pepper . place ribs in slow cooker . pour sauce over ribs , and turn to coat . cover , and cook on low 6 to 8 hours , or until ribs are tender .', 'beat together cream cheese and confectioners sugar . mix in peanut butter and milk . beat until smooth . fold in whipped topping . spoon into two 9 inch graham cracker pie shells cover , and freeze until firm .', 'preheat oven to 350 degrees f 175 degrees c . in a medium bowl , cream together the butter , shortening and sugar . stir in the eggs and vanilla . combine the flour , baking powder and salt , stir into the creamed mixture until dough comes together . roll dough into walnut sized balls and roll the balls in sugar . place them on an unprepared cookie sheet about 2 inches apart . bake cookies 10 to 12 minutes in the preheated oven , until bottom is light brown . remove from baking sheets to cool on wire racks .', 'season the roast with salt and pepper to taste . brown on all sides in a large skillet over high heat , about 4 minutes per side . place the roast in the slow cooker and add the soup mix , water , carrots , onion , potatoes , and celery . cover and cook on low setting for 8 to 10 hours .', 'preheat an oven to 350 degrees f 175 degrees c . prepare a 9x13 inch baking dish with cooking spray . beat the cream cheese with 1 cup of sugar and the vanilla extract in a bowl until smooth . unroll the cans of crescent roll dough , and use a rolling pin to shape each piece into 9x13 inch rectangles . press one piece into the bottom of a 9x13 inch baking dish . evenly spread the cream cheese mixture into the baking dish , then cover with the remaining piece of crescent dough . stir together 3/4 cup of sugar , cinnamon , and butter . dot the mixture over the top of the cheesecake . bake in the preheated oven until the crescent dough has puffed and turned golden brown , about 30 minutes . remove from the oven and drizzle with honey . cool completely in the pan before cutting into 12 squares .', 'preheat the oven to 325 degrees f 165 degrees c . grease an 8x8 inch square pan . in a medium saucepan , combine the sugar , butter and water . cook over medium heat until boiling . remove from heat and stir in chocolate chips until melted and smooth . mix in the eggs and vanilla . combine the flour , baking soda and salt stir into the chocolate mixture . spread evenly into the prepared pan . bake for 25 to 30 minutes in the preheated oven , until brownies set up . do not overbake cool in pan and cut into squares .', 'preheat the oven to 500 degrees f 260 degrees c . season the roast with salt and pepper and place in a roasting pan or baking dish . do not cover or add water . place the roast in the preheated oven . reduce the temperature to 475 degrees f 245 degrees c . roast for 21 minutes seven minutes per pound then turn off the oven and let the roast sit in the hot oven for 2 1/2 hours . do not open the door at all during this time remove the roast from the oven , the internal temperature should have reached at least 145 degrees f 65 degrees c . carve into thin slices to serve .', 'preheat oven to 250 degrees f 120 degrees c . grease one baking sheet . in a mixing bowl , whip together the egg white and water until frothy . in a separate bowl , mix together sugar , salt , and cinnamon . add pecans to egg whites , stir to coat the nuts evenly . remove the nuts , and toss them in the sugar mixture until coated . spread the nuts out on the prepared baking sheet . bake at 250 degrees f 120 degrees c for 1 hour . stir every 15 minutes .', 'bring a large pot of salted water to a boil . add potatoes and cook until tender but still firm , about 45 minutes drain . stir in butter , cheese , garlic , salt and oregano . mash with a potato masher or with an electric mixer .', 'preheat oven to 350 degrees f 175 degrees c . grease one 9 or 10 inch tube/bundt r pan . mix white sugar and cinnamon in a plastic bag . cut biscuits into quarters . shake 6 to 8 biscuit pieces in the sugar cinnamon mix . arrange pieces in the bottom of the prepared pan . continue until all biscuits are coated and placed in pan . if using nuts and raisins , arrange them in and among the biscuit pieces as you go along . in a small saucepan , melt the margarine with the brown sugar over medium heat . boil for 1 minute . pour over the biscuits . bake at 350 degrees f 175 degrees c for 35 minutes . let bread cool in pan for 10 minutes , then turn out onto a plate . do not cut the bread just pulls apart .', 'cook macaroni according to the package directions . drain . in a saucepan , melt butter or margarine over medium heat . stir in enough flour to make a roux . add milk to roux slowly , stirring constantly . stir in cheeses , and cook over low heat until cheese is melted and the sauce is a little thick . put macaroni in large casserole dish , and pour sauce over macaroni . stir well . melt butter or margarine in a skillet over medium heat . add breadcrumbs and brown . spread over the macaroni and cheese to cover . sprinkle with a little paprika . bake at 350 degrees f 175 degrees c for 30 minutes . serve .', 'in medium bowl , combine egg , 1/2 cup flour , beer and baking powder . place 1/4 cup flour and coconut in two separate bowls . hold shrimp by tail , and dredge in flour , shaking off excess flour . dip in egg/beer batter allow excess to drip off . roll shrimp in coconut , and place on a baking sheet lined with wax paper . refrigerate for 30 minutes . meanwhile , heat oil to 350 degrees f 175 degrees c in a deep fryer . fry shrimp in batches cook , turning once , for 2 to 3 minutes , or until golden brown . using tongs , remove shrimp to paper towels to drain . serve warm with your favorite dipping sauce .', 'preheat the oven broiler . lightly grease a baking pan . in a microwave safe bowl , mix the butter , garlic , soy sauce , pepper , and parsley . cook 2 minutes on high in the microwave , or until butter is melted . arrange chicken on the baking pan , and coat with the butter mixture , reserving some of the mixture for basting . broil chicken 20 minutes in the preheated oven , until juices run clear , turning occasionally and basting with remaining butter mixture . sprinkle with parsley to serve .', 'in a medium bowl , sift together the confectioners sugar and cocoa , and set aside . in a large bowl , cream butter until smooth , then gradually beat in sugar mixture alternately with evaporated milk . blend in vanilla . beat until light and fluffy . if necessary , adjust consistency with more milk or sugar .', 'melt butter in heavy skillet over medium high heat . stir in orzo and saute until lightly browned . stir in chicken stock and bring to boil . cover . reduce heat and simmer until orzo is tender and liquid is absorbed , about 15 20 minutes . mix in parmesan cheese and basil . season with salt and pepper . transfer to shallow bowl . garnish with basil sprigs .', 'in an electric food processor or blender , combine beans , broth , salsa , and cumin . blend until fairly smooth . heat the bean mixture in a saucepan over medium heat until thoroughly heated . ladle soup into 4 individual bowls , and top each bowl with 1 tablespoon of the sour cream and 1/2 tablespoon green onion .', 'in a very large container , mix together the olive oil , garlic powder , oregano , basil , pepper , salt , onion powder , and dijon style mustard . pour in the vinegar , and mix vigorously until well blended . store tightly covered at room temperature .', 'preheat oven to 375 degrees f 190 degrees c . line a baking sheet with parchment paper . in a mixing bowl , combine the baking mix , cheese , and water . mix until dough is firm . using a small scoop , place dough on the prepared pan . bake at 375 degrees f 190 degrees c for 10 to 12 minutes , or until golden brown . combine the melted butter , garlic powder , salt , onion powder and parsley . brush over baked biscuits immediately upon removing from oven .', 'heat oil in a deep skillet over medium heat . saute rice , onion , and bell pepper until rice is browned and onions are tender . stir in water and tomatoes . season with chili powder and salt . cover , and simmer for 30 minutes , or until rice is cooked and liquid is absorbed .', 'preheat oven to 375 degrees f 190 degrees c . lightly coat an 11x7 inch baking dish with nonstick cooking spray . place potatoes in a single layer in prepared dish , and top with onion . in a small bowl , combine melted butter , honey , mustard , salt and pepper drizzle over potatoes and onion . bake in the preheated 375 degrees f 190 degrees c oven for 35 minutes or until tender , stirring halfway through the cooking time .', 'wad three pieces of aluminum foil into 3 to 4 inch balls , and place them in the bottom of the slow cooker . rinse the chicken , inside and out , under cold running water . pat dry with paper towels . season the chicken with the salt , pepper and paprika , and place in the slow cooker on top of the crumpled aluminum foil . set the slow cooker to high for 1 hour , then turn down to low for about 8 to 10 hours , or until the chicken is no longer pink and the juices run clear .', 'lay chicken thighs into the bottom of a 4 quart slow cooker . whisk soy sauce , ketchup , honey , garlic , and basil together in a bowl pour over the chicken . cook on low for 6 hours .', 'preheat oven to 350 degrees f 180 degrees c . lightly grease 2 cookie sheets . cream together sugar and butter . beat in egg yolks and vanilla . add flour , baking soda , and cream of tartar . stir . form dough into walnut size balls and place 2 inches apart on cookie sheet . do not flatten . bake 10 to 11 minutes , until tops are cracked and just turning color .', 'preheat oven to 350 degrees f 175 degrees c . in a large bowl , mix together the ground beef , egg , water , bread crumbs , and minced onion . roll into small meatballs . bake in preheated oven for 20 to 25 minutes , turning once . in a slow cooker or large saucepan over low heat , blend the cranberry sauce , chili sauce , brown sugar , and lemon juice . add meatballs , and simmer for 1 hour before serving .', 'in a small bowl , beat egg with water . melt butter in a large skillet over medium low heat . add egg and leave flat for 1 to 2 minutes . remove from skillet and cut into shreds . heat oil in same skillet add onion and saute until soft . then add rice , soy sauce , pepper and chicken . stir fry together for about 5 minutes , then stir in egg . serve hot .', 'preheat oven to 325 degrees f 165 degrees c . spray one 9x5 inch loaf pan with non stick spray coating . blend together the eggs , buttermilk , oil and bananas . sift together the sugar , flour , baking soda and salt . add to banana mixture and stir in pecans . mix well . pour into prepared loaf pan and bake 1 hour and 20 minutes or until a cake tester inserted in the center comes out clean .', 'preheat oven to 350 degrees f 175 degrees c . lay crescent dough flat on the bottom of a square cake pan and bake according to package directions . meanwhile , brown the ground beef in a large skillet over medium high heat . add the taco seasoning and stir together well . when dough is done , remove from oven and place meat mixture on top , then layer with sour cream and cheese , and then top off with the crushed nacho chips . return to oven and bake at 350 degrees f 175 degrees c for 10 minutes , or until cheese has melted .', 'season chicken breasts with lemon pepper , salt , dill weed , and garlic powder . melt butter in a large skillet over medium heat . place breasts in skillet , and increase heat to medium high . turn chicken frequently , until brown , about 5 minutes . reduce heat to medium , and cook 5 to 7 minutes , until breasts are cooked through . remove chicken to a warm serving platter , and cover with foil . return skillet to stove , and increase heat to high . whisk in whipping cream , whisking continuously until reduced to sauce consistency , about 3 minutes . remove from heat . stir in capers . pour sauce over chicken , and serve .', 'season pork chops with salt , pepper , and garlic salt to taste . in a large skillet , brown the chops over medium high heat . add the onion and mushrooms , and saute for one minute . pour cream of mushroom soup over chops . cover skillet , and reduce temperature to medium low . simmer 20 to 30 minutes , or until chops are cooked through .', 'place sausage in a large , deep skillet . cook over medium high heat until evenly brown . remove sausage with a slotted spoon , leaving the drippings in the pan . stir in the butter until melted . add flour , and stir until smooth . reduce heat to medium , and cook until light brown . gradually whisk in milk , and cook until thickened . season with salt and pepper , and stir in cooked sausage . reduce heat , and simmer for 12 to 15 minutes . if gravy becomes too thick , stir in a little more milk .', 'crumble sausage into a medium skillet . cook over medium heat until evenly brown drain . in a medium bowl , mix together mustard powder , salt , eggs and milk . add the sausage , bread cubes , and cheese , and stir to coat evenly . pour into a greased 9x13 inch baking dish . cover , and chill in the refrigerator for 8 hours , or overnight . preheat oven to 350 degrees f 175 degrees c . cover , and bake 45 to 60 minutes . uncover , and reduce temperature to 325 degrees f 165 degrees c . bake for an additional 30 minutes , or until set .', 'preheat oven to 375 degrees f 190 degrees c . in a shallow bowl combine crushed crackers , garlic salt and pepper mix well . in a separate bowl beat eggs . dip your pork chops in the egg batter and then in the cracker mixture . place the pork chops in a casserole dish . place chunks of the butter around the pork chops . cover and bake for 45 minutes .', 'whisk the flour and salt together in a medium size bowl . with a pastry blender , cut in the cold shortening until the mixture resembles coarse crumbs . drizzle 2 to 3 tablespoons ice water over flour . toss mixture with a fork to moisten , adding more water a few drops at a time until the dough comes together . gently gather dough particles together into a ball . wrap in plastic wrap , and chill for at least 30 minutes before rolling . roll out dough , and put in a pie plate . fill with desired filling and bake .', 'preheat the oven to 325 degrees f 165 degrees c . refrigerate 2/3 of the bacon until needed . it is easier to wrap the wieners with cold bacon . wrap each cocktail wiener with a piece of bacon and secure with a toothpick . place on a large baking sheet . sprinkle brown sugar generously over all . bake for 40 minutes in the preheated oven , until the sugar is bubbly . to serve , place the wieners in a slow cooker and keep on the low setting .', 'preheat an oven to 425 degrees f 220 degrees c . place the asparagus into a mixing bowl , and drizzle with the olive oil . toss to coat the spears , then sprinkle with parmesan cheese , garlic , salt , and pepper . arrange the asparagus onto a baking sheet in a single layer . bake in the preheated oven until just tender , 12 to 15 minutes depending on thickness . sprinkle with lemon juice just before serving .', 'preheat oven to 350 degrees f 175 degrees c . place pork in a 9x13 inch baking dish , and sprinkle meat with salt , pepper and garlic powder . top with onion and celery , and pour wine over all . bake in the preheated oven for 45 minutes . when done baking , remove meat from baking dish , and place on a serving platter . pour gravy mix into baking dish with wine and cooking juices , and stir until thickened . slice meat , and cover with the gravy .', 'preheat oven to 400 degrees f 200 degrees c . cut chicken breasts into 1 1/2 inch sized pieces . in a medium bowl , mix together the bread crumbs , cheese , salt , thyme and basil . mix well . put melted butter in a bowl or dish for dipping . dip chicken pieces into the melted butter first , then coat with the breadcrumb mixture . place the well coated chicken pieces on a lightly greased cookie sheet in a single layer , and bake in the preheated oven for 20 minutes .', 'in a medium bowl , mix together cocoa , white sugar , and vegetable oil . beat in eggs one at a time , then stir in the vanilla . combine the flour , baking powder , and salt stir into the cocoa mixture . cover dough , and chill for at least 4 hours . preheat oven to 350 degrees f 175 degrees c . line cookie sheets with parchment paper . roll dough into one inch balls . i like to use a number 50 size scoop . coat each ball in confectioners sugar before placing onto prepared cookie sheets . bake in preheated oven for 10 to 12 minutes . let stand on the cookie sheet for a minute before transferring to wire racks to cool .', 'in a large bowl , toss together the spinach and strawberries . in a medium bowl , whisk together the oil , vinegar , sugar , paprika , sesame seeds , and poppy seeds . pour over the spinach and strawberries , and toss to coat .', 'place ingredients in the pan of the bread machine in the order recommended by the manufacturer . select white bread cycle press start .', 'preheat oven to 450 degrees f 230 degrees c . cut potato into wedges . mix olive oil , paprika , garlic powder , chili powder and onion powder together . coat potatoes with oil/spice mixture and place on a baking sheet . bake for 45 minutes in preheated oven .', 'in a small bowl beat whipping cream until stiff peaks form set aside . in a large bowl combine cream cheese , sugar , salt and vanilla . beat until smooth , then fold in whipped cream .', 'in a medium bowl , mix together oil , soy sauce , worcestershire sauce , wine vinegar , and lemon juice . stir in mustard powder , salt , pepper , and parsley . use to marinate chicken before cooking as desired . the longer you marinate , the more flavor it will have .', 'preheat oven to 375 degrees f 190 degrees c . pour cake mix into a large bowl . stir in eggs , oil , and lemon extract until well blended . drop teaspoonfuls of dough into a bowl of confectioners sugar . roll them around until they are lightly covered . once sugared , put them on an ungreased cookie sheet . bake for 6 to 9 minutes in the preheated oven . the bottoms will be light brown , and the insides chewy .', 'mix together salt , garlic powder , cumin , oregano , coriander , and cinnamon in a bowl . coat pork with the spice mixture . place the bay leaves in the bottom of a slow cooker and place the pork on top . pour the chicken broth around the sides of the pork , being careful not to rinse off the spice mixture . cover and cook on low until the pork shreds easily with a fork , about 10 hours . turn the meat after it has cooked for 5 hours . when the pork is tender , remove from slow cooker , and shred with two forks . use cooking liquid as needed to moisten the meat .', 'place bacon in a large , deep skillet . cook over medium high heat until evenly brown . drain , crumble and set aside . in a medium bowl , combine the broccoli , onion and raisins . in a small bowl , whisk together the vinegar , sugar and mayonnaise . pour over broccoli mixture , and toss until well mixed . refrigerate for at least two hours . before serving , toss salad with crumbled bacon and sunflower seeds .', 'allow roast to stand at room temperature for at least 1 hour . preheat the oven to 375 degrees f 190 degrees c . combine the salt , pepper and garlic powder in a small cup . place the roast on a rack in a roasting pan so that the fatty side is up and the rib side is on the bottom . rub the seasoning onto the roast . roast for 1 hour in the preheated oven . turn the oven off and leave the roast inside . do not open the door . leave it in there for 3 hours . 30 to 40 minutes before serving , turn the oven back on at 375 degrees f 190 degrees c to reheat the roast . the internal temperature should be at least 145 degrees f 62 degrees c . remove from the oven and let rest for 10 minutes before carving into servings .', 'preheat the oven to 400 degrees f 200 degrees c . in a small bowl , mix together the mustard , butter , and honey . in another bowl , mix together the bread crumbs , pecans , and parsley . season each salmon fillet with salt and pepper . place on a lightly greased baking sheet . brush with mustard honey mixture . cover the top of each fillet with bread crumb mixture . bake for 10 minutes per inch of thickness , measured at thickest part , or until salmon just flakes when tested with a fork . serve garnished with lemon wedges .', 'preheat oven to 350 degrees f 175 degrees c . lightly grease a medium baking sheet . pour egg into a small shallow bowl . place bread crumbs in a separate shallow bowl . dip chicken into egg , then into the bread crumbs . place coated chicken on the prepared baking sheet and bake in the preheated oven for 40 minutes , or until no longer pink and juices run clear . pour 1/2 of the spaghetti sauce into a 7x11 inch baking dish . place chicken over sauce , and cover with remaining sauce . sprinkle mozzarella and parmesan cheeses on top and return to the preheated oven for 20 minutes .', 'pierce pork all over with a carving fork . rub salt then liquid smoke over meat . place roast in a slow cooker . cover , and cook on low for 16 to 20 hours , turning once during cooking time . remove meat from slow cooker , and shred , adding drippings as needed to moisten .', 'preheat oven to 350 degrees f 175 degrees c . place half of the mushrooms in a 9x13 inch pan . dip chicken into beaten eggs , then roll in bread crumbs . in skillet , melt butter over medium heat . brown both sides of chicken in skillet . place chicken on top of mushrooms , arrange remaining mushrooms on chicken , and top with mozzarella cheese . add chicken broth to pan . bake in preheated oven for 30 to 35 minutes , or until chicken is no longer pink and juices run clear .', 'melt butter in a large skillet over medium high heat . add chicken and sprinkle with garlic powder , seasoning salt and onion powder . saute about 10 to 15 minutes on each side , or until chicken is cooked through and juices run clear .', 'preheat oven to 400 degrees f 200 degrees c . grease 24 muffin cups or line with paper muffin liners . in large bowl beat eggs , gradually add sugar while beating . continue beating while slowly pouring in oil . stir in vanilla . in a separate bowl , stir together flour , salt and baking soda . stir dry ingredients into egg mixture alternately with sour cream . gently fold in blueberries . scoop batter into prepared muffin cups . bake in preheated oven for 20 minutes .', 'in a large bowl , cream together the confectioners sugar and shortening until smooth . gradually mix in the milk and vanilla with an electric mixer until smooth and stiff , about 5 minutes . color with food coloring if desired .', 'melt butter in a skillet over medium high heat . stir in the olive oil , salt , and pepper . cook garlic in butter for a minute , but do not brown . add asparagus , and cook for 10 minutes , turning asparagus to ensure even cooking .', 'melt the butter or margarine and mix all ingredients in the order given . bake at 350 degrees f 175 degrees c for 20 to 30 minutes in a 9 x 13 inch greased pan .', 'in a large skillet or saucepan , melt butter over medium heat add apples . cook , stirring constantly , until apples are almost tender , about 6 to 7 minutes . dissolve cornstarch in water add to skillet . stir in brown sugar and cinnamon . boil for 2 minutes , stirring occasionally . remove from heat and serve warm .']\n"
          ],
          "name": "stdout"
        }
      ]
    },
    {
      "cell_type": "code",
      "metadata": {
        "id": "62mVXIvvg_jy",
        "colab_type": "code",
        "colab": {
          "base_uri": "https://localhost:8080/",
          "height": 54
        },
        "outputId": "e9b72cb0-ee10-4f3e-ac18-c0ae5d82f5ce"
      },
      "source": [
        "print(candidates_meteor)"
      ],
      "execution_count": 30,
      "outputs": [
        {
          "output_type": "stream",
          "text": [
            "['preheat oven to 350 degrees f 175 degrees c . place chicken breasts in a 9x13 inch baking dish . pour in the soy sauce , and pour over the chicken . cover , and bake for 30 minutes . drain the chicken and discard the marinade . place the chicken breasts into the prepared baking dish . bake in the preheated oven until the chicken is no longer pink in the center , about 30 minutes . an instant read thermometer inserted into the center should read at least 165 degrees f 74 degrees c . <end> ', 'preheat oven to 350 degrees f 175 degrees c . in a medium bowl , mix together the mayonnaise , sour cream , and onion . mix well and pour into a 9x13 inch baking dish . bake in the preheated oven until the cheese is melted and the cheese is melted , about 30 minutes . <end> ', 'preheat oven to 350 degrees f 175 degrees c . grease and flour a 9 inch round cake pan . in a large bowl , cream together the butter and sugar until light and fluffy . beat in the eggs one at a time , then stir in the vanilla . sift the flour , baking soda , and salt together in a bowl . stir in the flour mixture until just incorporated . pour batter into the prepared pan . bake in the preheated oven until a toothpick inserted into the center comes out clean , about 30 minutes . <end> ', 'preheat oven to 350 degrees f 175 degrees c . grease and flour a 9 inch round cake pan . in a large bowl , cream together the butter and sugar until light and fluffy . beat in the eggs one at a time , then stir in the vanilla . sift the flour , baking soda , and salt together in a bowl . stir in the flour mixture until just incorporated . pour batter into the prepared pan . bake in the preheated oven until a toothpick inserted into the center comes out clean , about 30 minutes . cool in the pan for 10 minutes before removing to cool completely on a wire rack . <end> ', 'preheat oven to 350 degrees f 175 degrees c . grease and flour a 9 inch round cake pan . in a large bowl , cream together the butter and sugar until light and fluffy . beat in the eggs one at a time , then stir in the vanilla . sift the flour , baking soda , and salt together in a bowl . stir in the flour mixture until just incorporated . pour batter into the prepared pan . bake in the preheated oven until a toothpick inserted into the center comes out clean , about 30 minutes . cool in the pan for 10 minutes before removing to cool completely on a wire rack . <end> ', 'place potatoes in a large pot and cover with salted water bring to a boil . reduce heat to medium low and simmer until tender , about 20 minutes . drain and mash potatoes with a fork . stir in the onion , onion , and garlic powder . mix well and pour into a large bowl . pour in the milk and stir until well blended . pour into a 9x13 inch baking dish . bake in the preheated oven until the cheese is melted and the cheese is melted , about 15 minutes . <end> ', 'preheat oven to 350 degrees f 175 degrees c . line a baking sheet with aluminum foil . place the bacon in a large , deep skillet . cook over medium high heat until evenly brown . drain , crumble and set aside . in a large bowl , mix together the flour , salt , pepper , and garlic powder . mix in the flour , salt , and pepper . mix in the flour mixture until well blended . pour into a 9x13 inch baking dish . bake in the preheated oven until the chicken is no longer pink in the center and the juices run clear , about 30 minutes . an instant read thermometer inserted into the center should read at least 165 degrees f 74 degrees c . <end> ', 'preheat oven to 350 degrees f 175 degrees c . grease and flour a 9 inch round cake pan . in a large bowl , cream together the butter and sugar until light and fluffy . beat in the eggs one at a time , then stir in the vanilla . sift the flour , baking soda , and salt together in a bowl . stir in the flour mixture until just incorporated . pour the batter into the prepared pan . bake in the preheated oven until a toothpick inserted into the center comes out clean , about 30 minutes . cool in the pan for 10 minutes before removing to cool completely on a wire rack . <end> ', 'preheat oven to 350 degrees f 175 degrees c . grease a 9x13 inch baking dish . mix flour , baking powder , and salt together in a bowl . stir in the flour , baking powder , and salt . mix in the flour mixture until just combined . pour batter into the prepared pan . bake in the preheated oven until a toothpick inserted into the center comes out clean , about 30 minutes . cool in the pan for 10 minutes before removing to cool completely on a wire rack . <end> ', 'preheat oven to 350 degrees f 175 degrees c . grease a 9x13 inch baking dish . mix flour , baking powder , and salt together in a bowl . beat eggs in a bowl until smooth . stir in flour and salt . pour batter into the prepared pan . bake in the preheated oven until a toothpick inserted into the center comes out clean , about 30 minutes . cool in the pan for 10 minutes before removing to cool completely on a wire rack . <end> ', 'preheat oven to 350 degrees f 175 degrees c . line a baking sheet with parchment paper . beat eggs , sugar , and vanilla extract together in a bowl until smooth . stir in flour and vanilla extract . pour batter into prepared pan . bake in the preheated oven until a toothpick inserted into the center comes out clean , about 30 minutes . cool in the pan for 10 minutes before removing to cool completely on a wire rack . <end> ', 'preheat oven to 350 degrees f 175 degrees c . grease a 9x13 inch baking pan . in a large bowl , cream together the butter and sugar until light and fluffy . beat in the eggs one at a time , then stir in the vanilla . combine the flour , baking soda , and salt stir into the creamed mixture . drop by rounded spoonfuls onto the prepared cookie sheets . bake for 8 to 10 minutes in the preheated oven , until the edges are golden brown . cool on wire racks . <end> ', 'place potatoes in a large pot and cover with salted water bring to a boil . reduce heat to medium low and simmer until tender , about 20 minutes . drain and mash potatoes with a fork . stir in the onion , onion , and garlic powder . add the potatoes and stir until well blended . pour into a 9x13 inch baking dish . bake in the preheated oven until the chicken is no longer pink in the center , about 30 minutes . an instant read thermometer inserted into the center should read at least 165 degrees f 74 degrees c . <end> ', 'preheat oven to 350 degrees f 175 degrees c . place chicken breasts in a 9x13 inch baking dish . pour in the soy sauce , and season with salt and pepper . pour the chicken mixture over the chicken . bake in the preheated oven until the chicken is no longer pink in the center , about 30 minutes . an instant read thermometer inserted into the center should read at least 165 degrees f 74 degrees c . <end> ', 'preheat oven to 350 degrees f 175 degrees c . grease a 9x13 inch baking dish . in a large bowl , cream together the butter and sugar until light and fluffy . beat in the eggs one at a time , then stir in the vanilla . combine the flour , baking soda , and salt stir into the creamed mixture . drop by rounded spoonfuls onto the prepared cookie sheets . bake for 8 to 10 minutes in the preheated oven , until the edges are golden brown . cool on wire racks . <end> ', 'whisk water , vinegar , sugar , and salt together in a bowl . add the garlic , and salt to taste . bring to a boil , then reduce heat to medium low , cover , and simmer until the rice is tender , about 20 minutes . <end> ', 'stir the mayonnaise , mustard , garlic , cilantro , garlic , salt , and pepper together in a bowl . cover and refrigerate for at least 1 hour before serving . <end> ', 'preheat oven to 350 degrees f 175 degrees c . grease and flour a 9 inch round cake pan . in a large bowl , cream together the butter and sugar until light and fluffy . beat in the eggs one at a time , then stir in the vanilla . sift the flour and baking soda and mix into the creamed mixture . drop by teaspoonfuls onto the prepared cookie sheets . bake for 8 to 10 minutes in the preheated oven , until golden brown . cool on wire racks . <end> ', 'preheat oven to 350 degrees f 175 degrees c . grease and flour a 9 inch round cake pan . in a large bowl , cream together the butter and sugar until light and fluffy . beat in the eggs one at a time , then stir in the vanilla . sift the flour , baking soda , and salt together in a bowl . stir in the flour mixture until just incorporated . pour batter into the prepared pan . bake in the preheated oven until a toothpick inserted into the center comes out clean , about 30 minutes . cool in the pan for 10 minutes before removing to cool completely on a wire rack . <end> ', 'bring a large pot of lightly salted water to a boil . add pasta and cook for 8 to 10 minutes or until al dente drain . in a large bowl , mix together the flour , salt , and pepper . stir in the sour cream and sour cream . pour into the prepared loaf pan . bake in the preheated oven until the top is golden brown , about 30 minutes . <end> ', 'preheat oven to 350 degrees f 175 degrees c . grease and flour a 9 inch round cake pan . in a large bowl , cream together the butter and sugar until light and fluffy . beat in the eggs one at a time , then stir in the vanilla . sift the flour , baking soda , and salt together in a bowl . stir in the flour mixture until just incorporated . pour batter into the prepared pan . bake in the preheated oven until a toothpick inserted into the center comes out clean , about 30 minutes . cool in the pan for 10 minutes before removing to cool completely on a wire rack . <end> ', 'mix mayonnaise , garlic powder , garlic powder , salt , and pepper together in a bowl . dip each chicken breast into the egg mixture , then roll the balls into the bread crumbs . place the balls on a baking sheet , and refrigerate until ready to serve . <end> ', 'preheat oven to 350 degrees f 175 degrees c . lightly grease a 9x13 inch baking dish . in a medium bowl , mix together the mayonnaise , mayonnaise , mustard , and garlic . mix in the onion , onion , and garlic powder . spread the mixture into a 9x13 inch baking dish . bake in the preheated oven until the cheese is melted and the cheese is melted , about 30 minutes . <end> ', 'preheat oven to 350 degrees f 175 degrees c . grease and flour a 9 inch round cake pans . in a large bowl , combine the cake mix , sugar , eggs and vanilla . mix well and pour into the prepared pan . bake in the preheated oven until a toothpick inserted into the center comes out clean , about 30 minutes . cool in the pan for 10 minutes before removing to cool completely on a wire rack . <end> ', 'combine the flour , sugar , and salt in a large bowl . stir in the flour , and mix until well blended . pour into a large bowl . pour the mixture into a large bowl and stir in the sour cream and the sour cream . pour the mixture into the prepared baking dish . bake in the preheated oven until the top is golden brown , about 30 minutes . <end> ', 'place potatoes in a large pot and cover with salted water . bring to a boil , and cook until tender , about 15 minutes . drain and transfer to a large bowl . mash the potatoes with a fork , and season with salt and pepper . mix in the onion , onion , and garlic powder . pour into a large bowl . pour the soup over the pasta and toss to coat . <end> ', 'preheat oven to 350 degrees f 175 degrees c . place chicken in a large , deep skillet . cook over medium high heat until evenly brown . drain , crumble and set aside . in a large bowl , mix together the ground beef , onion , and onion . mix well and pour into the prepared casserole dish . bake in the preheated oven until the cheese is melted and the cheese is melted , about 30 minutes . <end> ', 'preheat oven to 350 degrees f 175 degrees c . place the chicken breasts in a large , deep skillet . cook over medium high heat until evenly brown . drain , crumble and set aside . in a large bowl , mix together the ground beef , onion , garlic , garlic , salt , and pepper . mix in the chicken and onion . pour in the chicken . cover , and bake for 30 minutes . <end> ', 'preheat oven to 350 degrees f 175 degrees c . place chicken breasts in a 9x13 inch baking dish . pour in the chicken broth . cover , and bake in the preheated oven until the chicken is no longer pink in the center , about 30 minutes . an instant read thermometer inserted into the center should read at least 165 degrees f 74 degrees c . <end> ', 'melt butter in a skillet over medium heat . cook and stir onion in the hot oil until translucent , about 5 minutes . add garlic and cook until browned , about 5 minutes . stir in the garlic and cook until the mixture is reduced and smooth . pour the sauce over the chicken and toss to coat . <end> ', 'preheat oven to 350 degrees f 175 degrees c . grease a 9x13 inch baking dish . in a large bowl , combine the flour , sugar , baking soda , salt , and cinnamon . mix well . pour the mixture into the prepared baking dish . bake in the preheated oven until the crust is golden brown , about 30 minutes . <end> ', 'preheat oven to 350 degrees f 175 degrees c . in a large bowl , mix together the ground beef , onion , onion , onion , and garlic . mix in the flour and baking powder . mix in the flour mixture until well blended . roll dough into a ball and place on a lightly greased baking sheet . bake in the preheated oven until golden brown , about 15 minutes . <end> ', 'place the pork chops into a large pot and cover with salted water bring to a boil . reduce heat to medium low , cover , and simmer until the rice is tender , about 20 minutes . drain and allow to cool . once the potatoes are ready , bring the rice to a boil in a saucepan . reduce heat to medium low , cover , and simmer until the rice is tender , about 20 minutes . drain and allow to cool . once the potatoes are ready , bring the rice to a boil in a saucepan . reduce heat to medium low , cover , and simmer until the rice is tender , about 20 minutes . drain and allow to cool . once the potatoes are ready , bring the mixture to a boil . add the rice and cook for 8 to 10 minutes or until the rice is tender . drain and discard the grease . stir in the rice , and cook until the mixture is thick and the liquid has thickened . <end> ', 'beat cream cheese , sugar , and vanilla extract together in a bowl until smooth . pour mixture into a bowl and beat with an electric mixer until fluffy . beat in the vanilla and vanilla . pour into prepared pan . bake in the preheated oven until a toothpick inserted into the center comes out clean , about 30 minutes . cool in the pan for 10 minutes before removing to cool completely on a wire rack . <end> ', 'whisk soy sauce , olive oil , garlic , and garlic powder together in a bowl until smooth . season with salt and pepper . <end> ', 'preheat oven to 350 degrees f 175 degrees c . grease cookie sheets . in a large bowl , cream together the butter and sugar until light and fluffy . beat in the eggs one at a time , then stir in the vanilla . sift the flour , baking soda , and salt together in a bowl . stir in the flour mixture until just incorporated . pour batter into the prepared pan . bake in the preheated oven until a toothpick inserted into the center comes out clean , about 30 minutes . cool in the pan for 10 minutes before removing to cool completely on a wire rack . <end> ', 'preheat oven to 350 degrees f 175 degrees c . grease and flour a 9 inch round cake pan . in a large bowl , cream together the butter and sugar until light and fluffy . beat in the eggs one at a time , then stir in the vanilla . sift the flour , baking soda , and salt together in a bowl . stir in the flour mixture until just incorporated . pour batter into the prepared pan . bake in the preheated oven until a toothpick inserted into the center comes out clean , about 30 minutes . cool in the pan for 10 minutes before removing to cool completely on a wire rack . <end> ', 'preheat oven to 350 degrees f 175 degrees c . in a large bowl , mix together the ground beef , onion , onion , and onion . mix well and pour into a 9x13 inch baking dish . bake in the preheated oven until the chicken is no longer pink in the center , about 30 minutes . an instant read thermometer inserted into the center should read at least 165 degrees f 74 degrees c . <end> ', 'whisk together the olive oil , garlic powder , garlic powder , salt , and pepper in a bowl . add the olive oil , and toss to coat . cover and refrigerate for at least 1 hour . preheat an outdoor grill for medium high heat and lightly oil the grate . remove the chicken from the marinade and discard the marinade . place the chicken breasts on the grill , and cook until the meat is no longer pink in the center , about 10 minutes . an instant read thermometer inserted into the center should read at least 165 degrees f 74 degrees c . <end> ', 'preheat oven to 350 degrees f 175 degrees c . place the chicken in a large , deep skillet . cook over medium high heat until evenly brown . drain , crumble and set aside . in a large bowl , mix together the ground beef , onion , onion , onion , and garlic . mix in the sour cream and sour cream . spread the mixture into a 9x13 inch baking dish . bake in the preheated oven until the cheese is melted and the cheese is melted , about 30 minutes . <end> ', 'preheat oven to 350 degrees f 175 degrees c . grease a 9x13 inch baking pan . in a large bowl , cream together the butter and sugar until light and fluffy . beat in the eggs one at a time , then stir in the vanilla . combine the flour , baking soda , and salt stir into the creamed mixture . drop by rounded spoonfuls onto the prepared cookie sheets . bake for 10 to 12 minutes in the preheated oven , until the edges are golden brown . cool on wire racks . <end> ', 'preheat oven to 350 degrees f 175 degrees c . lightly grease a 9x13 inch baking dish . in a large bowl , mix together the ground beef , onion soup mix , and ground beef . pour in the soup mixture , and mix well . pour into a 9x13 inch baking dish . bake in the preheated oven until the chicken is no longer pink in the center and the juices run clear , about 30 minutes . an instant read thermometer inserted into the center should read at least 165 degrees f 74 degrees c . <end> ', 'preheat oven to 350 degrees f 175 degrees c . place bacon in a large , deep skillet . cook over medium high heat until evenly brown . drain , crumble and set aside . in a large bowl , mix together the mayonnaise , mayonnaise , and garlic . spread the mixture into a 9x13 inch baking dish . bake in the preheated oven until the cheese is melted and the cheese is melted , about 15 minutes . <end> ', 'preheat oven to 350 degrees f 175 degrees c . place chicken breasts in a 9x13 inch baking dish . pour in the soy sauce , and season with salt and pepper . pour the chicken mixture over the chicken . bake in the preheated oven until the chicken is no longer pink in the center , about 30 minutes . an instant read thermometer inserted into the center should read at least 165 degrees f 74 degrees c . <end> ', 'preheat oven to 350 degrees f 175 degrees c . in a medium bowl , mix together the cream cheese , sour cream , and sour cream . mix in the sour cream and sour cream . pour into the prepared loaf pan . bake in the preheated oven until the cheese is melted and the cheese is melted , about 15 minutes . <end> ', 'preheat oven to 350 degrees f 175 degrees c . grease a 9x13 inch baking pan . in a large bowl , cream together the butter and sugar until light and fluffy . beat in the eggs one at a time , then stir in the vanilla . sift the flour , baking powder , and salt together in a bowl . stir in the flour mixture until just incorporated . pour the batter into the prepared pan . bake in the preheated oven until a toothpick inserted into the center comes out clean , about 30 minutes . cool in the pan for 10 minutes before removing to cool completely on a wire rack . <end> ', 'place the potatoes in a large pot with enough water to cover . bring to a boil , and cook until the rice is tender , about 15 minutes . drain , and set aside . in a large bowl , mix together the mayonnaise , mayonnaise , mustard , and garlic powder . mix in the mayonnaise , and serve . <end> ', 'preheat oven to 350 degrees f 175 degrees c . grease and flour a 9 inch round cake pans . in a large bowl , cream together the butter and sugar until light and fluffy . beat in the eggs one at a time , then stir in the vanilla . sift the flour , baking soda , and salt together in a bowl . stir in the flour mixture until just incorporated . pour batter into the prepared pan . bake in the preheated oven until a toothpick inserted into the center comes out clean , about 30 minutes . cool in the pan for 10 minutes before removing to cool completely on a wire rack . <end> ', 'melt butter in a saucepan over medium heat . add the onion and cook until the onion is tender , about 5 minutes . stir in the rice , and cook until the mixture is thick and the liquid has been absorbed , about 10 minutes . stir in the rice and cook until the mixture thickens , about 5 minutes . stir in the rice and cook until the mixture is thick and the sauce is thickened , about 5 minutes . <end> ', 'whisk together the oil , sugar , salt , and pepper in a bowl . stir in the garlic and the mixture . spread the mixture into a 9x13 inch baking dish . sprinkle the cheese over the top of the bread . bake in the preheated oven until the cheese is melted and the cheese is melted , about 30 minutes . <end> ', 'beat butter , sugar , and vanilla extract together in a bowl until smooth . stir in the vanilla and chocolate chips . pour into the prepared pan . refrigerate until set , at least 1 hour . <end> ', 'preheat oven to 350 degrees f 175 degrees c . grease a 9x13 inch baking dish . in a large bowl , mix together the flour , sugar , baking powder , and salt . cut in the butter until the mixture is smooth . place the dough in a large bowl , and stir in the flour mixture until just combined . pour the batter into the prepared pan . bake in the preheated oven until a toothpick inserted into the center comes out clean , about 30 minutes . <end> ', 'combine the chicken , onion , and garlic in a large pot . bring to a boil , and cook until the mixture is reduced to the consistency of the sauce , about 10 minutes . <end> ', 'preheat oven to 350 degrees f 175 degrees c . lightly grease a baking sheet . in a large bowl , combine the ground beef , onion , garlic , and garlic powder . mix well and pour into a 9x13 inch baking dish . bake in the preheated oven until the cheese is melted and the cheese is melted , about 30 minutes . <end> ', 'preheat oven to 350 degrees f 175 degrees c . grease and flour a 9 inch round cake pan . in a large bowl , cream together the butter and sugar until light and fluffy . beat in the eggs one at a time , then stir in the vanilla . sift the flour and baking soda and mix into the creamed mixture . drop by teaspoonfuls onto the prepared cookie sheets . bake for 8 to 10 minutes in the preheated oven , until golden brown . cool on wire racks . <end> ', 'preheat oven to 350 degrees f 175 degrees c . grease and flour a 9 inch round cake pan . in a large bowl , cream together the butter and sugar until light and fluffy . beat in the eggs one at a time , then stir in the vanilla . sift the flour , baking soda , and salt together in a bowl . stir in the flour mixture until just incorporated . pour batter into the prepared pan . bake in the preheated oven until a toothpick inserted into the center comes out clean , about 30 minutes . cool in the pan for 10 minutes before removing to cool completely on a wire rack . <end> ', 'combine the garlic , garlic , and garlic in a large bowl . add the olive oil , garlic , and garlic powder . mix well . place the chicken in the bowl , and marinate in the refrigerator for at least 1 hour . preheat an outdoor grill for medium high heat and lightly oil the grate . remove the chicken from the marinade and discard the marinade . grill the steaks for 5 minutes per side , or until the pork is no longer pink in the center and the juices run clear , about 5 minutes per side . an instant read thermometer inserted into the center should read at least 165 degrees f 74 degrees c . <end> ', 'preheat oven to 350 degrees f 175 degrees c . line a baking sheet with parchment paper . in a large bowl , combine the sugar , butter , and vanilla . mix well . pour the batter into the prepared pan . bake in the preheated oven until a toothpick inserted into the center comes out clean , about 30 minutes . cool in the pan for 10 minutes before removing to cool completely on a wire rack . <end> ', 'mix the cream cheese , sugar , and vanilla extract together in a bowl until smooth . pour the mixture into a large bowl , and stir in the peanut butter until smooth . pour the mixture into the prepared pan . refrigerate until set , at least 1 hour . <end> ', 'preheat oven to 350 degrees f 175 degrees c . grease a 9x13 inch baking dish . mix flour , baking powder , and salt together in a bowl . stir in the flour and baking powder . mix well . pour into a 9x13 inch baking dish . bake in the preheated oven until a toothpick inserted into the center comes out clean , about 30 minutes . <end> ', 'preheat oven to 350 degrees f 175 degrees c . line a baking sheet with parchment paper . beat eggs , sugar , and vanilla extract together in a bowl until smooth . stir in the flour , baking powder , and salt . pour into a large bowl and pour the mixture over the top of the cake . bake in the preheated oven until the crust is golden brown , about 30 minutes . <end> ', 'preheat oven to 350 degrees f 175 degrees c . lightly grease a baking sheet . in a medium bowl , mix together the ground beef , onion , onion , and garlic . mix in the sour cream and sour cream . spread evenly into the prepared baking dish . bake in the preheated oven until the cheese is melted and the cheese is melted , about 30 minutes . <end> ', 'place the pork chops into a large pot and cover with salted water bring to a boil . reduce heat to medium low , cover , and simmer until the rice is tender , about 20 minutes . drain and allow to cool . once the potatoes are tender , stir in the rice , and season with salt and pepper . bring to a boil , then reduce heat to medium low , cover , and simmer until the rice is tender , about 20 minutes . drain and discard the liquid . bring the rice and water to a boil in a saucepan . reduce heat to medium low , cover , and simmer until the rice is tender , about 20 minutes . drain and discard the liquid . bring the mixture to a boil , reduce heat to medium low , and simmer until the rice is tender , about 20 minutes . stir in the rice and cook until the rice is tender , about 1 minute . stir in the rice and cook until the mixture is reduced to the consistency of the sauce , about 5 minutes . <end> ', 'preheat oven to 350 degrees f 175 degrees c . place the bacon in a large , deep skillet . cook over medium high heat until evenly brown . drain , crumble and set aside . in a large bowl , mix together the flour , salt , pepper , and garlic powder . mix in the flour mixture and mix until well blended . pour into a 9x13 inch baking dish . bake in the preheated oven until the cheese is melted and the cheese is melted , about 30 minutes . <end> ', 'combine the flour , sugar , and salt in a large bowl . stir in the flour , salt , and baking soda . stir in the flour mixture until just incorporated . pour the batter into the prepared pan . bake in the preheated oven until a toothpick inserted into the center comes out clean , about 30 minutes . <end> ', 'preheat oven to 350 degrees f 175 degrees c . line a baking sheet with parchment paper . beat butter and sugar together in a bowl until smooth . spread evenly over the top of the cake . bake in the preheated oven until a toothpick inserted into the center comes out clean , about 30 minutes . cool in the pan for 10 minutes before removing to cool completely on a wire rack . <end> ', 'preheat oven to 350 degrees f 175 degrees c . place chicken in a large , deep skillet . cook over medium high heat until evenly brown . drain , crumble and set aside . in a large bowl , mix together the mayonnaise , mustard , garlic , garlic , salt , and pepper . mix in the mayonnaise , and season with salt and pepper . <end> ', 'preheat oven to 350 degrees f 175 degrees c . place the chicken breasts in a large , deep skillet . cook over medium high heat until evenly brown . drain , crumble and set aside . in a large bowl , mix together the ground beef , onion , onion , onion , and garlic . mix in the sour cream and sour cream . spread the mixture into a 9x13 inch baking dish . bake in the preheated oven until the cheese is melted and the cheese is melted , about 30 minutes . <end> ', 'preheat oven to 350 degrees f 175 degrees c . place bacon in a large , deep skillet . cook over medium high heat until evenly brown . drain , crumble and set aside . in a large bowl , mix together the mayonnaise , mayonnaise , mustard , and garlic . mix in the sour cream and the cheese . spread the mixture into a 9x13 inch baking dish . bake in the preheated oven until the cheese is melted and the cheese is melted , about 30 minutes . <end> ', 'preheat oven to 350 degrees f 175 degrees c . in a large bowl , mix together the ground beef , onion , onion , and ground beef . mix well and pour into a 9x13 inch baking dish . bake in the preheated oven until the cheese is melted and the cheese is melted , about 30 minutes . <end> ', 'mix mayonnaise , mayonnaise , and salt together in a bowl . whisk mayonnaise , mustard , and salt together in a bowl until smooth . <end> ', 'preheat oven to 350 degrees f 175 degrees c . grease and flour a 9 inch round cake pans . in a large bowl , cream together the butter and sugar until light and fluffy . beat in the eggs one at a time , then stir in the vanilla . sift the flour , baking soda , and salt together in a bowl . stir in the flour mixture until just incorporated . pour the batter into the prepared pan . bake in the preheated oven until a toothpick inserted into the center comes out clean , about 30 minutes . cool in the pan for 10 minutes before removing to cool completely on a wire rack . <end> ', 'combine flour , salt , and salt in a large bowl . stir in the flour and baking powder . mix well . pour into a large bowl . pour the batter into the prepared pan . bake in the preheated oven until a toothpick inserted into the center comes out clean , about 30 minutes . <end> ', 'whisk soy sauce , brown sugar , garlic , and garlic together in a bowl . pour in the soy sauce and stir until evenly coated . <end> ', 'preheat oven to 350 degrees f 175 degrees c . grease cookie sheets . in a large bowl , cream together the butter and sugar until light and fluffy . beat in the eggs one at a time , then stir in the vanilla . sift the flour , baking soda , and salt together in a bowl . stir in the flour mixture until just incorporated . pour batter into the prepared pan . bake in the preheated oven until a toothpick inserted into the center comes out clean , about 30 minutes . cool in the pan for 10 minutes before removing to cool completely on a wire rack . <end> ', 'heat the oil in a large skillet over medium heat . add the onion and garlic cook and stir until the onion is translucent , about 5 minutes . stir in the garlic , and cook until the onion is tender , about 5 minutes . stir in the garlic , and cook until the mixture is reduced to the consistency of the sauce , about 5 minutes . stir in the remaining 1 tablespoon of the butter and cook until the sauce is reduced and the sauce is thickened , about 5 minutes . <end> ', 'preheat oven to 350 degrees f 175 degrees c . place chicken in a large , deep skillet . cook over medium high heat until evenly brown . drain , crumble and set aside . in a large bowl , mix together the mayonnaise , mayonnaise , mustard , and garlic . mix in the sour cream and sour cream . spread the mixture into a 9x13 inch baking dish . bake in the preheated oven until the cheese is melted and the cheese is melted , about 30 minutes . <end> ', 'preheat oven to 350 degrees f 175 degrees c . line a baking sheet with parchment paper . beat butter , sugar , and vanilla extract together in a bowl until smooth . spread batter evenly into the prepared pan . bake in the preheated oven until a toothpick inserted into the center comes out clean , about 30 minutes . cool in the pan for 10 minutes before removing to cool completely on a wire rack . <end> ', 'combine the flour , sugar , and salt in a large bowl . stir in the flour and baking soda . stir in the flour mixture until just combined . pour the batter into the prepared pan . bake in the preheated oven until a toothpick inserted into the center comes out clean , about 30 minutes . <end> ', 'preheat oven to 350 degrees f 175 degrees c . place chicken breasts in a 9x13 inch baking dish . pour in the soy sauce , and season with salt and pepper . pour in the chicken stock . cover , and cook on high for 30 minutes . drain the bacon slices on paper towels . place the chicken breasts in a large bowl . pour the sauce over the chicken and toss to coat . cover and cook on low for 6 to 8 hours . <end> ', 'preheat oven to 350 degrees f 175 degrees c . grease a 9x13 inch baking dish . mix flour , baking powder , and salt together in a bowl . stir in the flour , baking powder , and salt . mix in the flour mixture until just combined . pour batter into the prepared pan . bake in the preheated oven until a toothpick inserted into the center comes out clean , about 30 minutes . <end> ', 'melt butter in a skillet over medium heat . add onion and cook until browned , about 5 minutes . stir in the onion and cook until tender , about 5 minutes . add the onion and garlic cook and stir until the onion is translucent , about 5 minutes . stir in the garlic , and cook until the mixture is thick and the liquid has thickened , about 5 minutes . stir in the garlic and cook until the mixture is reduced to the consistency of the sauce , about 5 minutes . <end> ', 'preheat oven to 350 degrees f 175 degrees c . line a baking sheet with aluminum foil . place the chicken breasts in a shallow dish . sprinkle the garlic powder over the chicken , and coat with the remaining onion mixture . place the chicken breasts in the prepared baking dish . bake in the preheated oven until the chicken is no longer pink in the center , about 30 minutes . an instant read thermometer inserted into the center should read at least 165 degrees f 74 degrees c . <end> ', 'preheat oven to 350 degrees f 175 degrees c . grease cookie sheets . in a large bowl , cream together the butter and sugar until light and fluffy . beat in the eggs one at a time , then stir in the vanilla . sift the flour , baking soda , and salt together in a bowl . stir in the flour mixture until just incorporated . pour the batter into the prepared pan . bake in the preheated oven until a toothpick inserted into the center comes out clean , about 30 minutes . cool in the pan for 10 minutes before removing to cool completely on a wire rack . <end> ', 'in a medium bowl , cream together the butter and sugar until smooth . stir in the vanilla and the vanilla . pour into the prepared pan . chill until set , about 1 hour . <end> ', 'preheat oven to 350 degrees f 175 degrees c . grease a 9x13 inch baking dish . in a large bowl , combine the cake mix , water , sugar , and salt . mix well . pour in the milk and milk . mix well and pour into the prepared pan . bake in the preheated oven until a toothpick inserted into the center comes out clean , about 30 minutes . cool in the pan for 10 minutes before removing to cool completely on a wire rack . <end> ', 'preheat oven to 350 degrees f 175 degrees c . grease a 9x13 inch baking dish . in a large bowl , cream together the butter and sugar until light and fluffy . beat in the eggs one at a time , then stir in the vanilla . combine the flour , baking soda , and salt stir into the creamed mixture . drop by rounded spoonfuls onto the prepared cookie sheets . bake for 8 to 10 minutes in the preheated oven , until the edges are golden brown . cool on wire racks . <end> ', 'place the cranberries in a large pot and cover with water . bring to a boil , then reduce heat to medium low , and simmer until the water is absorbed , about 20 minutes . remove from heat , and stir in the vanilla . pour in the lemon juice , and vanilla extract . pour into a serving bowl , and refrigerate until chilled , at least 1 hour . <end> ', 'preheat oven to 350 degrees f 175 degrees c . place the chicken breasts in a large , deep skillet . cook over medium high heat until evenly brown . drain , crumble and set aside . in a large bowl , mix together the flour , baking soda , and salt . stir in the flour mixture and mix until well blended . pour into a 9x13 inch baking dish . bake in the preheated oven until the top is golden brown , about 30 minutes . <end> ', 'preheat oven to 350 degrees f 175 degrees c . grease a 9x13 inch baking dish . in a large bowl , cream together the butter and sugar until light and fluffy . beat in the eggs one at a time , then stir in the vanilla . combine the flour , baking soda , and salt stir into the creamed mixture . drop by rounded spoonfuls onto the prepared cookie sheets . bake for 8 to 10 minutes in the preheated oven , until golden brown . cool on wire racks . <end> ', 'preheat oven to 350 degrees f 175 degrees c . place chicken in a large , deep skillet . cook over medium high heat until evenly brown . drain , crumble and set aside . in a large bowl , mix together the ground beef , onion , onion , garlic , and garlic . mix in the chicken and onion . pour in the chicken . cover , and bake for 30 minutes . <end> ', 'preheat oven to 350 degrees f 175 degrees c . grease and flour a 9 inch round cake pan . in a large bowl , cream together the butter and sugar until light and fluffy . beat in the eggs one at a time , then stir in the vanilla . sift the flour and baking soda and mix into the creamed mixture . drop by teaspoonfuls onto the prepared cookie sheets . bake for 8 to 10 minutes in the preheated oven , until golden brown . cool on wire racks . <end> ', 'preheat oven to 350 degrees f 175 degrees c . place chicken breasts in a 9x13 inch baking dish . pour the soup mixture over the chicken . bake in the preheated oven until the chicken is no longer pink in the center , about 30 minutes . an instant read thermometer inserted into the center should read at least 165 degrees f 74 degrees c . <end> ', 'preheat oven to 350 degrees f 175 degrees c . grease and flour a 9 inch round cake pan . in a large bowl , cream together the butter and sugar until light and fluffy . beat in the eggs one at a time , then stir in the vanilla . sift the flour , baking soda , and salt together in a bowl . stir in the flour mixture until just incorporated . pour batter into the prepared pan . bake in the preheated oven until a toothpick inserted into the center comes out clean , about 30 minutes . cool in the pan for 10 minutes before removing to cool completely on a wire rack . <end> ', 'preheat oven to 350 degrees f 175 degrees c . lightly grease a 9x13 inch baking dish . in a large bowl , mix together the flour , baking soda , and salt . add the remaining 1/4 cup of the flour mixture and mix well . pour into the prepared loaf pan . bake in the preheated oven until the top is golden brown , about 15 minutes . <end> ', 'preheat oven to 350 degrees f 175 degrees c . grease a 9x13 inch baking pan . in a large bowl , cream together the butter and sugar until light and fluffy . beat in the eggs one at a time , then stir in the vanilla . sift the flour , baking soda , and salt together in a bowl . stir in the flour mixture until just incorporated . pour the batter into the prepared pan . bake in the preheated oven until a toothpick inserted into the center comes out clean , about 30 minutes . cool in the pan for 10 minutes before removing to cool completely on a wire rack . <end> ', 'place the roast in a large pot of lightly salted water . bring to a boil , and cook for about 5 minutes . remove from heat , and let cool slightly . place the bacon in a large , deep skillet . cook over medium high heat until evenly brown . drain , crumble and set aside . in a large bowl , mix together the mayonnaise , mayonnaise , mustard , and garlic powder . mix in the mayonnaise , and serve . <end> ', 'mix mayonnaise , mustard , and black pepper together in a bowl . <end> ', 'preheat oven to 350 degrees f 175 degrees c . in a large bowl , cream together the butter and sugar until smooth . stir in the eggs , one at a time , then stir in the flour , salt , and pepper . mix in the flour mixture until just incorporated . pour the batter into the prepared pan . bake in the preheated oven until a toothpick inserted into the center comes out clean , about 30 minutes . <end> ', 'in a medium bowl , mix together the mayonnaise , mustard , mustard , and garlic powder . mix in the mayonnaise , and season with salt and pepper . chill in the refrigerator until serving . <end> ', 'heat the oil in a large skillet over medium high heat . add the onion and cook until the onion is translucent , about 5 minutes . stir in the onion and cook until the mixture is heated through , about 5 minutes . pour the sauce over the chicken and toss to coat . <end> ', 'heat the oil in a large skillet over medium heat . add the onion and cook until the onion is translucent , about 5 minutes . stir in the onion and garlic cook and stir until the onion is translucent , about 5 minutes . stir in the onion and cook until the mixture is thick and the sauce is thickened , about 5 minutes . stir in the chicken broth and the chicken broth . cook , stirring occasionally , until the sauce is thickened and the sauce is thickened , about 5 minutes . <end> ', 'preheat oven to 350 degrees f 175 degrees c . grease a 9x13 inch baking pan . in a large bowl , mix together the flour , sugar , baking powder , and salt . add the eggs , and mix well . pour the mixture into the prepared pan . bake in the preheated oven until the crust is golden brown , about 15 minutes . cool in the pan for 10 minutes before removing to a wire rack to cool completely . <end> ', 'preheat oven to 350 degrees f 175 degrees c . grease and flour a 9 inch round cake pan . in a large bowl , cream together the butter and sugar until light and fluffy . beat in the eggs one at a time , then stir in the vanilla . sift the flour , baking soda , and salt together in a bowl . stir in the flour mixture until just incorporated . pour batter into the prepared pan . bake in the preheated oven until a toothpick inserted into the center comes out clean , about 30 minutes . cool in the pan for 10 minutes before removing to cool completely on a wire rack . <end> ', 'preheat oven to 350 degrees f 175 degrees c . grease cookie sheets . in a large bowl , cream together the butter and sugar until light and fluffy . beat in the egg whites until stiff peaks form . fold in the flour mixture . drop by teaspoonfuls onto the prepared cookie sheets . bake for 8 to 10 minutes in the preheated oven , until golden brown . cool on wire racks . <end> ', 'preheat oven to 350 degrees f 175 degrees c . place chicken breasts in a 9x13 inch baking dish . pour in the soy sauce , and season with salt and pepper . pour the mixture over the chicken breasts . bake in the preheated oven until the chicken is no longer pink in the center , about 30 minutes . an instant read thermometer inserted into the center should read at least 165 degrees f 74 degrees c . <end> ', 'combine sugar , water , sugar , and cinnamon in a saucepan bring to a boil . reduce heat to low and simmer until the mixture thickens , about 20 minutes . <end> ', 'preheat oven to 350 degrees f 175 degrees c . place the potatoes in a large bowl , and pour in the olive oil . season with salt and pepper . place the chicken breasts in the prepared baking dish . bake in the preheated oven until the chicken is no longer pink in the center , about 30 minutes . an instant read thermometer inserted into the center should read at least 165 degrees f 74 degrees c . <end> ', 'preheat oven to 350 degrees f 175 degrees c . in a large bowl , mix together the mayonnaise , onion , onion , garlic , and garlic . mix in the sour cream and the cheese . spread the mixture into a 9x13 inch baking dish . bake in the preheated oven until the cheese is melted and the cheese is melted , about 15 minutes . <end> ', 'preheat oven to 350 degrees f 175 degrees c . line a baking sheet with parchment paper . spread bread crumbs into a bowl . spread bread crumbs into a shallow dish . sprinkle with paprika , salt , and pepper . mix together the flour , and salt together in a bowl . dip each chicken breast into the egg mixture , then roll the dough into a ball . place the balls on the prepared baking sheet . bake in the preheated oven until the edges are golden brown , about 15 minutes . <end> ', 'preheat oven to 350 degrees f 175 degrees c . place the chicken breasts in a large bowl . pour in the soy sauce , brown sugar , garlic , and garlic powder . pour the mixture over the chicken and toss to coat . cover and bake for 30 minutes . <end> ', 'in a medium saucepan , combine the sugar , corn syrup , and corn syrup . cook over medium heat , stirring occasionally , until the mixture is thick and smooth . remove from heat and stir in the vanilla . pour into the prepared pan . chill until set , about 1 hour . <end> ', 'preheat oven to 350 degrees f 175 degrees c . grease cookie sheets . in a large bowl , cream together the butter and sugar until light and fluffy . beat in the eggs one at a time , then stir in the vanilla . sift the flour and baking soda and mix into the creamed mixture . drop by teaspoonfuls onto the prepared cookie sheets . bake for 8 to 10 minutes in the preheated oven , until the edges are golden brown . cool on wire racks . <end> ', 'preheat oven to 350 degrees f 175 degrees c . in a medium bowl , mix together the mayonnaise , mustard , mustard , and garlic powder . mix in the ground beef , onion , and onion . mix well and pour into a 9x13 inch baking dish . bake in the preheated oven until the cheese is melted and the cheese is melted , about 30 minutes . <end> ', 'preheat oven to 350 degrees f 175 degrees c . line a baking sheet with aluminum foil . place the chicken breasts in a shallow baking dish . sprinkle the remaining onion mixture over the top of the bread . bake in the preheated oven until the chicken is no longer pink in the center , about 30 minutes . an instant read thermometer inserted into the center should read at least 165 degrees f 74 degrees c . <end> ', 'preheat oven to 350 degrees f 175 degrees c . place chicken in a large , deep skillet . cook over medium high heat until evenly brown . drain , crumble and set aside . in a large bowl , mix together the ground beef , onion , onion , garlic , and pepper . mix in the sour cream and sour cream . spread the mixture into a 9x13 inch baking dish . bake in the preheated oven until the cheese is melted and the cheese is melted , about 30 minutes . <end> ', 'preheat oven to 350 degrees f 175 degrees c . grease a 9x13 inch baking dish . in a large bowl , mix together the flour , salt , pepper , and salt . mix in the flour mixture until well blended . pour into a 9x13 inch baking dish . bake in the preheated oven until the cheese is melted and the cheese is melted , about 30 minutes . <end> ', 'combine the sugar , sugar , and cinnamon in a saucepan over medium heat cook and stir until the sugar has dissolved , about 5 minutes . pour the mixture into the saucepan , and stir in the remaining 1 cup of sugar . bring to a boil , and cook until the mixture thickens , about 5 minutes . remove from heat and stir in the vanilla . pour into the prepared pan . allow to cool , then cut into squares . <end> ', 'melt butter in a saucepan over medium heat . stir in sugar , and cook until soft , about 5 minutes . stir in the sugar , vanilla extract , and salt . bring to a boil , then reduce heat to low , and simmer until the mixture thickens , about 5 minutes . remove from heat and stir in the vanilla . pour into the prepared pan . bake for 20 minutes in the preheated oven , or until a toothpick inserted into the center of the cake comes out clean . cool in the pan for 10 minutes before removing to cool completely on a wire rack . <end> ', 'melt butter in a saucepan over medium heat . stir in sugar , and cook until soft , about 5 minutes . stir in the vanilla and continue to cook until the mixture thickens , about 5 minutes . stir in the vanilla and continue to cook until the mixture thickens , about 5 minutes . remove from heat and stir in the vanilla . pour into the prepared pan . let cool , then cut into squares . <end> ', 'combine the watermelon , onion , garlic , salt , and pepper in a bowl . add the olive oil , garlic , and garlic powder to taste . cover and refrigerate for at least 1 hour before serving . <end> ', 'mix olive oil , garlic , and garlic together in a bowl . <end> ', 'preheat oven to 350 degrees f 175 degrees c . place the chicken breasts in a large , deep skillet . cook over medium high heat until evenly brown . drain , and set aside . place the chicken in a large , deep skillet . cook over medium high heat until evenly brown . drain , crumble and set aside . in a large bowl , mix together the mayonnaise , mayonnaise , mustard , and garlic . season with salt and pepper . <end> ', 'place the potatoes into a large pot and cover with salted water bring to a boil . reduce heat to medium low and simmer until tender , about 20 minutes . drain and mash with a fork . stir in the onion , onion , and garlic powder . mix in the flour , and cook until the mixture thickens , about 5 minutes . stir in the sour cream and the mixture . pour the mixture into a 9x13 inch baking dish . bake in the preheated oven until the chicken is no longer pink in the center , about 30 minutes . an instant read thermometer inserted into the center should read at least 165 degrees f 74 degrees c . <end> ', 'preheat oven to 350 degrees f 175 degrees c . place the potatoes into a large bowl . pour in the water , and season with salt and pepper . bring to a boil , then reduce heat to medium low , cover , and simmer until the potatoes are tender , about 20 minutes . drain and mash . in a large bowl , mix together the flour , salt , and pepper . stir in the flour mixture until well blended . pour into the prepared loaf pan . bake in the preheated oven until the bacon is crisp and the bacon is crisp , about 30 minutes . <end> ', 'preheat oven to 350 degrees f 175 degrees c . spray a baking sheet with cooking spray . place bacon in a large skillet over medium high heat . cook and stir until the garlic is translucent , about 5 minutes . add the garlic and garlic cook and stir until the onion is translucent , about 5 minutes . stir in the garlic and cook until the onion is tender , about 5 minutes . pour the sauce over the chicken and bake for 30 minutes . <end> ', 'place the chicken in a large pot and cover with salted water bring to a boil . reduce heat to medium low and simmer until the rice is tender , about 20 minutes . drain and allow to cool . in a large bowl , mix together the mayonnaise , mayonnaise , mustard , and garlic powder . add the garlic , and salt to taste . mix well . <end> ', 'preheat oven to 350 degrees f 175 degrees c . grease and flour a 9 inch round cake pan . in a large bowl , cream together the butter and sugar until light and fluffy . beat in the eggs one at a time , then stir in the vanilla . sift the flour , baking soda , and salt together in a bowl . stir in the flour mixture until just incorporated . pour batter into the prepared pan . bake in the preheated oven until a toothpick inserted into the center comes out clean , about 30 minutes . cool in the pan for 10 minutes before removing to cool completely on a wire rack . <end> ', 'in a large saucepan , combine sugar , corn syrup , and salt . bring to a boil , and cook until the sugar dissolves , about 5 minutes . stir in the sugar , and continue to boil for 5 minutes . remove from heat and stir in the vanilla . pour into the prepared pan . let cool , then cut into squares . <end> ', 'preheat oven to 350 degrees f 175 degrees c . lightly grease a baking sheet . in a large bowl , mix together the flour , salt , pepper , and salt . mix in the flour mixture until well blended . roll dough into a ball , and place on a lightly greased baking sheet . bake in the preheated oven until golden brown , about 15 minutes . <end> ', 'preheat oven to 350 degrees f 175 degrees c . in a medium bowl , mix together the mayonnaise , mayonnaise , mustard , and mustard . mix in the sour cream and sour cream . spread the mixture into a 9x13 inch baking dish . bake in the preheated oven until the cheese is melted and the cheese is melted , about 30 minutes . <end> ', 'place the roast in a large pot of lightly salted water . bring to a boil , and cook for about 5 minutes . remove from the heat , and let stand for 5 minutes . drain the bacon and the liquid from the pan and add the garlic and salt . cook over medium heat until the liquid has reduced to the consistency of the sauce , about 5 minutes . <end> ', 'preheat oven to 350 degrees f 175 degrees c . grease a 9x13 inch baking pan . in a large bowl , cream together the butter and sugar until light and fluffy . beat in the eggs one at a time , then stir in the vanilla . sift the flour , baking soda , and salt together in a bowl . stir in the flour mixture until just incorporated . pour the batter into the prepared pan . bake in the preheated oven until a toothpick inserted into the center comes out clean , about 30 minutes . <end> ', 'preheat oven to 350 degrees f 175 degrees c . line a baking sheet with aluminum foil . place the bacon in a large , deep skillet . cook over medium high heat until evenly brown . drain , crumble and set aside . in a large bowl , mix together the flour , salt , pepper , and garlic powder . mix in the flour mixture , and mix well . shape into a ball , and roll in the flour mixture to coat . place the dough in a large bowl and pour the batter into the prepared baking dish . bake in the preheated oven until the chicken is no longer pink in the center and the juices run clear , about 30 minutes . an instant read thermometer inserted into the center should read at least 165 degrees f 74 degrees c . <end> ', 'beat butter and sugar together in a bowl until smooth . beat in the vanilla and vanilla . pour into the prepared pan . bake in the preheated oven until a toothpick inserted into the center comes out clean , about 30 minutes . cool in the pan for 10 minutes before removing to cool completely on a wire rack . <end> ', 'place the roast in a large pot of lightly salted water . bring to a boil , and cook for about 5 minutes . remove from the heat , and let cool slightly . place the bacon in a large , deep skillet . cook over medium high heat until evenly brown . drain , crumble and set aside . in a large bowl , mix together the mayonnaise , mayonnaise , mustard , and garlic powder . season with salt and pepper . toss to coat . <end> ', 'beat cream cheese , sugar , and vanilla extract together in a bowl until smooth . spread mixture evenly over the top of the cake . bake in the preheated oven until a toothpick inserted into the center comes out clean , about 30 minutes . cool in the pan for 10 minutes before removing to cool completely on a wire rack . <end> ', 'preheat oven to 350 degrees f 175 degrees c . grease and flour a 9 inch round cake pan . in a large bowl , cream together the butter and sugar until light and fluffy . beat in the eggs one at a time , then stir in the vanilla . sift the flour , baking soda , and salt together in a bowl . stir in the flour mixture until just incorporated . pour batter into the prepared pan . bake in the preheated oven until a toothpick inserted into the center comes out clean , about 30 minutes . cool in the pan for 10 minutes before removing to cool completely on a wire rack . <end> ', 'preheat oven to 350 degrees f 175 degrees c . place the chicken breasts in a large , deep skillet . cook over medium high heat until evenly brown . drain , crumble and set aside . in a large bowl , mix together the flour , salt , pepper , and garlic powder . mix in the flour , salt , and pepper . mix in the flour mixture until well blended . pour into a 9x13 inch baking dish . bake in the preheated oven until the chicken is no longer pink in the center and the juices run clear , about 30 minutes . an instant read thermometer inserted into the center should read at least 165 degrees f 74 degrees c . <end> ', 'preheat oven to 350 degrees f 175 degrees c . line a baking sheet with parchment paper . beat butter , sugar , and baking powder together in a bowl until smooth . beat in eggs , vanilla extract , and vanilla extract . pour into prepared pan . bake in the preheated oven until a toothpick inserted into the center comes out clean , about 30 minutes . cool in the pan for 10 minutes before removing to cool completely on a wire rack . <end> ', 'preheat oven to 350 degrees f 175 degrees c . grease and flour a 9 inch round cake pan . in a large bowl , cream together the butter and sugar until light and fluffy . beat in the eggs one at a time , then stir in the vanilla . sift the flour , baking soda , and salt together in a bowl . stir in the flour mixture until just incorporated . pour batter into the prepared pan . bake in the preheated oven until a toothpick inserted into the center comes out clean , about 30 minutes . cool in the pan for 10 minutes before removing to cool completely on a wire rack . <end> ', 'preheat oven to 350 degrees f 175 degrees c . place the chicken breasts in a large , deep skillet . cook over medium high heat until evenly brown . drain , crumble and set aside . in a large bowl , mix together the mayonnaise , mayonnaise , and mustard . spread the mixture into the prepared baking dish . sprinkle the remaining cheese over the top of the bread . cover the dish with aluminum foil . bake in the preheated oven until the cheese is melted and the cheese is melted , about 15 minutes . <end> ', 'preheat oven to 350 degrees f 175 degrees c . line a baking sheet with parchment paper . beat eggs , sugar , and vanilla extract together in a bowl until smooth . stir in the flour and baking powder . mix well . pour batter into the prepared pan . bake in the preheated oven until a toothpick inserted into the center comes out clean , about 30 minutes . cool in the pan for 10 minutes before removing to cool completely on a wire rack . <end> ', 'preheat oven to 350 degrees f 175 degrees c . place potatoes in a large pot and cover with salted water . bring to a boil , and cook until tender , about 15 minutes . drain and transfer to a large bowl . mash potatoes with a fork , and add to the bowl . add eggs , salt , and pepper . mix well . add the potatoes and potatoes , and toss to coat . cover and refrigerate until chilled , at least 1 hour . <end> ', 'preheat oven to 350 degrees f 175 degrees c . grease a baking sheet . in a large bowl , cream together the butter and sugar until light and fluffy . beat in the eggs one at a time , then stir in the vanilla . pour the batter into the prepared pan . bake in the preheated oven until a toothpick inserted into the center comes out clean , about 30 minutes . cool in the pan for 10 minutes before removing to cool completely on a wire rack . <end> ', 'preheat oven to 350 degrees f 175 degrees c . grease a 9x13 inch baking dish . in a large bowl , mix together the flour , salt , and pepper . mix in the flour mixture until well blended . pour into a 9x13 inch baking dish . bake in the preheated oven until the cheese is melted and the cheese is melted , about 30 minutes . <end> ', 'preheat oven to 350 degrees f 175 degrees c . lightly grease a baking sheet . in a large bowl , cream together the butter and sugar until smooth . stir in the flour , salt , and pepper . mix in the flour mixture until well blended . pour into the prepared loaf pan . bake in the preheated oven until a toothpick inserted into the center comes out clean , about 30 minutes . <end> ', 'preheat oven to 350 degrees f 175 degrees c . lightly grease a baking sheet . in a medium bowl , mix together the ground beef , onion , garlic , and pepper . spread the mixture evenly over the bread slices . bake in the preheated oven until the cheese is melted and the cheese is melted , about 15 minutes . <end> ', 'melt butter in a saucepan over medium heat . stir in sugar , and cook until soft , about 5 minutes . stir in the vanilla and continue to cook until the mixture thickens , about 5 minutes . stir in the vanilla and continue to cook until the mixture thickens , about 5 minutes . remove from heat and stir in the vanilla . pour into the prepared pan . let cool , then cut into squares . <end> ', 'bring a large pot of lightly salted water to a boil . add pasta and cook for 8 to 10 minutes or until al dente drain . in a large bowl , combine the ground beef , onion , onion , garlic , and garlic . mix well . pour into a large bowl . pour the sauce over the pasta and toss to coat . <end> ', 'place the rice , onion , and onion in a large bowl . stir in the mayonnaise , mayonnaise , and mustard . pour into a serving dish and refrigerate until chilled , at least 1 hour . <end> ', 'heat olive oil in a large skillet over medium heat . cook and stir onion , garlic , and garlic in the hot oil until fragrant , about 5 minutes . add garlic cook and stir until fragrant , about 5 minutes . add garlic and cook until the onion is tender , about 5 minutes . stir in the garlic , and cook until the mixture is reduced to the consistency of the sauce , about 5 minutes . <end> ', 'preheat oven to 350 degrees f 175 degrees c . lightly grease a baking sheet . in a large bowl , mix together the flour , salt , and salt . add the eggs , eggs , and milk . mix well . pour into a 9x13 inch baking dish . bake in the preheated oven until the cheese is melted and the cheese is melted , about 30 minutes . <end> ', 'heat oil in a large skillet over medium heat . add the onion and cook until the onion is translucent , about 5 minutes . stir in the onion , and cook until the onion is tender , about 5 minutes . stir in the garlic , and cook until the onion is tender , about 5 minutes . stir in the garlic , and cook until the onion is tender , about 5 minutes . stir in the garlic , and cook until the mixture is thick and the sauce is thickened , about 5 minutes . <end> ', 'preheat oven to 350 degrees f 175 degrees c . place the potatoes in a large pot and cover with salted water bring to a boil . reduce heat to medium low and simmer until tender , about 20 minutes . drain and mash potatoes with a fork . stir in the onion , onion , and garlic powder . add the potatoes , and cook until the potatoes are tender . drain , and set aside . in a large bowl , mix together the flour , baking soda , and salt . stir in the flour mixture and mix until well blended . pour into a 9x13 inch baking dish . bake in the preheated oven until the chicken is no longer pink in the center and the juices run clear , about 30 minutes . an instant read thermometer inserted into the center should read at least 165 degrees f 74 degrees c . <end> ', 'preheat oven to 350 degrees f 175 degrees c . place chicken in a large , deep skillet . cook over medium high heat until evenly brown . drain , crumble and set aside . in a large bowl , mix together the ground beef , onion , and onion . mix well and pour into a 9x13 inch baking dish . bake in the preheated oven until the cheese is melted and the cheese is melted , about 15 minutes . <end> ', 'preheat oven to 350 degrees f 175 degrees c . place chicken breasts in a 9x13 inch baking dish . pour in the soy sauce , and season with salt and pepper . pour the chicken broth over the chicken . cover , and bake for 20 minutes . <end> ', 'preheat oven to 350 degrees f 175 degrees c . grease cookie sheets . in a large bowl , cream together the butter and sugar until light and fluffy . beat in the eggs one at a time , then stir in the vanilla . sift the flour , baking soda , and salt together in a bowl . stir in the flour mixture until just incorporated . pour batter into the prepared pan . bake in the preheated oven until a toothpick inserted into the center comes out clean , about 30 minutes . cool in the pan for 10 minutes before removing to cool completely on a wire rack . <end> ', 'preheat oven to 350 degrees f 175 degrees c . lightly grease a 9x13 inch baking dish . in a medium bowl , mix together the mayonnaise , mayonnaise , mustard , and garlic powder . mix in the flour mixture , and mix well . pour into a 9x13 inch baking dish . bake in the preheated oven until the top is golden brown , about 15 minutes . <end> ', 'place the eggs in a large pot and cover with water . bring to a boil , and cook until the potatoes are tender , about 5 minutes . drain and discard the grease . stir in the rice , onion , and salt . bring to a boil , then reduce heat to medium low , cover , and simmer until the rice is tender , about 20 minutes . <end> ', 'beat eggs in a bowl until smooth . beat in eggs , vanilla extract , and vanilla extract . add flour , baking powder , and salt . mix well . pour batter into prepared pan . bake in the preheated oven until a toothpick inserted into the center comes out clean , about 30 minutes . cool in the pan for 10 minutes before removing to cool completely on a wire rack . <end> ', 'preheat oven to 350 degrees f 175 degrees c . lightly grease a 9x13 inch baking dish . in a large bowl , mix together the flour , salt , and pepper . mix in the flour mixture until well blended . roll dough into a ball , and place on a baking sheet . bake in the preheated oven until golden brown , about 15 minutes . <end> ', 'preheat oven to 350 degrees f 175 degrees c . place chicken breasts in a 9x13 inch baking dish . pour in the soy sauce , and season with salt and pepper . pour in the chicken stock . cover , and cook on high for 30 minutes . drain the bacon slices on paper towels . place the chicken breasts in a large bowl . pour the sauce over the chicken and toss to coat . cover and cook on low for 6 to 8 hours . <end> ', 'preheat oven to 350 degrees f 175 degrees c . place bacon in a large , deep skillet . cook over medium high heat until evenly brown . drain , crumble and set aside . in a large bowl , mix together the mayonnaise , mayonnaise , mustard , and garlic . mix in the mayonnaise , and season with salt and pepper . spread the mixture evenly over the bread slices . bake in the preheated oven until the cheese is melted and the cheese is melted , about 30 minutes . <end> ', 'preheat oven to 350 degrees f 175 degrees c . lightly grease a 9x13 inch baking dish . in a large bowl , mix together the flour , salt , and pepper . mix in the flour mixture until well blended . pour into a 9x13 inch baking dish . bake in the preheated oven until the top is golden brown , about 30 minutes . <end> ', 'preheat oven to 350 degrees f 175 degrees c . lightly grease a 9x13 inch baking dish . in a medium bowl , mix together the ground beef , onion , onion , onion , and garlic . mix in the sour cream and sour cream . spread the mixture into a 9x13 inch baking dish . bake in the preheated oven until the top is golden brown , about 30 minutes . <end> ', 'preheat oven to 350 degrees f 175 degrees c . line a baking sheet with aluminum foil . place bacon in a large , deep skillet . cook over medium high heat until evenly brown . drain , crumble and set aside . in a large bowl , mix together the ground beef , onion , onion , onion , and garlic . mix in the sour cream and sour cream . spread evenly into the prepared baking dish . bake in the preheated oven until the cheese is melted and the cheese is melted , about 30 minutes . <end> ', 'preheat oven to 350 degrees f 175 degrees c . grease a 9x13 inch baking pan . in a large bowl , combine the flour , sugar , baking soda , and salt . mix well . pour into a 9x13 inch baking dish . bake in the preheated oven until the edges of the cake is golden brown , about 30 minutes . <end> ', 'preheat oven to 350 degrees f 175 degrees c . place bacon in a large , deep skillet . cook over medium high heat until evenly brown . drain , crumble and set aside . in a large bowl , mix together the flour , salt , and pepper . mix in the flour mixture until well blended . pour into a 9x13 inch baking dish . bake in the preheated oven until the top is golden brown , about 30 minutes . <end> ', 'preheat oven to 350 degrees f 175 degrees c . place the chicken breasts in a large , deep skillet . cook over medium high heat until evenly brown . drain , crumble and set aside . in a large bowl , mix together the ground beef , onion , onion , garlic , salt , and pepper . mix in the sour cream and the cheese . spread the mixture into a 9x13 inch baking dish . bake in the preheated oven until the cheese is melted and the cheese is melted , about 30 minutes . <end> ', 'preheat oven to 350 degrees f 175 degrees c . place the chicken breasts in a large bowl , and pour the olive oil over the chicken . season with salt and pepper . place the chicken breasts in a single layer on the prepared baking sheet . bake in the preheated oven until the bacon is crisp , about 15 minutes . drain the bacon slices on a paper towel lined plate . place the bacon in a large skillet over medium high heat . cook and stir until the garlic is translucent , about 5 minutes . add the garlic and cook until the onion is translucent , about 5 minutes . stir in the garlic and cook until the mixture is reduced to the consistency of the sauce , about 5 minutes . <end> ', 'preheat oven to 350 degrees f 175 degrees c . place chicken in a large baking dish . pour in the soy sauce , brown sugar , garlic , and garlic powder . pour over the chicken breasts . bake in the preheated oven until the chicken is no longer pink in the center , about 30 minutes . an instant read thermometer inserted into the center should read at least 165 degrees f 74 degrees c . <end> ', 'preheat oven to 350 degrees f 175 degrees c . grease and flour a 9 inch round cake pans . in a large bowl , cream together the butter and sugar until light and fluffy . beat in the eggs one at a time , then stir in the vanilla . sift the flour , baking soda , and salt together in a bowl . stir in the flour mixture until just incorporated . pour batter into the prepared pan . bake in the preheated oven until a toothpick inserted into the center comes out clean , about 30 minutes . cool in the pan for 10 minutes before removing to cool completely on a wire rack . <end> ', 'mix the cream cheese , mayonnaise , and lemon juice together in a bowl . stir in the lemon juice , and lemon juice . pour over the mixture and toss to coat . <end> ', 'heat oil in a large saucepan over medium heat . add the onion and cook until the onion is tender , about 5 minutes . stir in the garlic , and cook until the mixture is thick and the liquid has been absorbed , about 5 minutes . stir in the garlic , and cook until the mixture is thick and the liquid has been absorbed , about 5 minutes . stir in the lemon juice , and salt . bring to a boil , then reduce heat to medium low , and simmer until the rice is tender , about 20 minutes . <end> ', 'preheat oven to 350 degrees f 175 degrees c . place the chicken breasts in a large , deep skillet . cook over medium high heat until evenly brown . drain , crumble and set aside . in a large bowl , mix together the ground beef , onion , onion , onion , and garlic . mix in the sour cream and sour cream . spread the mixture into a 9x13 inch baking dish . bake in the preheated oven until the cheese is melted and the cheese is melted , about 30 minutes . <end> ', 'in a medium bowl , cream together the butter and sugar until light and fluffy . beat in the eggs one at a time , beating well after each addition . add the vanilla and vanilla extract . mix in the vanilla . pour into the prepared pan . chill until set , about 1 hour . <end> ', 'whisk together the soy sauce , brown sugar , garlic , garlic , and garlic powder in a bowl . stir in the lemon juice , and season with salt and pepper . <end> ', 'preheat oven to 350 degrees f 175 degrees c . grease cookie sheets . in a large bowl , cream together the butter and sugar until light and fluffy . beat in the eggs one at a time , beating well after each addition . add the flour mixture and mix well . pour batter into the prepared pan . bake in the preheated oven until a toothpick inserted into the center comes out clean , about 30 minutes . cool in the pan for 10 minutes before removing to cool completely on a wire rack . <end> ', 'combine the salt , pepper , garlic powder , garlic powder , salt , and pepper in a bowl . cover and refrigerate for at least 1 hour . preheat an outdoor grill for medium high heat and lightly oil the grate . remove the chicken from the marinade and discard the marinade . grill the steaks for 5 minutes per side , or until the pork is no longer pink in the center and the juices run clear , about 5 minutes per side . an instant read thermometer inserted into the center should read at least 165 degrees f 74 degrees c . <end> ', 'place bacon in a large , deep skillet . cook over medium high heat until evenly brown . drain , crumble and set aside . in a large bowl , mix together the mayonnaise , mayonnaise , mustard , and garlic powder . add the eggs , and mix well . place the chicken in a large bowl , and stir in the sour cream . pour the mixture into the prepared baking dish . bake in the preheated oven until the chicken is no longer pink in the center , about 30 minutes . an instant read thermometer inserted into the center should read at least 165 degrees f 74 degrees c . <end> ', 'preheat oven to 350 degrees f 175 degrees c . place the chicken breasts in a large , deep skillet . cook over medium high heat until evenly brown . drain , crumble and set aside . in a large bowl , mix together the ground beef , onion , onion , and garlic . mix in the sour cream and sour cream . spread the mixture into a 9x13 inch baking dish . bake in the preheated oven until the cheese is melted and the cheese is melted , about 30 minutes . <end> ', 'preheat oven to 350 degrees f 175 degrees c . line a baking sheet with parchment paper . spread bread crumbs onto a baking sheet . bake in the preheated oven until golden brown , about 15 minutes . remove from oven and let cool . cut each slice into quarters . place a slice of bread on each slice of bread . top each with a slice of bread , and place in a single layer on a baking sheet . drizzle with olive oil . sprinkle with salt and pepper . sprinkle with salt and pepper . bake in the preheated oven until the cheese is melted and the cheese is melted , about 15 minutes . <end> ', 'preheat oven to 350 degrees f 175 degrees c . spread cream cheese in a single layer on a baking sheet . bake in the preheated oven until the potatoes are tender , about 20 minutes . an instant read thermometer inserted into the center should read at least 165 degrees f 74 degrees c . <end> ', 'preheat oven to 350 degrees f 175 degrees c . place the chicken breasts in a large , deep skillet . cook over medium high heat until evenly brown . drain , and set aside . in a large bowl , mix together the mayonnaise , mayonnaise , and mustard . spread the mixture into the prepared baking dish . sprinkle the remaining cheese over the top of the bread . cover the dish with aluminum foil . bake in the preheated oven until the cheese is melted and the cheese is melted , about 15 minutes . <end> ', 'preheat oven to 350 degrees f 175 degrees c . place chicken breasts in a 9x13 inch baking dish . sprinkle with salt and pepper . bake in the preheated oven until the chicken is no longer pink in the center , about 30 minutes . an instant read thermometer inserted into the center should read at least 165 degrees f 74 degrees c . <end> ', 'preheat oven to 350 degrees f 175 degrees c . lightly grease a baking sheet . in a large skillet , heat oil over medium heat . cook and stir onion in the hot oil until browned and crumbly , 5 to 7 minutes . add onion and cook until browned , about 5 minutes . add onion and cook until browned , about 5 minutes . add chicken broth , and cook until browned , about 5 minutes . drain excess grease . stir in the macaroni and cheese . cook and stir until the cheese is melted and the mixture is smooth , about 5 minutes . pour the sauce over the chicken and bake for another 15 minutes . <end> ', 'preheat oven to 350 degrees f 175 degrees c . grease and flour a 9 inch round cake pan . in a large bowl , cream together the butter and sugar until light and fluffy . beat in the eggs one at a time , then stir in the vanilla . sift the flour , baking soda , and salt together in a bowl . stir in the flour mixture until just incorporated . pour batter into the prepared pan . bake in the preheated oven until a toothpick inserted into the center comes out clean , about 30 minutes . cool in the pan for 10 minutes before removing to cool completely on a wire rack . <end> ', 'in a medium bowl , cream together the butter and sugar until light and fluffy . beat in the eggs one at a time , beating well after each addition . stir in the vanilla and vanilla . pour into the prepared pan . chill until set , about 1 hour . <end> ', 'preheat oven to 350 degrees f 175 degrees c . line a baking sheet with aluminum foil . place bacon in a large skillet and cook over medium high heat , turning occasionally , until evenly browned , about 10 minutes . drain bacon slices on paper towels . crumble bacon into a large bowl . add onion and garlic powder , and toss to coat . season with salt and pepper . <end> ', 'preheat oven to 350 degrees f 175 degrees c . grease and flour a 9 inch round cake pan . in a large bowl , cream together the butter and sugar until light and fluffy . beat in the eggs one at a time , then stir in the vanilla . sift the flour , baking soda , and salt together in a bowl . stir in the flour mixture until just incorporated . pour batter into the prepared pan . bake in the preheated oven until a toothpick inserted into the center comes out clean , about 30 minutes . cool in the pan for 10 minutes before removing to cool completely on a wire rack . <end> ', 'melt butter in a large skillet over medium heat . cook and stir the brown sugar , butter , and brown sugar in the hot skillet until the sugar has dissolved , about 5 minutes . stir in the sugar , and continue cooking until the sugar has melted and the mixture is smooth , about 5 minutes . stir in the sugar and continue to cook until the mixture thickens , about 5 minutes . remove from heat and stir in the vanilla . pour the mixture into a bowl and set aside . in a large bowl , cream together the butter and sugar until smooth . stir in the vanilla and the vanilla . pour the mixture into the prepared pan . bake in the preheated oven until a toothpick inserted into the center comes out clean , about 30 minutes . <end> ']\n"
          ],
          "name": "stdout"
        }
      ]
    },
    {
      "cell_type": "code",
      "metadata": {
        "id": "pldAwcIvFTMq",
        "colab_type": "code",
        "colab": {
          "base_uri": "https://localhost:8080/",
          "height": 303
        },
        "outputId": "719bcbdf-d1bf-476d-eeee-a86983f9e061"
      },
      "source": [
        "translate(u'<start> water white salt tomatoes oil <end>')"
      ],
      "execution_count": 23,
      "outputs": [
        {
          "output_type": "error",
          "ename": "TypeError",
          "evalue": "ignored",
          "traceback": [
            "\u001b[0;31m---------------------------------------------------------------------------\u001b[0m",
            "\u001b[0;31mTypeError\u001b[0m                                 Traceback (most recent call last)",
            "\u001b[0;32m<ipython-input-23-a215376a425f>\u001b[0m in \u001b[0;36m<module>\u001b[0;34m()\u001b[0m\n\u001b[0;32m----> 1\u001b[0;31m \u001b[0mtranslate\u001b[0m\u001b[0;34m(\u001b[0m\u001b[0;34mu'<start> water white salt tomatoes oil <end>'\u001b[0m\u001b[0;34m)\u001b[0m\u001b[0;34m\u001b[0m\u001b[0;34m\u001b[0m\u001b[0m\n\u001b[0m",
            "\u001b[0;32m<ipython-input-21-e69f0c4f16fe>\u001b[0m in \u001b[0;36mtranslate\u001b[0;34m(input_sentence)\u001b[0m\n\u001b[1;32m     45\u001b[0m \u001b[0;34m\u001b[0m\u001b[0m\n\u001b[1;32m     46\u001b[0m \u001b[0;32mdef\u001b[0m \u001b[0mtranslate\u001b[0m\u001b[0;34m(\u001b[0m\u001b[0minput_sentence\u001b[0m\u001b[0;34m)\u001b[0m\u001b[0;34m:\u001b[0m\u001b[0;34m\u001b[0m\u001b[0;34m\u001b[0m\u001b[0m\n\u001b[0;32m---> 47\u001b[0;31m     \u001b[0mresults\u001b[0m\u001b[0;34m,\u001b[0m \u001b[0minput_sentence\u001b[0m \u001b[0;34m=\u001b[0m \u001b[0mevaluate\u001b[0m\u001b[0;34m(\u001b[0m\u001b[0minput_sentence\u001b[0m\u001b[0;34m)\u001b[0m\u001b[0;34m\u001b[0m\u001b[0;34m\u001b[0m\u001b[0m\n\u001b[0m\u001b[1;32m     48\u001b[0m \u001b[0;34m\u001b[0m\u001b[0m\n\u001b[1;32m     49\u001b[0m     \u001b[0;31m#------------------------\u001b[0m\u001b[0;34m\u001b[0m\u001b[0;34m\u001b[0m\u001b[0;34m\u001b[0m\u001b[0m\n",
            "\u001b[0;32m<ipython-input-21-e69f0c4f16fe>\u001b[0m in \u001b[0;36mevaluate\u001b[0;34m(input_sentence)\u001b[0m\n\u001b[1;32m     23\u001b[0m     \u001b[0;32mfor\u001b[0m \u001b[0mt\u001b[0m \u001b[0;32min\u001b[0m \u001b[0mrange\u001b[0m\u001b[0;34m(\u001b[0m\u001b[0mmax_length_output\u001b[0m\u001b[0;34m)\u001b[0m\u001b[0;34m:\u001b[0m\u001b[0;34m\u001b[0m\u001b[0;34m\u001b[0m\u001b[0m\n\u001b[1;32m     24\u001b[0m         \u001b[0;31m#attention_weights.shape: (batch_size, input_length, 1)(1,16,1)\u001b[0m\u001b[0;34m\u001b[0m\u001b[0;34m\u001b[0m\u001b[0;34m\u001b[0m\u001b[0m\n\u001b[0;32m---> 25\u001b[0;31m         \u001b[0mpredictions\u001b[0m\u001b[0;34m,\u001b[0m \u001b[0mdecoding_hidden\u001b[0m\u001b[0;34m,\u001b[0m \u001b[0mdecoding_state\u001b[0m \u001b[0;34m=\u001b[0m \u001b[0mdecoder\u001b[0m\u001b[0;34m(\u001b[0m\u001b[0mdecoding_input\u001b[0m\u001b[0;34m,\u001b[0m \u001b[0mdecoding_hidden\u001b[0m\u001b[0;34m,\u001b[0m \u001b[0mencoding_outputs\u001b[0m\u001b[0;34m,\u001b[0m \u001b[0mencoding_hidden\u001b[0m\u001b[0;34m,\u001b[0m \u001b[0mdecoding_state\u001b[0m\u001b[0;34m)\u001b[0m\u001b[0;34m\u001b[0m\u001b[0;34m\u001b[0m\u001b[0m\n\u001b[0m\u001b[1;32m     26\u001b[0m \u001b[0;34m\u001b[0m\u001b[0m\n\u001b[1;32m     27\u001b[0m         \u001b[0;31m#predictions.shape: (batch_size, vocab_size)  (1,4935)\u001b[0m\u001b[0;34m\u001b[0m\u001b[0;34m\u001b[0m\u001b[0;34m\u001b[0m\u001b[0m\n",
            "\u001b[0;32m/usr/local/lib/python3.6/dist-packages/tensorflow/python/keras/engine/base_layer.py\u001b[0m in \u001b[0;36m__call__\u001b[0;34m(self, *args, **kwargs)\u001b[0m\n\u001b[1;32m    966\u001b[0m           with base_layer_utils.autocast_context_manager(\n\u001b[1;32m    967\u001b[0m               self._compute_dtype):\n\u001b[0;32m--> 968\u001b[0;31m             \u001b[0moutputs\u001b[0m \u001b[0;34m=\u001b[0m \u001b[0mself\u001b[0m\u001b[0;34m.\u001b[0m\u001b[0mcall\u001b[0m\u001b[0;34m(\u001b[0m\u001b[0mcast_inputs\u001b[0m\u001b[0;34m,\u001b[0m \u001b[0;34m*\u001b[0m\u001b[0margs\u001b[0m\u001b[0;34m,\u001b[0m \u001b[0;34m**\u001b[0m\u001b[0mkwargs\u001b[0m\u001b[0;34m)\u001b[0m\u001b[0;34m\u001b[0m\u001b[0;34m\u001b[0m\u001b[0m\n\u001b[0m\u001b[1;32m    969\u001b[0m           \u001b[0mself\u001b[0m\u001b[0;34m.\u001b[0m\u001b[0m_handle_activity_regularization\u001b[0m\u001b[0;34m(\u001b[0m\u001b[0minputs\u001b[0m\u001b[0;34m,\u001b[0m \u001b[0moutputs\u001b[0m\u001b[0;34m)\u001b[0m\u001b[0;34m\u001b[0m\u001b[0;34m\u001b[0m\u001b[0m\n\u001b[1;32m    970\u001b[0m           \u001b[0mself\u001b[0m\u001b[0;34m.\u001b[0m\u001b[0m_set_mask_metadata\u001b[0m\u001b[0;34m(\u001b[0m\u001b[0minputs\u001b[0m\u001b[0;34m,\u001b[0m \u001b[0moutputs\u001b[0m\u001b[0;34m,\u001b[0m \u001b[0minput_masks\u001b[0m\u001b[0;34m)\u001b[0m\u001b[0;34m\u001b[0m\u001b[0;34m\u001b[0m\u001b[0m\n",
            "\u001b[0;31mTypeError\u001b[0m: call() takes 5 positional arguments but 6 were given"
          ]
        }
      ]
    },
    {
      "cell_type": "code",
      "metadata": {
        "id": "1PlI4OC_FVfU",
        "colab_type": "code",
        "colab": {
          "base_uri": "https://localhost:8080/",
          "height": 154
        },
        "outputId": "f4bd6f1e-ec4a-4b03-809d-3e5b174043c8"
      },
      "source": [
        "translate(u'skinless boneless chicken breast butter condensed cream chicken soup onion finely diced refrigerated biscuit dough torn pieces, ')\n",
        "translate(u'condensed cream mushroom soup package dry onion soup mix water pot roast, ')\n",
        "translate(u'purpose flour baking soda salt butter brown sugar eggs beaten mashed overripe bananas, ')"
      ],
      "execution_count": null,
      "outputs": [
        {
          "output_type": "stream",
          "text": [
            "Input: <start> skinless boneless chicken breast butter condensed cream chicken soup onion finely diced refrigerated biscuit dough torn pieces <end>\n",
            "Predicted translation: preheat oven to 350 degrees c . <end> \n",
            "Input: <start> condensed cream mushroom soup package dry onion soup mix water pot roast <end>\n",
            "Predicted translation: in a slow cooker . <end> \n",
            "Input: <start> purpose flour baking soda salt butter brown sugar eggs beaten mashed overripe bananas <end>\n",
            "Predicted translation: preheat the flour , and salt . in the flour , and salt . in the flour , and salt . in the flour , and salt . in the flour , and salt . in the flour , and salt . in the flour , and salt . in the flour , and salt . in the flour , and salt . in the flour , and salt . in the flour , and salt . in the flour , and salt . in the flour , and salt . in the flour , and salt . in the flour , and salt . in the flour , and salt . in the flour , and salt . in the flour , and salt . in the flour , and salt . in the flour , and salt . in the flour , and salt . in the flour , and salt . in the flour , and salt . in the flour , and salt . in the flour , and salt . in the flour , and salt . in the flour , and salt . in the flour , and salt . in the flour , and salt . in the flour , and salt . in the flour , and salt \n"
          ],
          "name": "stdout"
        },
        {
          "output_type": "execute_result",
          "data": {
            "text/plain": [
              "'preheat the flour , and salt . in the flour , and salt . in the flour , and salt . in the flour , and salt . in the flour , and salt . in the flour , and salt . in the flour , and salt . in the flour , and salt . in the flour , and salt . in the flour , and salt . in the flour , and salt . in the flour , and salt . in the flour , and salt . in the flour , and salt . in the flour , and salt . in the flour , and salt . in the flour , and salt . in the flour , and salt . in the flour , and salt . in the flour , and salt . in the flour , and salt . in the flour , and salt . in the flour , and salt . in the flour , and salt . in the flour , and salt . in the flour , and salt . in the flour , and salt . in the flour , and salt . in the flour , and salt . in the flour , and salt . in the flour , and salt '"
            ]
          },
          "metadata": {
            "tags": []
          },
          "execution_count": 47
        }
      ]
    },
    {
      "cell_type": "code",
      "metadata": {
        "id": "Mj9XCkNiFbTb",
        "colab_type": "code",
        "colab": {}
      },
      "source": [
        ""
      ],
      "execution_count": null,
      "outputs": []
    }
  ]
}